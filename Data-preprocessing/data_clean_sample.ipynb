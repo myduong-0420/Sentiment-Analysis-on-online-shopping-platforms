{
 "cells": [
  {
   "cell_type": "markdown",
   "id": "dd6f2eb7-78a9-4fed-a0ad-02727fbe3f0c",
   "metadata": {},
   "source": [
    "# Import original data"
   ]
  },
  {
   "cell_type": "code",
   "execution_count": 1,
   "id": "d34cd44e-68dd-4ada-b1ea-ac21b6b3f57a",
   "metadata": {},
   "outputs": [],
   "source": [
    "import pandas as pd"
   ]
  },
  {
   "cell_type": "code",
   "execution_count": 11,
   "id": "77b7d5aa-915d-44ef-81dd-aa8db81f7389",
   "metadata": {},
   "outputs": [],
   "source": [
    "pd.set_option(\"display.max_colwidth\", 100)\n",
    "pd.set_option(\"display.max_columns\", 21)"
   ]
  },
  {
   "cell_type": "code",
   "execution_count": 3,
   "id": "c1e501eb-a996-4969-aa46-726aef5a5c37",
   "metadata": {},
   "outputs": [],
   "source": [
    "df_merzy = pd.read_excel('Shopee_data/merzy/merzy.xlsx')"
   ]
  },
  {
   "cell_type": "code",
   "execution_count": 4,
   "id": "1b8f3841-1b70-4d67-9b7f-86d51b5c9620",
   "metadata": {},
   "outputs": [],
   "source": [
    "merzy_paths = ['Shopee_data/merzy/merzy.xlsx', 'Shopee_data/merzy/merzy 1.xlsx', 'Shopee_data/merzy/merzy 2.xlsx', \n",
    "               'Shopee_data/merzy/merzy 3.xlsx', 'Shopee_data/merzy/merzy 4.xlsx', 'Shopee_data/merzy/merzy 5.xlsx', 'Shopee_data/merzy/merzy 6.xlsx']\n",
    "dfs = []\n",
    "for path in merzy_paths:\n",
    "    df = pd.read_excel(path)\n",
    "    dfs.append(df)"
   ]
  },
  {
   "cell_type": "code",
   "execution_count": 5,
   "id": "8342163c-5585-4616-9549-5ee97d8f7617",
   "metadata": {},
   "outputs": [],
   "source": [
    "merzy_df = pd.concat(dfs, ignore_index=True)"
   ]
  },
  {
   "cell_type": "code",
   "execution_count": 6,
   "id": "a0ef596a-e407-4db0-9935-326994638c14",
   "metadata": {},
   "outputs": [],
   "source": [
    "merzy_df.to_excel(\"merzy_data_og.xlsx\", index=False)"
   ]
  },
  {
   "cell_type": "code",
   "execution_count": 14,
   "id": "791b5c1b-5280-4a32-9c0c-7f4a293b9132",
   "metadata": {},
   "outputs": [
    {
     "data": {
      "text/plain": [
       "(19837, 21)"
      ]
     },
     "execution_count": 14,
     "metadata": {},
     "output_type": "execute_result"
    }
   ],
   "source": [
    "df_merzy = pd.read_excel(\"merzy_data_og.xlsx\")\n",
    "df_merzy.shape"
   ]
  },
  {
   "cell_type": "code",
   "execution_count": 15,
   "id": "92650545-4db9-424b-ac90-712087d75db0",
   "metadata": {},
   "outputs": [
    {
     "data": {
      "text/html": [
       "<div>\n",
       "<style scoped>\n",
       "    .dataframe tbody tr th:only-of-type {\n",
       "        vertical-align: middle;\n",
       "    }\n",
       "\n",
       "    .dataframe tbody tr th {\n",
       "        vertical-align: top;\n",
       "    }\n",
       "\n",
       "    .dataframe thead th {\n",
       "        text-align: right;\n",
       "    }\n",
       "</style>\n",
       "<table border=\"1\" class=\"dataframe\">\n",
       "  <thead>\n",
       "    <tr style=\"text-align: right;\">\n",
       "      <th></th>\n",
       "      <th>Unnamed: 0</th>\n",
       "      <th>Unnamed: 1</th>\n",
       "      <th>Author</th>\n",
       "      <th>Date</th>\n",
       "      <th>Rating</th>\n",
       "      <th>Rating Delivery Service</th>\n",
       "      <th>Rating Product Quality</th>\n",
       "      <th>Rating Seller Service</th>\n",
       "      <th>Review</th>\n",
       "      <th>Version</th>\n",
       "      <th>Oversea Shopping</th>\n",
       "      <th>Region</th>\n",
       "      <th>Picture included</th>\n",
       "      <th>Photos</th>\n",
       "      <th>Videos</th>\n",
       "      <th>Profile Url</th>\n",
       "      <th>Review Url</th>\n",
       "      <th>Unnamed: 17</th>\n",
       "      <th>Unnamed: 18</th>\n",
       "      <th>Unnamed: 19</th>\n",
       "      <th>(view source)</th>\n",
       "    </tr>\n",
       "  </thead>\n",
       "  <tbody>\n",
       "    <tr>\n",
       "      <th>0</th>\n",
       "      <td>1</td>\n",
       "      <td>NaN</td>\n",
       "      <td>t*****2</td>\n",
       "      <td>2023-10-17 01:13:00</td>\n",
       "      <td>5</td>\n",
       "      <td>5</td>\n",
       "      <td>5</td>\n",
       "      <td>5</td>\n",
       "      <td>Son đẹp, giao hàng nhanh, đóng gói sản phẩm chắc chắn, sản phẩm như hình ❤️❤️</td>\n",
       "      <td>🆕 CM4</td>\n",
       "      <td>no</td>\n",
       "      <td>vn</td>\n",
       "      <td>no</td>\n",
       "      <td>NaN</td>\n",
       "      <td>NaN</td>\n",
       "      <td>Rating Total: 2388; No Stars: 14 reviews; *: 10 reviews; **: 25 reviews; ***: 83 reviews; ****: ...</td>\n",
       "      <td>https://shopee.vn/shop/12822129</td>\n",
       "      <td>https://shopee.vn/p-i.193207976.23357766479</td>\n",
       "      <td>NaN</td>\n",
       "      <td>NaN</td>\n",
       "      <td>NaN</td>\n",
       "    </tr>\n",
       "  </tbody>\n",
       "</table>\n",
       "</div>"
      ],
      "text/plain": [
       "   Unnamed: 0  Unnamed: 1   Author                Date  Rating  \\\n",
       "0           1         NaN  t*****2 2023-10-17 01:13:00       5   \n",
       "\n",
       "   Rating Delivery Service  Rating Product Quality  Rating Seller Service  \\\n",
       "0                        5                       5                      5   \n",
       "\n",
       "                                                                          Review  \\\n",
       "0  Son đẹp, giao hàng nhanh, đóng gói sản phẩm chắc chắn, sản phẩm như hình ❤️❤️   \n",
       "\n",
       "  Version Oversea Shopping Region Picture included Photos Videos  \\\n",
       "0   🆕 CM4               no     vn               no    NaN    NaN   \n",
       "\n",
       "                                                                                           Profile Url  \\\n",
       "0  Rating Total: 2388; No Stars: 14 reviews; *: 10 reviews; **: 25 reviews; ***: 83 reviews; ****: ...   \n",
       "\n",
       "                        Review Url  \\\n",
       "0  https://shopee.vn/shop/12822129   \n",
       "\n",
       "                                   Unnamed: 17 Unnamed: 18 Unnamed: 19  \\\n",
       "0  https://shopee.vn/p-i.193207976.23357766479         NaN         NaN   \n",
       "\n",
       "  (view source)  \n",
       "0           NaN  "
      ]
     },
     "execution_count": 15,
     "metadata": {},
     "output_type": "execute_result"
    }
   ],
   "source": [
    "df_merzy.head(1)"
   ]
  },
  {
   "cell_type": "code",
   "execution_count": 18,
   "id": "4ac74df0-a090-4f03-80de-ff42cdcc4730",
   "metadata": {},
   "outputs": [],
   "source": [
    "df_merzy.drop(columns=['Unnamed: 0', 'Rating Delivery Service', 'Rating Product Quality', 'Rating Seller Service', 'Region', 'Photos', \n",
    "                       'Videos', 'Profile Url', 'Review Url', 'Unnamed: 17', 'Unnamed: 18', 'Unnamed: 19', '(view source)'], inplace=True)"
   ]
  },
  {
   "cell_type": "code",
   "execution_count": 21,
   "id": "166a1d3a-92b0-4d37-b509-049d73c337ea",
   "metadata": {},
   "outputs": [],
   "source": [
    "df_merzy.rename(columns={'Unnamed: 1': 'Seller', 'Author': 'Customer'}, inplace=True)"
   ]
  },
  {
   "cell_type": "code",
   "execution_count": 24,
   "id": "1d929622-b05f-45f1-81e3-a83ee6a7c9c9",
   "metadata": {},
   "outputs": [
    {
     "name": "stdout",
     "output_type": "stream",
     "text": [
      "<class 'pandas.core.frame.DataFrame'>\n",
      "RangeIndex: 19837 entries, 0 to 19836\n",
      "Data columns (total 8 columns):\n",
      " #   Column            Non-Null Count  Dtype         \n",
      "---  ------            --------------  -----         \n",
      " 0   Seller            0 non-null      float64       \n",
      " 1   Customer          19757 non-null  object        \n",
      " 2   Date              19837 non-null  datetime64[ns]\n",
      " 3   Rating            19837 non-null  int64         \n",
      " 4   Review            16587 non-null  object        \n",
      " 5   Version           19837 non-null  object        \n",
      " 6   Oversea Shopping  19837 non-null  object        \n",
      " 7   Picture included  19837 non-null  object        \n",
      "dtypes: datetime64[ns](1), float64(1), int64(1), object(5)\n",
      "memory usage: 1.2+ MB\n"
     ]
    }
   ],
   "source": [
    "df_merzy.info()"
   ]
  },
  {
   "cell_type": "code",
   "execution_count": 59,
   "id": "819426e6-24d1-4cd9-8ccc-bc85326f214e",
   "metadata": {},
   "outputs": [],
   "source": [
    "df_merzy['Seller'].fillna('Merzy Official Store', inplace=True)"
   ]
  },
  {
   "cell_type": "code",
   "execution_count": 78,
   "id": "6408501d-6a6e-430c-888c-79504a553191",
   "metadata": {},
   "outputs": [],
   "source": [
    "df_merzy['Seller'].iloc[4690:(4690+3030)] = df_merzy['Seller'].iloc[4690:(4690+3030)].str.replace('Merzy Official Store', 'Thế Giới Skin Food', regex=True)"
   ]
  },
  {
   "cell_type": "code",
   "execution_count": 79,
   "id": "f07badb9-a54e-463b-8a5f-581b813c0323",
   "metadata": {},
   "outputs": [
    {
     "data": {
      "text/plain": [
       "(36, 8)"
      ]
     },
     "execution_count": 79,
     "metadata": {},
     "output_type": "execute_result"
    }
   ],
   "source": [
    "df_merzy_dup = df_merzy.loc[df_merzy.duplicated() == True]\n",
    "df_merzy_dup.shape"
   ]
  },
  {
   "cell_type": "code",
   "execution_count": 80,
   "id": "1b8e05ad-1d35-4d5e-a0de-3fab868a5b73",
   "metadata": {},
   "outputs": [
    {
     "data": {
      "text/html": [
       "<div>\n",
       "<style scoped>\n",
       "    .dataframe tbody tr th:only-of-type {\n",
       "        vertical-align: middle;\n",
       "    }\n",
       "\n",
       "    .dataframe tbody tr th {\n",
       "        vertical-align: top;\n",
       "    }\n",
       "\n",
       "    .dataframe thead th {\n",
       "        text-align: right;\n",
       "    }\n",
       "</style>\n",
       "<table border=\"1\" class=\"dataframe\">\n",
       "  <thead>\n",
       "    <tr style=\"text-align: right;\">\n",
       "      <th></th>\n",
       "      <th>Seller</th>\n",
       "      <th>Customer</th>\n",
       "      <th>Date</th>\n",
       "      <th>Rating</th>\n",
       "      <th>Review</th>\n",
       "      <th>Version</th>\n",
       "      <th>Oversea Shopping</th>\n",
       "      <th>Picture included</th>\n",
       "    </tr>\n",
       "  </thead>\n",
       "  <tbody>\n",
       "    <tr>\n",
       "      <th>1800</th>\n",
       "      <td>Merzy Official Store</td>\n",
       "      <td>matuyethue2712</td>\n",
       "      <td>2023-12-16 09:23:00</td>\n",
       "      <td>5</td>\n",
       "      <td>NaN</td>\n",
       "      <td>🔥 CM4</td>\n",
       "      <td>no</td>\n",
       "      <td>no</td>\n",
       "    </tr>\n",
       "    <tr>\n",
       "      <th>2361</th>\n",
       "      <td>Merzy Official Store</td>\n",
       "      <td>o*****_</td>\n",
       "      <td>2023-10-20 05:25:00</td>\n",
       "      <td>5</td>\n",
       "      <td>Son đẹp giao hàng nhanh cây nhỏ so với tưởng tượng của mình màu đen bóng nhìn sang</td>\n",
       "      <td>🆕 CM4</td>\n",
       "      <td>no</td>\n",
       "      <td>no</td>\n",
       "    </tr>\n",
       "    <tr>\n",
       "      <th>2488</th>\n",
       "      <td>Merzy Official Store</td>\n",
       "      <td>ctshop2</td>\n",
       "      <td>2023-10-23 08:11:00</td>\n",
       "      <td>5</td>\n",
       "      <td>NaN</td>\n",
       "      <td>🔥 CM4</td>\n",
       "      <td>no</td>\n",
       "      <td>no</td>\n",
       "    </tr>\n",
       "    <tr>\n",
       "      <th>2603</th>\n",
       "      <td>Merzy Official Store</td>\n",
       "      <td>btpm12193</td>\n",
       "      <td>2023-10-26 07:38:00</td>\n",
       "      <td>5</td>\n",
       "      <td>NaN</td>\n",
       "      <td>🆕 CM3</td>\n",
       "      <td>no</td>\n",
       "      <td>no</td>\n",
       "    </tr>\n",
       "    <tr>\n",
       "      <th>2664</th>\n",
       "      <td>Merzy Official Store</td>\n",
       "      <td>dong_minh_trang</td>\n",
       "      <td>2023-10-27 15:29:00</td>\n",
       "      <td>5</td>\n",
       "      <td>Màu đẹp xuất sắc sẽ mua thêm mấy màu còn lại</td>\n",
       "      <td>🔥 CM5</td>\n",
       "      <td>no</td>\n",
       "      <td>no</td>\n",
       "    </tr>\n",
       "  </tbody>\n",
       "</table>\n",
       "</div>"
      ],
      "text/plain": [
       "                    Seller         Customer                Date  Rating  \\\n",
       "1800  Merzy Official Store   matuyethue2712 2023-12-16 09:23:00       5   \n",
       "2361  Merzy Official Store          o*****_ 2023-10-20 05:25:00       5   \n",
       "2488  Merzy Official Store          ctshop2 2023-10-23 08:11:00       5   \n",
       "2603  Merzy Official Store        btpm12193 2023-10-26 07:38:00       5   \n",
       "2664  Merzy Official Store  dong_minh_trang 2023-10-27 15:29:00       5   \n",
       "\n",
       "                                                                                  Review  \\\n",
       "1800                                                                                 NaN   \n",
       "2361  Son đẹp giao hàng nhanh cây nhỏ so với tưởng tượng của mình màu đen bóng nhìn sang   \n",
       "2488                                                                                 NaN   \n",
       "2603                                                                                 NaN   \n",
       "2664                                        Màu đẹp xuất sắc sẽ mua thêm mấy màu còn lại   \n",
       "\n",
       "     Version Oversea Shopping Picture included  \n",
       "1800   🔥 CM4               no               no  \n",
       "2361   🆕 CM4               no               no  \n",
       "2488   🔥 CM4               no               no  \n",
       "2603   🆕 CM3               no               no  \n",
       "2664   🔥 CM5               no               no  "
      ]
     },
     "execution_count": 80,
     "metadata": {},
     "output_type": "execute_result"
    }
   ],
   "source": [
    "df_merzy_dup.head()"
   ]
  },
  {
   "cell_type": "markdown",
   "id": "52b3bae3-f6d4-45f1-a877-16c328ce9e3e",
   "metadata": {},
   "source": [
    "# Roughly preprocessed data for comment analysis"
   ]
  },
  {
   "cell_type": "code",
   "execution_count": 135,
   "id": "670367bc-e2da-4e32-881d-f5a7fc7e5ff1",
   "metadata": {},
   "outputs": [],
   "source": [
    "df_merzy_cleaned = df_merzy.loc[df_merzy['Review'].notna() == True].reset_index()\n",
    "df_merzy_cleaned.drop(columns=['index'], inplace=True)"
   ]
  },
  {
   "cell_type": "code",
   "execution_count": 136,
   "id": "ca83201e",
   "metadata": {},
   "outputs": [
    {
     "data": {
      "text/plain": [
       "(16587, 8)"
      ]
     },
     "execution_count": 136,
     "metadata": {},
     "output_type": "execute_result"
    }
   ],
   "source": [
    "df_merzy_cleaned.shape"
   ]
  },
  {
   "cell_type": "code",
   "execution_count": 138,
   "id": "ad4380f4-5250-4c67-b667-ff9991817ef1",
   "metadata": {},
   "outputs": [
    {
     "data": {
      "text/html": [
       "<div>\n",
       "<style scoped>\n",
       "    .dataframe tbody tr th:only-of-type {\n",
       "        vertical-align: middle;\n",
       "    }\n",
       "\n",
       "    .dataframe tbody tr th {\n",
       "        vertical-align: top;\n",
       "    }\n",
       "\n",
       "    .dataframe thead th {\n",
       "        text-align: right;\n",
       "    }\n",
       "</style>\n",
       "<table border=\"1\" class=\"dataframe\">\n",
       "  <thead>\n",
       "    <tr style=\"text-align: right;\">\n",
       "      <th></th>\n",
       "      <th>Seller</th>\n",
       "      <th>Customer</th>\n",
       "      <th>Date</th>\n",
       "      <th>Rating</th>\n",
       "      <th>Review</th>\n",
       "      <th>Version</th>\n",
       "      <th>Oversea Shopping</th>\n",
       "      <th>Picture included</th>\n",
       "    </tr>\n",
       "  </thead>\n",
       "  <tbody>\n",
       "    <tr>\n",
       "      <th>0</th>\n",
       "      <td>Merzy Official Store</td>\n",
       "      <td>t*****2</td>\n",
       "      <td>2023-10-17 01:13:00</td>\n",
       "      <td>5</td>\n",
       "      <td>Son đẹp, giao hàng nhanh, đóng gói sản phẩm chắc chắn, sản phẩm như hình ❤️❤️</td>\n",
       "      <td>🆕 CM4</td>\n",
       "      <td>no</td>\n",
       "      <td>no</td>\n",
       "    </tr>\n",
       "    <tr>\n",
       "      <th>1</th>\n",
       "      <td>Merzy Official Store</td>\n",
       "      <td>nguyentrang.2901</td>\n",
       "      <td>2023-10-18 03:31:00</td>\n",
       "      <td>5</td>\n",
       "      <td>Son mùi hơi kì tí 🥲 , màu nghiên về cam đất tí , độ bám vừa không quá lâu_x000D_\\nhttps://cf.sho...</td>\n",
       "      <td>🆕 CM6</td>\n",
       "      <td>no</td>\n",
       "      <td>yes</td>\n",
       "    </tr>\n",
       "    <tr>\n",
       "      <th>2</th>\n",
       "      <td>Merzy Official Store</td>\n",
       "      <td>quyentruongdo</td>\n",
       "      <td>2023-10-18 03:40:00</td>\n",
       "      <td>5</td>\n",
       "      <td>Chất son mịn, mùi thơm trái cây_x000D_\\nhttps://cf.shopee.vn/file/vn-11134103-7r98o-lmzjhxxd1xi0...</td>\n",
       "      <td>🆕 CM5</td>\n",
       "      <td>no</td>\n",
       "      <td>yes</td>\n",
       "    </tr>\n",
       "    <tr>\n",
       "      <th>3</th>\n",
       "      <td>Merzy Official Store</td>\n",
       "      <td>phucan23678</td>\n",
       "      <td>2023-10-18 04:03:00</td>\n",
       "      <td>5</td>\n",
       "      <td>Trời ơi màu xinh xỉu \\nChất son mịn như nhungg :33</td>\n",
       "      <td>🆕 CM6</td>\n",
       "      <td>no</td>\n",
       "      <td>no</td>\n",
       "    </tr>\n",
       "    <tr>\n",
       "      <th>4</th>\n",
       "      <td>Merzy Official Store</td>\n",
       "      <td>hoaan_nguyen</td>\n",
       "      <td>2023-10-18 06:11:00</td>\n",
       "      <td>5</td>\n",
       "      <td>Màu xinh vãi chất son thì khỏi bàn r mấy bà ơi chốt trên live nên rẻ, tui sợ cm3 sẽ base hồng nh...</td>\n",
       "      <td>🆕 CM3</td>\n",
       "      <td>no</td>\n",
       "      <td>yes</td>\n",
       "    </tr>\n",
       "  </tbody>\n",
       "</table>\n",
       "</div>"
      ],
      "text/plain": [
       "                 Seller          Customer                Date  Rating  \\\n",
       "0  Merzy Official Store           t*****2 2023-10-17 01:13:00       5   \n",
       "1  Merzy Official Store  nguyentrang.2901 2023-10-18 03:31:00       5   \n",
       "2  Merzy Official Store     quyentruongdo 2023-10-18 03:40:00       5   \n",
       "3  Merzy Official Store       phucan23678 2023-10-18 04:03:00       5   \n",
       "4  Merzy Official Store      hoaan_nguyen 2023-10-18 06:11:00       5   \n",
       "\n",
       "                                                                                                Review  \\\n",
       "0                        Son đẹp, giao hàng nhanh, đóng gói sản phẩm chắc chắn, sản phẩm như hình ❤️❤️   \n",
       "1  Son mùi hơi kì tí 🥲 , màu nghiên về cam đất tí , độ bám vừa không quá lâu_x000D_\\nhttps://cf.sho...   \n",
       "2  Chất son mịn, mùi thơm trái cây_x000D_\\nhttps://cf.shopee.vn/file/vn-11134103-7r98o-lmzjhxxd1xi0...   \n",
       "3                                                   Trời ơi màu xinh xỉu \\nChất son mịn như nhungg :33   \n",
       "4  Màu xinh vãi chất son thì khỏi bàn r mấy bà ơi chốt trên live nên rẻ, tui sợ cm3 sẽ base hồng nh...   \n",
       "\n",
       "  Version Oversea Shopping Picture included  \n",
       "0   🆕 CM4               no               no  \n",
       "1   🆕 CM6               no              yes  \n",
       "2   🆕 CM5               no              yes  \n",
       "3   🆕 CM6               no               no  \n",
       "4   🆕 CM3               no              yes  "
      ]
     },
     "execution_count": 138,
     "metadata": {},
     "output_type": "execute_result"
    }
   ],
   "source": [
    "df_merzy_cleaned.head()"
   ]
  },
  {
   "cell_type": "markdown",
   "id": "f9beb8e3-4554-42ae-8972-4abbe90f32df",
   "metadata": {},
   "source": [
    "### Fill in missing customer names"
   ]
  },
  {
   "cell_type": "code",
   "execution_count": 161,
   "id": "1e9e6926-e4bf-482b-903a-8cb28902e86d",
   "metadata": {},
   "outputs": [],
   "source": [
    "list_na_index = df_merzy_cleaned.loc[df_merzy_cleaned['Customer'].notna() == False].index.values"
   ]
  },
  {
   "cell_type": "code",
   "execution_count": 163,
   "id": "82eb160a-06fb-4fd2-994c-1e41bd0b8b0c",
   "metadata": {},
   "outputs": [],
   "source": [
    "for i in list_na_index:\n",
    "    df_merzy_cleaned.at[i, 'Customer'] = f'Customer #{i}'"
   ]
  },
  {
   "cell_type": "code",
   "execution_count": 169,
   "id": "e1105279-e10c-45e0-9fd1-89c37e972494",
   "metadata": {},
   "outputs": [
    {
     "data": {
      "text/html": [
       "<div>\n",
       "<style scoped>\n",
       "    .dataframe tbody tr th:only-of-type {\n",
       "        vertical-align: middle;\n",
       "    }\n",
       "\n",
       "    .dataframe tbody tr th {\n",
       "        vertical-align: top;\n",
       "    }\n",
       "\n",
       "    .dataframe thead th {\n",
       "        text-align: right;\n",
       "    }\n",
       "</style>\n",
       "<table border=\"1\" class=\"dataframe\">\n",
       "  <thead>\n",
       "    <tr style=\"text-align: right;\">\n",
       "      <th></th>\n",
       "      <th>Rating</th>\n",
       "    </tr>\n",
       "  </thead>\n",
       "  <tbody>\n",
       "    <tr>\n",
       "      <th>count</th>\n",
       "      <td>16587.000000</td>\n",
       "    </tr>\n",
       "    <tr>\n",
       "      <th>mean</th>\n",
       "      <td>4.911075</td>\n",
       "    </tr>\n",
       "    <tr>\n",
       "      <th>std</th>\n",
       "      <td>0.430496</td>\n",
       "    </tr>\n",
       "    <tr>\n",
       "      <th>min</th>\n",
       "      <td>1.000000</td>\n",
       "    </tr>\n",
       "    <tr>\n",
       "      <th>25%</th>\n",
       "      <td>5.000000</td>\n",
       "    </tr>\n",
       "    <tr>\n",
       "      <th>50%</th>\n",
       "      <td>5.000000</td>\n",
       "    </tr>\n",
       "    <tr>\n",
       "      <th>75%</th>\n",
       "      <td>5.000000</td>\n",
       "    </tr>\n",
       "    <tr>\n",
       "      <th>max</th>\n",
       "      <td>5.000000</td>\n",
       "    </tr>\n",
       "  </tbody>\n",
       "</table>\n",
       "</div>"
      ],
      "text/plain": [
       "             Rating\n",
       "count  16587.000000\n",
       "mean       4.911075\n",
       "std        0.430496\n",
       "min        1.000000\n",
       "25%        5.000000\n",
       "50%        5.000000\n",
       "75%        5.000000\n",
       "max        5.000000"
      ]
     },
     "execution_count": 169,
     "metadata": {},
     "output_type": "execute_result"
    }
   ],
   "source": [
    "df_merzy_cleaned.describe()"
   ]
  },
  {
   "cell_type": "code",
   "execution_count": 170,
   "id": "c4cdcc42-e1dd-4f7a-8814-85155e6188a4",
   "metadata": {},
   "outputs": [
    {
     "name": "stdout",
     "output_type": "stream",
     "text": [
      "<class 'pandas.core.frame.DataFrame'>\n",
      "RangeIndex: 16587 entries, 0 to 16586\n",
      "Data columns (total 8 columns):\n",
      " #   Column            Non-Null Count  Dtype         \n",
      "---  ------            --------------  -----         \n",
      " 0   Seller            16587 non-null  object        \n",
      " 1   Customer          16587 non-null  object        \n",
      " 2   Date              16587 non-null  datetime64[ns]\n",
      " 3   Rating            16587 non-null  int64         \n",
      " 4   Review            16587 non-null  object        \n",
      " 5   Version           16587 non-null  object        \n",
      " 6   Oversea Shopping  16587 non-null  object        \n",
      " 7   Picture included  16587 non-null  object        \n",
      "dtypes: datetime64[ns](1), int64(1), object(6)\n",
      "memory usage: 1.0+ MB\n"
     ]
    }
   ],
   "source": [
    "df_merzy_cleaned.info()"
   ]
  },
  {
   "cell_type": "code",
   "execution_count": 167,
   "id": "e3e27e41-908a-4c3f-80ac-3491873dae6c",
   "metadata": {},
   "outputs": [],
   "source": [
    "df_merzy_cleaned.to_excel('raw_cleaned_merzy.xlsx', index=False)"
   ]
  },
  {
   "cell_type": "code",
   "execution_count": null,
   "id": "70a8a2bc-5d04-4a47-b8c9-a3f0159ef75c",
   "metadata": {},
   "outputs": [],
   "source": []
  }
 ],
 "metadata": {
  "kernelspec": {
   "display_name": "Python 3 (ipykernel)",
   "language": "python",
   "name": "python3"
  },
  "language_info": {
   "codemirror_mode": {
    "name": "ipython",
    "version": 3
   },
   "file_extension": ".py",
   "mimetype": "text/x-python",
   "name": "python",
   "nbconvert_exporter": "python",
   "pygments_lexer": "ipython3",
   "version": "3.11.4"
  }
 },
 "nbformat": 4,
 "nbformat_minor": 5
}
