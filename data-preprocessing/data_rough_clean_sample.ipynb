{
 "cells": [
  {
   "cell_type": "markdown",
   "id": "1da550d3-f9df-495a-b5a1-c66fca7f04ba",
   "metadata": {},
   "source": [
    "# Import original data - Focallure"
   ]
  },
  {
   "cell_type": "code",
   "execution_count": 1,
   "id": "066940b3-d1bf-44d3-90a1-514f50f2e912",
   "metadata": {},
   "outputs": [],
   "source": [
    "import pandas as pd"
   ]
  },
  {
   "cell_type": "code",
   "execution_count": 2,
   "id": "deb57e5a-0f0d-457f-99fb-69094cfaf442",
   "metadata": {},
   "outputs": [],
   "source": [
    "pd.set_option(\"display.max_colwidth\", 200)\n",
    "pd.set_option(\"display.max_columns\", 21)"
   ]
  },
  {
   "cell_type": "code",
   "execution_count": 3,
   "id": "2660765b-1ef8-4028-90c6-66644402c5e1",
   "metadata": {},
   "outputs": [],
   "source": [
    "foc_paths = ['Shopee_data/focallure/foc.xlsx', 'Shopee_data/focallure/foc1.xlsx', 'Shopee_data/focallure/foc2.xlsx', 'Shopee_data/focallure/foc3.xlsx',\n",
    "           'Shopee_data/focallure/foc4.xlsx', 'Shopee_data/focallure/foc5.xlsx', 'Shopee_data/focallure/foc6.xlsx', 'Shopee_data/focallure/foc7.xlsx',\n",
    "           'Shopee_data/focallure/foc8.xlsx', 'Shopee_data/focallure/foc9.xlsx', 'Shopee_data/focallure/foc10.xlsx', 'Shopee_data/focallure/foc11.xlsx',\n",
    "           'Shopee_data/focallure/foc12.xlsx', 'Shopee_data/focallure/foc13.xlsx', 'Shopee_data/focallure/foc14.xlsx', 'Shopee_data/focallure/foc15.xlsx',\n",
    "           'Shopee_data/focallure/foc16.xlsx']\n",
    "dfs = []\n",
    "for path in foc_paths:\n",
    "    df = pd.read_excel(path)\n",
    "    dfs.append(df)"
   ]
  },
  {
   "cell_type": "code",
   "execution_count": 4,
   "id": "97b5c6ef-1a66-4507-8c5e-afc537d59a52",
   "metadata": {},
   "outputs": [],
   "source": [
    "foc_df = pd.concat(dfs, ignore_index=True)"
   ]
  },
  {
   "cell_type": "code",
   "execution_count": 5,
   "id": "f5ddaa4c-10c3-42e5-9ee3-2ea7a62a08e0",
   "metadata": {},
   "outputs": [
    {
     "data": {
      "text/html": [
       "<div>\n",
       "<style scoped>\n",
       "    .dataframe tbody tr th:only-of-type {\n",
       "        vertical-align: middle;\n",
       "    }\n",
       "\n",
       "    .dataframe tbody tr th {\n",
       "        vertical-align: top;\n",
       "    }\n",
       "\n",
       "    .dataframe thead th {\n",
       "        text-align: right;\n",
       "    }\n",
       "</style>\n",
       "<table border=\"1\" class=\"dataframe\">\n",
       "  <thead>\n",
       "    <tr style=\"text-align: right;\">\n",
       "      <th></th>\n",
       "      <th>Unnamed: 0</th>\n",
       "      <th>Unnamed: 1</th>\n",
       "      <th>Author</th>\n",
       "      <th>Date</th>\n",
       "      <th>Rating</th>\n",
       "      <th>Rating Delivery Service</th>\n",
       "      <th>Rating Product Quality</th>\n",
       "      <th>Rating Seller Service</th>\n",
       "      <th>Review</th>\n",
       "      <th>Version</th>\n",
       "      <th>Oversea Shopping</th>\n",
       "      <th>Region</th>\n",
       "      <th>Picture included</th>\n",
       "      <th>Photos</th>\n",
       "      <th>Videos</th>\n",
       "      <th>(view source)</th>\n",
       "      <th>Seller</th>\n",
       "    </tr>\n",
       "  </thead>\n",
       "  <tbody>\n",
       "    <tr>\n",
       "      <th>0</th>\n",
       "      <td>1</td>\n",
       "      <td>NaN</td>\n",
       "      <td>diutranghong276</td>\n",
       "      <td>2023-11-20 13:21:14</td>\n",
       "      <td>5</td>\n",
       "      <td>5</td>\n",
       "      <td>5</td>\n",
       "      <td>5</td>\n",
       "      <td>Công dụng:makeup\\nĐộ bền màu:siêu bền luôn í\\n\\nson phải goin là siêu bền luôn, lớp tint màu xinh lắm lun rất rcm mn mua ạaaa\\nhttps://cf.shopee.vn/file/vn-11134103-7r98o-lob7tnazdx1nff\\nhttps://c...</td>\n",
       "      <td>#RD02</td>\n",
       "      <td>no</td>\n",
       "      <td>vn</td>\n",
       "      <td>yes</td>\n",
       "      <td>https://cf.shopee.vn/file/vn-11134103-7r98o-lob7tnazdx1nff, https://cf.shopee.vn/file/vn-11134103-7r98o-lob7tnaztczb28</td>\n",
       "      <td>NaN</td>\n",
       "      <td>view review</td>\n",
       "      <td>NaN</td>\n",
       "    </tr>\n",
       "  </tbody>\n",
       "</table>\n",
       "</div>"
      ],
      "text/plain": [
       "   Unnamed: 0  Unnamed: 1           Author                Date  Rating  \\\n",
       "0           1         NaN  diutranghong276 2023-11-20 13:21:14       5   \n",
       "\n",
       "   Rating Delivery Service  Rating Product Quality  Rating Seller Service  \\\n",
       "0                        5                       5                      5   \n",
       "\n",
       "                                                                                                                                                                                                    Review  \\\n",
       "0  Công dụng:makeup\\nĐộ bền màu:siêu bền luôn í\\n\\nson phải goin là siêu bền luôn, lớp tint màu xinh lắm lun rất rcm mn mua ạaaa\\nhttps://cf.shopee.vn/file/vn-11134103-7r98o-lob7tnazdx1nff\\nhttps://c...   \n",
       "\n",
       "  Version Oversea Shopping Region Picture included  \\\n",
       "0   #RD02               no     vn              yes   \n",
       "\n",
       "                                                                                                                   Photos  \\\n",
       "0  https://cf.shopee.vn/file/vn-11134103-7r98o-lob7tnazdx1nff, https://cf.shopee.vn/file/vn-11134103-7r98o-lob7tnaztczb28   \n",
       "\n",
       "  Videos (view source)  Seller  \n",
       "0    NaN   view review     NaN  "
      ]
     },
     "execution_count": 5,
     "metadata": {},
     "output_type": "execute_result"
    }
   ],
   "source": [
    "foc_df.head(1)"
   ]
  },
  {
   "cell_type": "markdown",
   "id": "52b3bae3-f6d4-45f1-a877-16c328ce9e3e",
   "metadata": {},
   "source": [
    "# Roughly preprocessed data for comment analysis"
   ]
  },
  {
   "cell_type": "markdown",
   "id": "1520b1dc-58ca-49a7-9a24-e57ce73e7d01",
   "metadata": {},
   "source": [
    "### Drop irrelevant columns amd duplicated comments"
   ]
  },
  {
   "cell_type": "code",
   "execution_count": 6,
   "id": "88d76276-2fc9-4bf3-b0c5-085f77c98b92",
   "metadata": {},
   "outputs": [],
   "source": [
    "foc_df.drop(columns=['Unnamed: 0', 'Rating Delivery Service', 'Rating Product Quality', 'Rating Seller Service', 'Region', 'Photos', \n",
    "                       'Videos', '(view source)', 'Seller'], inplace=True)"
   ]
  },
  {
   "cell_type": "code",
   "execution_count": 7,
   "id": "b72b4bb8-7012-4e1d-8378-6bb0da676874",
   "metadata": {},
   "outputs": [],
   "source": [
    "foc_df.rename(columns={'Unnamed: 1': 'Seller', 'Author': 'Customer'}, inplace=True)"
   ]
  },
  {
   "cell_type": "code",
   "execution_count": 8,
   "id": "afdab1dc-9297-4cdf-832b-296225bc56cf",
   "metadata": {},
   "outputs": [],
   "source": [
    "foc_df['Seller'].fillna('Focallure Official', inplace=True)"
   ]
  },
  {
   "cell_type": "code",
   "execution_count": 9,
   "id": "66c3de00-cddf-410e-b96e-a79c9117c929",
   "metadata": {},
   "outputs": [],
   "source": [
    "foc_cleaned = foc_df.loc[foc_df['Review'].notna() == True].reset_index()\n",
    "foc_cleaned.drop(columns=['index'], inplace=True)"
   ]
  },
  {
   "cell_type": "code",
   "execution_count": 10,
   "id": "1b163e61-97ed-4f4f-ae71-b6076822c7f5",
   "metadata": {},
   "outputs": [],
   "source": [
    "foc_cleaned.drop_duplicates(keep='first', inplace=True)"
   ]
  },
  {
   "cell_type": "markdown",
   "id": "18d49e6c-e110-472c-b081-2aa80d79b724",
   "metadata": {},
   "source": [
    "### Fill in missing customer names"
   ]
  },
  {
   "cell_type": "code",
   "execution_count": 11,
   "id": "5e3a77be-fc07-42e5-b1f4-d7ac78a5d752",
   "metadata": {},
   "outputs": [],
   "source": [
    "list_na_index = foc_cleaned.loc[foc_cleaned['Customer'].notna() == False].index.values\n",
    "for i in list_na_index:\n",
    "    foc_cleaned.at[i, 'Customer'] = f'Customer #{i}'"
   ]
  },
  {
   "cell_type": "code",
   "execution_count": 12,
   "id": "bee33918-853d-48c4-bc86-ed9916c3b59a",
   "metadata": {},
   "outputs": [
    {
     "data": {
      "text/plain": [
       "(26505, 8)"
      ]
     },
     "execution_count": 12,
     "metadata": {},
     "output_type": "execute_result"
    }
   ],
   "source": [
    "foc_cleaned.shape"
   ]
  },
  {
   "cell_type": "code",
   "execution_count": 13,
   "id": "4032b4b5-3cbd-424d-8d3f-1074095d06cb",
   "metadata": {},
   "outputs": [
    {
     "data": {
      "text/html": [
       "<div>\n",
       "<style scoped>\n",
       "    .dataframe tbody tr th:only-of-type {\n",
       "        vertical-align: middle;\n",
       "    }\n",
       "\n",
       "    .dataframe tbody tr th {\n",
       "        vertical-align: top;\n",
       "    }\n",
       "\n",
       "    .dataframe thead th {\n",
       "        text-align: right;\n",
       "    }\n",
       "</style>\n",
       "<table border=\"1\" class=\"dataframe\">\n",
       "  <thead>\n",
       "    <tr style=\"text-align: right;\">\n",
       "      <th></th>\n",
       "      <th>Seller</th>\n",
       "      <th>Customer</th>\n",
       "      <th>Date</th>\n",
       "      <th>Rating</th>\n",
       "      <th>Review</th>\n",
       "      <th>Version</th>\n",
       "      <th>Oversea Shopping</th>\n",
       "      <th>Picture included</th>\n",
       "    </tr>\n",
       "  </thead>\n",
       "  <tbody>\n",
       "    <tr>\n",
       "      <th>0</th>\n",
       "      <td>Focallure Official</td>\n",
       "      <td>diutranghong276</td>\n",
       "      <td>2023-11-20 13:21:14</td>\n",
       "      <td>5</td>\n",
       "      <td>Công dụng:makeup\\nĐộ bền màu:siêu bền luôn í\\n\\nson phải goin là siêu bền luôn, lớp tint màu xinh lắm lun rất rcm mn mua ạaaa\\nhttps://cf.shopee.vn/file/vn-11134103-7r98o-lob7tnazdx1nff\\nhttps://c...</td>\n",
       "      <td>#RD02</td>\n",
       "      <td>no</td>\n",
       "      <td>yes</td>\n",
       "    </tr>\n",
       "  </tbody>\n",
       "</table>\n",
       "</div>"
      ],
      "text/plain": [
       "               Seller         Customer                Date  Rating  \\\n",
       "0  Focallure Official  diutranghong276 2023-11-20 13:21:14       5   \n",
       "\n",
       "                                                                                                                                                                                                    Review  \\\n",
       "0  Công dụng:makeup\\nĐộ bền màu:siêu bền luôn í\\n\\nson phải goin là siêu bền luôn, lớp tint màu xinh lắm lun rất rcm mn mua ạaaa\\nhttps://cf.shopee.vn/file/vn-11134103-7r98o-lob7tnazdx1nff\\nhttps://c...   \n",
       "\n",
       "  Version Oversea Shopping Picture included  \n",
       "0   #RD02               no              yes  "
      ]
     },
     "execution_count": 13,
     "metadata": {},
     "output_type": "execute_result"
    }
   ],
   "source": [
    "foc_cleaned.head(1)"
   ]
  },
  {
   "cell_type": "code",
   "execution_count": 14,
   "id": "51be994d-310f-4baa-8bd0-b50bbf1afbb2",
   "metadata": {},
   "outputs": [],
   "source": [
    "# foc_cleaned.to_excel('raw_cleaned_foc.xlsx', index=False)"
   ]
  },
  {
   "cell_type": "markdown",
   "id": "252b9639-d290-45d7-908d-03469fc4e658",
   "metadata": {},
   "source": [
    "# Import all data"
   ]
  },
  {
   "cell_type": "code",
   "execution_count": 15,
   "id": "22b84ec0-5701-4603-9628-dfb4570c9a15",
   "metadata": {},
   "outputs": [],
   "source": [
    "pd.set_option(\"display.max_colwidth\", 200)\n",
    "pd.set_option(\"display.max_columns\", 21)"
   ]
  },
  {
   "cell_type": "code",
   "execution_count": 16,
   "id": "6ded13f9-2f75-419f-befe-9da481552145",
   "metadata": {},
   "outputs": [],
   "source": [
    "ce_paths = ['Shopee_data/3ce/3CE.xlsx', 'Shopee_data/3ce/3CE 1.xlsx', 'Shopee_data/3ce/3CE 2.xlsx', 'Shopee_data/3ce/3CE 3.xlsx']\n",
    "dfs = []\n",
    "for path in ce_paths:\n",
    "    df = pd.read_excel(path)\n",
    "    dfs.append(df)"
   ]
  },
  {
   "cell_type": "code",
   "execution_count": 17,
   "id": "0bd15ffa-4552-48fd-8237-1e58af9dda52",
   "metadata": {},
   "outputs": [
    {
     "data": {
      "text/html": [
       "<div>\n",
       "<style scoped>\n",
       "    .dataframe tbody tr th:only-of-type {\n",
       "        vertical-align: middle;\n",
       "    }\n",
       "\n",
       "    .dataframe tbody tr th {\n",
       "        vertical-align: top;\n",
       "    }\n",
       "\n",
       "    .dataframe thead th {\n",
       "        text-align: right;\n",
       "    }\n",
       "</style>\n",
       "<table border=\"1\" class=\"dataframe\">\n",
       "  <thead>\n",
       "    <tr style=\"text-align: right;\">\n",
       "      <th></th>\n",
       "      <th>Unnamed: 0</th>\n",
       "      <th>Distributor</th>\n",
       "      <th>Author</th>\n",
       "      <th>Date</th>\n",
       "      <th>Rating</th>\n",
       "      <th>Rating Delivery Service</th>\n",
       "      <th>Rating Product Quality</th>\n",
       "      <th>Rating Seller Service</th>\n",
       "      <th>Review</th>\n",
       "      <th>Version</th>\n",
       "      <th>Oversea Shopping</th>\n",
       "      <th>Region</th>\n",
       "      <th>Picture included</th>\n",
       "      <th>Photos</th>\n",
       "      <th>Videos</th>\n",
       "      <th>(view source)</th>\n",
       "      <th>Unnamed: 1</th>\n",
       "    </tr>\n",
       "  </thead>\n",
       "  <tbody>\n",
       "    <tr>\n",
       "      <th>0</th>\n",
       "      <td>1</td>\n",
       "      <td>HM Cosmetics</td>\n",
       "      <td>g*****g</td>\n",
       "      <td>2022-01-17 15:32:51</td>\n",
       "      <td>5</td>\n",
       "      <td>0</td>\n",
       "      <td>5</td>\n",
       "      <td>0</td>\n",
       "      <td>Kết cấu:tint sệt\\nĐộ bền màu:9/10\\n\\nshop CSKH cực kì tốt luôn, mình bị trục trặc xíu về đơn hàng nhưng shop rep và giải quyết nhanh chóng, màu son thì mình chấm 10/10, son có mùi vani ngọt nồng n...</td>\n",
       "      <td># LAYDOWN</td>\n",
       "      <td>no</td>\n",
       "      <td>vn</td>\n",
       "      <td>yes</td>\n",
       "      <td>https://cf.shopee.vn/file/22df0456671936758cac4f0ad13e8bfa, https://cf.shopee.vn/file/4a41b0bf0a7cd201dc1775123d397e78</td>\n",
       "      <td>https://down-ws-sg.vod.susercontent.com/api/v4/11110103/mms/vn_947a9e0c-bba3-46c9-a83c-1029ed952fef_000112.default.mp4</td>\n",
       "      <td>view review</td>\n",
       "      <td>NaN</td>\n",
       "    </tr>\n",
       "  </tbody>\n",
       "</table>\n",
       "</div>"
      ],
      "text/plain": [
       "   Unnamed: 0   Distributor   Author                Date  Rating  \\\n",
       "0           1  HM Cosmetics  g*****g 2022-01-17 15:32:51       5   \n",
       "\n",
       "   Rating Delivery Service  Rating Product Quality  Rating Seller Service  \\\n",
       "0                        0                       5                      0   \n",
       "\n",
       "                                                                                                                                                                                                    Review  \\\n",
       "0  Kết cấu:tint sệt\\nĐộ bền màu:9/10\\n\\nshop CSKH cực kì tốt luôn, mình bị trục trặc xíu về đơn hàng nhưng shop rep và giải quyết nhanh chóng, màu son thì mình chấm 10/10, son có mùi vani ngọt nồng n...   \n",
       "\n",
       "     Version Oversea Shopping Region Picture included  \\\n",
       "0  # LAYDOWN               no     vn              yes   \n",
       "\n",
       "                                                                                                                   Photos  \\\n",
       "0  https://cf.shopee.vn/file/22df0456671936758cac4f0ad13e8bfa, https://cf.shopee.vn/file/4a41b0bf0a7cd201dc1775123d397e78   \n",
       "\n",
       "                                                                                                                   Videos  \\\n",
       "0  https://down-ws-sg.vod.susercontent.com/api/v4/11110103/mms/vn_947a9e0c-bba3-46c9-a83c-1029ed952fef_000112.default.mp4   \n",
       "\n",
       "  (view source)  Unnamed: 1  \n",
       "0   view review         NaN  "
      ]
     },
     "execution_count": 17,
     "metadata": {},
     "output_type": "execute_result"
    }
   ],
   "source": [
    "ce_df = pd.concat(dfs, ignore_index=True)\n",
    "ce_df.head(1)"
   ]
  },
  {
   "cell_type": "code",
   "execution_count": 18,
   "id": "b35bb73a-e978-446d-898d-d220a5923fc2",
   "metadata": {},
   "outputs": [],
   "source": [
    "ce_df.drop(columns=['Unnamed: 0', 'Rating Delivery Service', 'Rating Product Quality', 'Rating Seller Service', 'Region', 'Photos', \n",
    "                       'Videos', '(view source)', 'Unnamed: 1'], inplace=True)"
   ]
  },
  {
   "cell_type": "code",
   "execution_count": 19,
   "id": "2b89e9be-c8cc-4af5-8804-86084a40258a",
   "metadata": {},
   "outputs": [],
   "source": [
    "ce_df.rename(columns={'Distributor': 'Seller', 'Author': 'Customer'}, inplace=True)"
   ]
  },
  {
   "cell_type": "code",
   "execution_count": 20,
   "id": "4600efb9-59a7-42bf-83d2-a995e5e90c1e",
   "metadata": {},
   "outputs": [],
   "source": [
    "ce_cleaned = ce_df.loc[ce_df['Review'].notna() == True].reset_index()\n",
    "ce_cleaned.drop(columns=['index'], inplace=True)"
   ]
  },
  {
   "cell_type": "code",
   "execution_count": 21,
   "id": "28ca80e4-f59a-4354-9b25-a41f7c5689ec",
   "metadata": {},
   "outputs": [
    {
     "data": {
      "text/html": [
       "<div>\n",
       "<style scoped>\n",
       "    .dataframe tbody tr th:only-of-type {\n",
       "        vertical-align: middle;\n",
       "    }\n",
       "\n",
       "    .dataframe tbody tr th {\n",
       "        vertical-align: top;\n",
       "    }\n",
       "\n",
       "    .dataframe thead th {\n",
       "        text-align: right;\n",
       "    }\n",
       "</style>\n",
       "<table border=\"1\" class=\"dataframe\">\n",
       "  <thead>\n",
       "    <tr style=\"text-align: right;\">\n",
       "      <th></th>\n",
       "      <th>Seller</th>\n",
       "      <th>Customer</th>\n",
       "      <th>Date</th>\n",
       "      <th>Rating</th>\n",
       "      <th>Review</th>\n",
       "      <th>Version</th>\n",
       "      <th>Oversea Shopping</th>\n",
       "      <th>Picture included</th>\n",
       "    </tr>\n",
       "  </thead>\n",
       "  <tbody>\n",
       "    <tr>\n",
       "      <th>0</th>\n",
       "      <td>HM Cosmetics</td>\n",
       "      <td>g*****g</td>\n",
       "      <td>2022-01-17 15:32:51</td>\n",
       "      <td>5</td>\n",
       "      <td>Kết cấu:tint sệt\\nĐộ bền màu:9/10\\n\\nshop CSKH cực kì tốt luôn, mình bị trục trặc xíu về đơn hàng nhưng shop rep và giải quyết nhanh chóng, màu son thì mình chấm 10/10, son có mùi vani ngọt nồng n...</td>\n",
       "      <td># LAYDOWN</td>\n",
       "      <td>no</td>\n",
       "      <td>yes</td>\n",
       "    </tr>\n",
       "    <tr>\n",
       "      <th>1</th>\n",
       "      <td>HM Cosmetics</td>\n",
       "      <td>nhi62000</td>\n",
       "      <td>2022-01-22 02:45:42</td>\n",
       "      <td>5</td>\n",
       "      <td>Kết cấu:mềm mướt, giữ ẩm cho môi không bị khô\\nĐộ bền màu:khoảng 4h</td>\n",
       "      <td>#SEPIA</td>\n",
       "      <td>no</td>\n",
       "      <td>no</td>\n",
       "    </tr>\n",
       "    <tr>\n",
       "      <th>2</th>\n",
       "      <td>HM Cosmetics</td>\n",
       "      <td>cutephomaiquene</td>\n",
       "      <td>2022-01-24 18:23:28</td>\n",
       "      <td>5</td>\n",
       "      <td>sang xịn mịn quá đỉnh lun ạ\\nshop còn bán rẻ qá tr nữa chứ ạ hihi 😻😻😻😻\\nhttps://cf.shopee.vn/file/7bb271ae3fb3f467f73d7e617733d97b</td>\n",
       "      <td># LAYDOWN</td>\n",
       "      <td>no</td>\n",
       "      <td>yes</td>\n",
       "    </tr>\n",
       "    <tr>\n",
       "      <th>3</th>\n",
       "      <td>HM Cosmetics</td>\n",
       "      <td>tiosmile</td>\n",
       "      <td>2022-01-25 12:04:45</td>\n",
       "      <td>5</td>\n",
       "      <td>Video ko liên quan, son chính hãng, màu đẹp giá rẻ, ship siêu nhanh \\nDncjdklamabdbdkdkalwmsndndmslwksncnfnfjfjfiflalwkndnx cncmfsmamsmd d dnxama\\nhttps://cf.shopee.vn/file/0e3755303a9c7729cfe1002...</td>\n",
       "      <td># PLAY OFF</td>\n",
       "      <td>no</td>\n",
       "      <td>yes</td>\n",
       "    </tr>\n",
       "    <tr>\n",
       "      <th>4</th>\n",
       "      <td>HM Cosmetics</td>\n",
       "      <td>tiosmile</td>\n",
       "      <td>2022-01-25 12:05:15</td>\n",
       "      <td>5</td>\n",
       "      <td>Video ko liên quan, son chính hãng, màu đẹp giá rẻ, ship siêu nhanh \\nDncjdklamabdbdkdkalwmsndndmslwksncnfnfjfjfiflalwkndnx cncmfsmamsmd d dnxama\\nhttps://cf.shopee.vn/file/e626dd91841c8515a48112c...</td>\n",
       "      <td>#SEPIA</td>\n",
       "      <td>no</td>\n",
       "      <td>yes</td>\n",
       "    </tr>\n",
       "    <tr>\n",
       "      <th>...</th>\n",
       "      <td>...</td>\n",
       "      <td>...</td>\n",
       "      <td>...</td>\n",
       "      <td>...</td>\n",
       "      <td>...</td>\n",
       "      <td>...</td>\n",
       "      <td>...</td>\n",
       "      <td>...</td>\n",
       "    </tr>\n",
       "    <tr>\n",
       "      <th>9411</th>\n",
       "      <td>NaN</td>\n",
       "      <td>l*****a</td>\n",
       "      <td>2024-01-05 10:32:50</td>\n",
       "      <td>5</td>\n",
       "      <td>Hình ảnh và vid không liên quan sản phẩm\\nShop chuẩn bị hàng nhanh, màu son đúng ý mình luôn.. chất son mịn độ lì trung bình</td>\n",
       "      <td>221 MELLOW FLOWER</td>\n",
       "      <td>no</td>\n",
       "      <td>no</td>\n",
       "    </tr>\n",
       "    <tr>\n",
       "      <th>9412</th>\n",
       "      <td>NaN</td>\n",
       "      <td>nancyvy0803</td>\n",
       "      <td>2024-01-05 10:59:40</td>\n",
       "      <td>5</td>\n",
       "      <td>Hình ảnh và video chỉ mang tính chất minh hoạ để nhận xu\\nSon khá đẹp,có vẻ hơi ít định lượng. Để lên đúng màu chắc phải base môi trước. Chưa test được độ bền màu như nào</td>\n",
       "      <td>228 RED SEVENTIES</td>\n",
       "      <td>no</td>\n",
       "      <td>no</td>\n",
       "    </tr>\n",
       "    <tr>\n",
       "      <th>9413</th>\n",
       "      <td>NaN</td>\n",
       "      <td>ngothaouyen1412</td>\n",
       "      <td>2024-01-06 08:53:17</td>\n",
       "      <td>5</td>\n",
       "      <td>Độ bền màu:tot\\n\\nson đẹp lắm ạ.hình ảnh mang tính chất nhận xu hihihihihihi\\nhttps://cf.shopee.vn/file/vn-11134103-7r98o-lq616ti31scyfd</td>\n",
       "      <td>222 STEP AND GO</td>\n",
       "      <td>no</td>\n",
       "      <td>yes</td>\n",
       "    </tr>\n",
       "    <tr>\n",
       "      <th>9414</th>\n",
       "      <td>NaN</td>\n",
       "      <td>1k88l99h8o</td>\n",
       "      <td>2024-01-06 10:56:56</td>\n",
       "      <td>5</td>\n",
       "      <td>Công dụng:trang điểm\\nĐộ bền màu:tốt\\n\\nShop đóng gói hàng rất là cẩn thận, son lên màu đẹp, màu son tôn da\\nhttps://cf.shopee.vn/file/vn-11134103-7r98o-lq65lzyv60uq0c</td>\n",
       "      <td>227 BENCHMARK</td>\n",
       "      <td>no</td>\n",
       "      <td>yes</td>\n",
       "    </tr>\n",
       "    <tr>\n",
       "      <th>9415</th>\n",
       "      <td>NaN</td>\n",
       "      <td>hannah_le.0607</td>\n",
       "      <td>2024-01-07 23:49:34</td>\n",
       "      <td>5</td>\n",
       "      <td>Chân ái từ khi dùng son 3ce này. Chưa bjo thất vọng. Đã mua nhiều lần\\nhttps://cf.shopee.vn/file/vn-11134103-7r98o-lq8cjvti4ssy8a</td>\n",
       "      <td>222 STEP AND GO</td>\n",
       "      <td>no</td>\n",
       "      <td>yes</td>\n",
       "    </tr>\n",
       "  </tbody>\n",
       "</table>\n",
       "<p>9416 rows × 8 columns</p>\n",
       "</div>"
      ],
      "text/plain": [
       "            Seller         Customer                Date  Rating  \\\n",
       "0     HM Cosmetics          g*****g 2022-01-17 15:32:51       5   \n",
       "1     HM Cosmetics         nhi62000 2022-01-22 02:45:42       5   \n",
       "2     HM Cosmetics  cutephomaiquene 2022-01-24 18:23:28       5   \n",
       "3     HM Cosmetics         tiosmile 2022-01-25 12:04:45       5   \n",
       "4     HM Cosmetics         tiosmile 2022-01-25 12:05:15       5   \n",
       "...            ...              ...                 ...     ...   \n",
       "9411           NaN          l*****a 2024-01-05 10:32:50       5   \n",
       "9412           NaN      nancyvy0803 2024-01-05 10:59:40       5   \n",
       "9413           NaN  ngothaouyen1412 2024-01-06 08:53:17       5   \n",
       "9414           NaN       1k88l99h8o 2024-01-06 10:56:56       5   \n",
       "9415           NaN   hannah_le.0607 2024-01-07 23:49:34       5   \n",
       "\n",
       "                                                                                                                                                                                                       Review  \\\n",
       "0     Kết cấu:tint sệt\\nĐộ bền màu:9/10\\n\\nshop CSKH cực kì tốt luôn, mình bị trục trặc xíu về đơn hàng nhưng shop rep và giải quyết nhanh chóng, màu son thì mình chấm 10/10, son có mùi vani ngọt nồng n...   \n",
       "1                                                                                                                                         Kết cấu:mềm mướt, giữ ẩm cho môi không bị khô\\nĐộ bền màu:khoảng 4h   \n",
       "2                                                                          sang xịn mịn quá đỉnh lun ạ\\nshop còn bán rẻ qá tr nữa chứ ạ hihi 😻😻😻😻\\nhttps://cf.shopee.vn/file/7bb271ae3fb3f467f73d7e617733d97b   \n",
       "3     Video ko liên quan, son chính hãng, màu đẹp giá rẻ, ship siêu nhanh \\nDncjdklamabdbdkdkalwmsndndmslwksncnfnfjfjfiflalwkndnx cncmfsmamsmd d dnxama\\nhttps://cf.shopee.vn/file/0e3755303a9c7729cfe1002...   \n",
       "4     Video ko liên quan, son chính hãng, màu đẹp giá rẻ, ship siêu nhanh \\nDncjdklamabdbdkdkalwmsndndmslwksncnfnfjfjfiflalwkndnx cncmfsmamsmd d dnxama\\nhttps://cf.shopee.vn/file/e626dd91841c8515a48112c...   \n",
       "...                                                                                                                                                                                                       ...   \n",
       "9411                                                                             Hình ảnh và vid không liên quan sản phẩm\\nShop chuẩn bị hàng nhanh, màu son đúng ý mình luôn.. chất son mịn độ lì trung bình   \n",
       "9412                               Hình ảnh và video chỉ mang tính chất minh hoạ để nhận xu\\nSon khá đẹp,có vẻ hơi ít định lượng. Để lên đúng màu chắc phải base môi trước. Chưa test được độ bền màu như nào   \n",
       "9413                                                                 Độ bền màu:tot\\n\\nson đẹp lắm ạ.hình ảnh mang tính chất nhận xu hihihihihihi\\nhttps://cf.shopee.vn/file/vn-11134103-7r98o-lq616ti31scyfd   \n",
       "9414                                  Công dụng:trang điểm\\nĐộ bền màu:tốt\\n\\nShop đóng gói hàng rất là cẩn thận, son lên màu đẹp, màu son tôn da\\nhttps://cf.shopee.vn/file/vn-11134103-7r98o-lq65lzyv60uq0c   \n",
       "9415                                                                        Chân ái từ khi dùng son 3ce này. Chưa bjo thất vọng. Đã mua nhiều lần\\nhttps://cf.shopee.vn/file/vn-11134103-7r98o-lq8cjvti4ssy8a   \n",
       "\n",
       "                Version Oversea Shopping Picture included  \n",
       "0             # LAYDOWN               no              yes  \n",
       "1                #SEPIA               no               no  \n",
       "2             # LAYDOWN               no              yes  \n",
       "3            # PLAY OFF               no              yes  \n",
       "4                #SEPIA               no              yes  \n",
       "...                 ...              ...              ...  \n",
       "9411  221 MELLOW FLOWER               no               no  \n",
       "9412  228 RED SEVENTIES               no               no  \n",
       "9413    222 STEP AND GO               no              yes  \n",
       "9414      227 BENCHMARK               no              yes  \n",
       "9415    222 STEP AND GO               no              yes  \n",
       "\n",
       "[9416 rows x 8 columns]"
      ]
     },
     "execution_count": 21,
     "metadata": {},
     "output_type": "execute_result"
    }
   ],
   "source": [
    "ce_cleaned"
   ]
  },
  {
   "cell_type": "code",
   "execution_count": 22,
   "id": "e882dd5c-d008-454c-80af-df20ab550a2a",
   "metadata": {},
   "outputs": [],
   "source": [
    "ce_cleaned['Seller'].fillna('3CE Official', inplace=True)"
   ]
  },
  {
   "cell_type": "code",
   "execution_count": 23,
   "id": "fa5cf25f-8dfd-488c-bd20-77e028cc77bb",
   "metadata": {},
   "outputs": [],
   "source": [
    "ce_cleaned.drop_duplicates(keep='first', inplace=True)"
   ]
  },
  {
   "cell_type": "code",
   "execution_count": 24,
   "id": "00518077-d039-4930-b1f4-fcc6477d4528",
   "metadata": {},
   "outputs": [],
   "source": [
    "list_na_index = ce_cleaned.loc[ce_cleaned['Customer'].notna() == False].index.values\n",
    "for i in list_na_index:\n",
    "    ce_cleaned.at[i, 'Customer'] = f'Customer #{i}'"
   ]
  },
  {
   "cell_type": "code",
   "execution_count": 25,
   "id": "ecb07f32-1a0e-4d31-a6c7-e792807f29d6",
   "metadata": {},
   "outputs": [
    {
     "data": {
      "text/plain": [
       "array([  66,   72,  187,  348,  409,  412,  545,  580,  612,  846,  858,\n",
       "        885, 1174, 1407, 2591, 2593, 2597, 2602, 2633, 2660, 2666, 2681,\n",
       "       2712, 2730, 2759, 2869, 2952, 2977, 3056, 3387, 3423, 3459, 3560,\n",
       "       3753, 4116, 4172, 5850, 6703, 6810, 6933, 6938, 7027, 7056, 7085,\n",
       "       7101, 7103, 7251, 7374, 7664, 7854, 7903, 7935, 8302, 8362, 8365,\n",
       "       8592, 9107], dtype=int64)"
      ]
     },
     "execution_count": 25,
     "metadata": {},
     "output_type": "execute_result"
    }
   ],
   "source": [
    "list_na_index"
   ]
  },
  {
   "cell_type": "code",
   "execution_count": 26,
   "id": "e97ac789-5ee7-40af-8735-7f46be0e15f4",
   "metadata": {},
   "outputs": [],
   "source": [
    "#ce_cleaned.to_excel('raw_cleaned_ce.xlsx', index=False)"
   ]
  },
  {
   "cell_type": "markdown",
   "id": "b2e20887-b9f7-4687-bc26-17a624e5dd9c",
   "metadata": {},
   "source": [
    "# BBia"
   ]
  },
  {
   "cell_type": "code",
   "execution_count": 27,
   "id": "faea9598-8610-4ccd-8733-a1cdfc887a22",
   "metadata": {},
   "outputs": [],
   "source": [
    "cocolux = pd.read_excel('Shopee_data/bbia/cocolux bbia.xlsx')\n",
    "cocolux['Unnamed: 1'].fillna('Cocolux', inplace=True)"
   ]
  },
  {
   "cell_type": "code",
   "execution_count": 28,
   "id": "4555bbf7-4b65-419e-b161-f43d37c6baa9",
   "metadata": {},
   "outputs": [],
   "source": [
    "bbia_paths = ['Shopee_data/bbia/bbia.xlsx', 'Shopee_data/bbia/bbia 1.xlsx', 'Shopee_data/bbia/bbia 2.xlsx', 'Shopee_data/bbia/bbia 3.xlsx']\n",
    "dfs = []\n",
    "for path in bbia_paths:\n",
    "    df = pd.read_excel(path)\n",
    "    dfs.append(df)"
   ]
  },
  {
   "cell_type": "code",
   "execution_count": 29,
   "id": "9c8b2a1c-a0b8-4734-891e-e14667edb4f3",
   "metadata": {},
   "outputs": [],
   "source": [
    "bbia_df = pd.concat(dfs, ignore_index=True)"
   ]
  },
  {
   "cell_type": "code",
   "execution_count": 30,
   "id": "05c94774-065d-4423-9e8e-2d0e5ad323bc",
   "metadata": {},
   "outputs": [
    {
     "data": {
      "text/html": [
       "<div>\n",
       "<style scoped>\n",
       "    .dataframe tbody tr th:only-of-type {\n",
       "        vertical-align: middle;\n",
       "    }\n",
       "\n",
       "    .dataframe tbody tr th {\n",
       "        vertical-align: top;\n",
       "    }\n",
       "\n",
       "    .dataframe thead th {\n",
       "        text-align: right;\n",
       "    }\n",
       "</style>\n",
       "<table border=\"1\" class=\"dataframe\">\n",
       "  <thead>\n",
       "    <tr style=\"text-align: right;\">\n",
       "      <th></th>\n",
       "      <th>Unnamed: 0</th>\n",
       "      <th>Unnamed: 1</th>\n",
       "      <th>Author</th>\n",
       "      <th>Date</th>\n",
       "      <th>Rating</th>\n",
       "      <th>Rating Delivery Service</th>\n",
       "      <th>Rating Product Quality</th>\n",
       "      <th>Rating Seller Service</th>\n",
       "      <th>Review</th>\n",
       "      <th>Version</th>\n",
       "      <th>Oversea Shopping</th>\n",
       "      <th>Region</th>\n",
       "      <th>Picture included</th>\n",
       "      <th>Photos</th>\n",
       "      <th>Videos</th>\n",
       "      <th>(view source)</th>\n",
       "    </tr>\n",
       "  </thead>\n",
       "  <tbody>\n",
       "    <tr>\n",
       "      <th>0</th>\n",
       "      <td>1</td>\n",
       "      <td>NaN</td>\n",
       "      <td>suri.nguyen03</td>\n",
       "      <td>2021-10-13 07:37:38</td>\n",
       "      <td>5</td>\n",
       "      <td>0</td>\n",
       "      <td>5</td>\n",
       "      <td>0</td>\n",
       "      <td>Son màu cam đào, để mặt mộc mà quánh lên nhìn hơi quê nên make up sài mới ok nha\\nhttps://cf.shopee.vn/file/f6c892d851e6d80f09d36cffba150651\\nhttps://cf.shopee.vn/file/9e43d9e365dcbded7f014b2ceb14...</td>\n",
       "      <td>#001 Chai</td>\n",
       "      <td>no</td>\n",
       "      <td>vn</td>\n",
       "      <td>yes</td>\n",
       "      <td>https://cf.shopee.vn/file/f6c892d851e6d80f09d36cffba150651, https://cf.shopee.vn/file/9e43d9e365dcbded7f014b2ceb14c3d2</td>\n",
       "      <td>https://down-cvs-sg.vod.susercontent.com/api/v4/11110103/mms/vn_712835af-50f2-416c-8e77-7ad788e9f1b9_000074.default.mp4</td>\n",
       "      <td>view review</td>\n",
       "    </tr>\n",
       "    <tr>\n",
       "      <th>1</th>\n",
       "      <td>2</td>\n",
       "      <td>NaN</td>\n",
       "      <td>v*****1</td>\n",
       "      <td>2021-10-13 10:02:15</td>\n",
       "      <td>5</td>\n",
       "      <td>0</td>\n",
       "      <td>5</td>\n",
       "      <td>0</td>\n",
       "      <td>đóng gối cẩn thận giao hàng nhanh son chất lượng lên màu đẹp ok</td>\n",
       "      <td>#004 Cinnamon</td>\n",
       "      <td>no</td>\n",
       "      <td>vn</td>\n",
       "      <td>no</td>\n",
       "      <td>NaN</td>\n",
       "      <td>NaN</td>\n",
       "      <td>view review</td>\n",
       "    </tr>\n",
       "    <tr>\n",
       "      <th>2</th>\n",
       "      <td>3</td>\n",
       "      <td>NaN</td>\n",
       "      <td>jindang6996</td>\n",
       "      <td>2021-10-13 15:37:10</td>\n",
       "      <td>5</td>\n",
       "      <td>0</td>\n",
       "      <td>5</td>\n",
       "      <td>0</td>\n",
       "      <td>Mua 3 cây dc tặng thêm 1 cây. Tính ra chưa đến 100k/câ. Bbia thì mình dùng và ghiền tới mức ko muốn đổi brand khác luôn. Chất son nhẹ bám màu tốt. Hàng của mall mà giá tốt thế này thì các bạn bán ...</td>\n",
       "      <td>#002 Vintage</td>\n",
       "      <td>no</td>\n",
       "      <td>vn</td>\n",
       "      <td>yes</td>\n",
       "      <td>https://cf.shopee.vn/file/61ba6ac989d30400f5e388400a26482d</td>\n",
       "      <td>NaN</td>\n",
       "      <td>view review</td>\n",
       "    </tr>\n",
       "    <tr>\n",
       "      <th>3</th>\n",
       "      <td>4</td>\n",
       "      <td>NaN</td>\n",
       "      <td>yenlinh0142</td>\n",
       "      <td>2021-10-14 05:04:49</td>\n",
       "      <td>5</td>\n",
       "      <td>0</td>\n",
       "      <td>5</td>\n",
       "      <td>0</td>\n",
       "      <td>Giao hàng siêu nhanh, chất son ẩm mịn lên môi xinh xĩuu lại còn đc tặng thêm gương nữa 😘😘😘</td>\n",
       "      <td>#002 Vintage</td>\n",
       "      <td>no</td>\n",
       "      <td>vn</td>\n",
       "      <td>no</td>\n",
       "      <td>NaN</td>\n",
       "      <td>NaN</td>\n",
       "      <td>view review</td>\n",
       "    </tr>\n",
       "    <tr>\n",
       "      <th>4</th>\n",
       "      <td>5</td>\n",
       "      <td>NaN</td>\n",
       "      <td>h*****8</td>\n",
       "      <td>2021-10-14 05:50:09</td>\n",
       "      <td>5</td>\n",
       "      <td>0</td>\n",
       "      <td>5</td>\n",
       "      <td>0</td>\n",
       "      <td>màu này xinh, kiểu hồng cam mà nó k hợp vs môi mình lắm tại nền môi hơi đậm nên lên màu hồng lè à :((( chất thì ok nha</td>\n",
       "      <td>#002 Vintage</td>\n",
       "      <td>no</td>\n",
       "      <td>vn</td>\n",
       "      <td>no</td>\n",
       "      <td>NaN</td>\n",
       "      <td>NaN</td>\n",
       "      <td>view review</td>\n",
       "    </tr>\n",
       "    <tr>\n",
       "      <th>...</th>\n",
       "      <td>...</td>\n",
       "      <td>...</td>\n",
       "      <td>...</td>\n",
       "      <td>...</td>\n",
       "      <td>...</td>\n",
       "      <td>...</td>\n",
       "      <td>...</td>\n",
       "      <td>...</td>\n",
       "      <td>...</td>\n",
       "      <td>...</td>\n",
       "      <td>...</td>\n",
       "      <td>...</td>\n",
       "      <td>...</td>\n",
       "      <td>...</td>\n",
       "      <td>...</td>\n",
       "      <td>...</td>\n",
       "    </tr>\n",
       "    <tr>\n",
       "      <th>15125</th>\n",
       "      <td>3024</td>\n",
       "      <td>Cocolux</td>\n",
       "      <td>phuonganhkimphu</td>\n",
       "      <td>2024-01-08 07:25:43</td>\n",
       "      <td>5</td>\n",
       "      <td>5</td>\n",
       "      <td>5</td>\n",
       "      <td>5</td>\n",
       "      <td>Hình ảnh chỉ mang tính chất Minh hoạ, son dùng ok nha cácbannj</td>\n",
       "      <td>14 Màu đỏ lạnh</td>\n",
       "      <td>no</td>\n",
       "      <td>vn</td>\n",
       "      <td>no</td>\n",
       "      <td>NaN</td>\n",
       "      <td>NaN</td>\n",
       "      <td>view review</td>\n",
       "    </tr>\n",
       "    <tr>\n",
       "      <th>15126</th>\n",
       "      <td>3025</td>\n",
       "      <td>Cocolux</td>\n",
       "      <td>tuyen140899</td>\n",
       "      <td>2024-01-08 10:03:13</td>\n",
       "      <td>5</td>\n",
       "      <td>5</td>\n",
       "      <td>5</td>\n",
       "      <td>5</td>\n",
       "      <td>Công dụng:son\\nĐộ bền màu:duoc\\n\\nĐủ số lượng giao hàng nhanh. Hình ảnh mang tính chats miinh hoạ. Sẽ ủng hộ tiếp\\nhttps://cf.shopee.vn/file/vn-11134103-7r98o-lq8yhsoc5qnr65</td>\n",
       "      <td>45 So Good Brick</td>\n",
       "      <td>no</td>\n",
       "      <td>vn</td>\n",
       "      <td>yes</td>\n",
       "      <td>https://cf.shopee.vn/file/vn-11134103-7r98o-lq8yhsoc5qnr65</td>\n",
       "      <td>NaN</td>\n",
       "      <td>view review</td>\n",
       "    </tr>\n",
       "    <tr>\n",
       "      <th>15127</th>\n",
       "      <td>3026</td>\n",
       "      <td>Cocolux</td>\n",
       "      <td>yennhii_2504</td>\n",
       "      <td>2024-01-08 13:53:10</td>\n",
       "      <td>5</td>\n",
       "      <td>5</td>\n",
       "      <td>5</td>\n",
       "      <td>5</td>\n",
       "      <td>Màu son lên chuẩn , xinh nhé mng đặt hộ t đơn t bị thu ĐT của mình là người yêu công nghệ</td>\n",
       "      <td>14 Màu đỏ lạnh</td>\n",
       "      <td>no</td>\n",
       "      <td>vn</td>\n",
       "      <td>no</td>\n",
       "      <td>NaN</td>\n",
       "      <td>NaN</td>\n",
       "      <td>view review</td>\n",
       "    </tr>\n",
       "    <tr>\n",
       "      <th>15128</th>\n",
       "      <td>3027</td>\n",
       "      <td>Cocolux</td>\n",
       "      <td>r*****4</td>\n",
       "      <td>2024-01-08 15:53:34</td>\n",
       "      <td>5</td>\n",
       "      <td>5</td>\n",
       "      <td>5</td>\n",
       "      <td>5</td>\n",
       "      <td>Độ bền màu:lâu ạ\\nCông dụng:làm đẹp\\n\\nHình ảnh chỉ mang tính chất nhận xu.\\nMàu xinh xỉu a\\nhttps://cf.shopee.vn/file/vn-11134103-7r98o-lq9aco95sxci13</td>\n",
       "      <td>36 Đậu đỏ trầm</td>\n",
       "      <td>no</td>\n",
       "      <td>vn</td>\n",
       "      <td>yes</td>\n",
       "      <td>https://cf.shopee.vn/file/vn-11134103-7r98o-lq9aco95sxci13</td>\n",
       "      <td>NaN</td>\n",
       "      <td>view review</td>\n",
       "    </tr>\n",
       "    <tr>\n",
       "      <th>15129</th>\n",
       "      <td>3028</td>\n",
       "      <td>Cocolux</td>\n",
       "      <td>thuy020901</td>\n",
       "      <td>2024-01-08 16:34:14</td>\n",
       "      <td>5</td>\n",
       "      <td>5</td>\n",
       "      <td>5</td>\n",
       "      <td>5</td>\n",
       "      <td>NaN</td>\n",
       "      <td>25 màu đỏ nâu đất</td>\n",
       "      <td>no</td>\n",
       "      <td>vn</td>\n",
       "      <td>no</td>\n",
       "      <td>NaN</td>\n",
       "      <td>NaN</td>\n",
       "      <td>view review</td>\n",
       "    </tr>\n",
       "  </tbody>\n",
       "</table>\n",
       "<p>15130 rows × 16 columns</p>\n",
       "</div>"
      ],
      "text/plain": [
       "       Unnamed: 0 Unnamed: 1           Author                Date  Rating  \\\n",
       "0               1        NaN    suri.nguyen03 2021-10-13 07:37:38       5   \n",
       "1               2        NaN          v*****1 2021-10-13 10:02:15       5   \n",
       "2               3        NaN      jindang6996 2021-10-13 15:37:10       5   \n",
       "3               4        NaN      yenlinh0142 2021-10-14 05:04:49       5   \n",
       "4               5        NaN          h*****8 2021-10-14 05:50:09       5   \n",
       "...           ...        ...              ...                 ...     ...   \n",
       "15125        3024    Cocolux  phuonganhkimphu 2024-01-08 07:25:43       5   \n",
       "15126        3025    Cocolux      tuyen140899 2024-01-08 10:03:13       5   \n",
       "15127        3026    Cocolux     yennhii_2504 2024-01-08 13:53:10       5   \n",
       "15128        3027    Cocolux          r*****4 2024-01-08 15:53:34       5   \n",
       "15129        3028    Cocolux       thuy020901 2024-01-08 16:34:14       5   \n",
       "\n",
       "       Rating Delivery Service  Rating Product Quality  Rating Seller Service  \\\n",
       "0                            0                       5                      0   \n",
       "1                            0                       5                      0   \n",
       "2                            0                       5                      0   \n",
       "3                            0                       5                      0   \n",
       "4                            0                       5                      0   \n",
       "...                        ...                     ...                    ...   \n",
       "15125                        5                       5                      5   \n",
       "15126                        5                       5                      5   \n",
       "15127                        5                       5                      5   \n",
       "15128                        5                       5                      5   \n",
       "15129                        5                       5                      5   \n",
       "\n",
       "                                                                                                                                                                                                        Review  \\\n",
       "0      Son màu cam đào, để mặt mộc mà quánh lên nhìn hơi quê nên make up sài mới ok nha\\nhttps://cf.shopee.vn/file/f6c892d851e6d80f09d36cffba150651\\nhttps://cf.shopee.vn/file/9e43d9e365dcbded7f014b2ceb14...   \n",
       "1                                                                                                                                              đóng gối cẩn thận giao hàng nhanh son chất lượng lên màu đẹp ok   \n",
       "2      Mua 3 cây dc tặng thêm 1 cây. Tính ra chưa đến 100k/câ. Bbia thì mình dùng và ghiền tới mức ko muốn đổi brand khác luôn. Chất son nhẹ bám màu tốt. Hàng của mall mà giá tốt thế này thì các bạn bán ...   \n",
       "3                                                                                                                   Giao hàng siêu nhanh, chất son ẩm mịn lên môi xinh xĩuu lại còn đc tặng thêm gương nữa 😘😘😘   \n",
       "4                                                                                       màu này xinh, kiểu hồng cam mà nó k hợp vs môi mình lắm tại nền môi hơi đậm nên lên màu hồng lè à :((( chất thì ok nha   \n",
       "...                                                                                                                                                                                                        ...   \n",
       "15125                                                                                                                                           Hình ảnh chỉ mang tính chất Minh hoạ, son dùng ok nha cácbannj   \n",
       "15126                            Công dụng:son\\nĐộ bền màu:duoc\\n\\nĐủ số lượng giao hàng nhanh. Hình ảnh mang tính chats miinh hoạ. Sẽ ủng hộ tiếp\\nhttps://cf.shopee.vn/file/vn-11134103-7r98o-lq8yhsoc5qnr65   \n",
       "15127                                                                                                                Màu son lên chuẩn , xinh nhé mng đặt hộ t đơn t bị thu ĐT của mình là người yêu công nghệ   \n",
       "15128                                                  Độ bền màu:lâu ạ\\nCông dụng:làm đẹp\\n\\nHình ảnh chỉ mang tính chất nhận xu.\\nMàu xinh xỉu a\\nhttps://cf.shopee.vn/file/vn-11134103-7r98o-lq9aco95sxci13   \n",
       "15129                                                                                                                                                                                                      NaN   \n",
       "\n",
       "                 Version Oversea Shopping Region Picture included  \\\n",
       "0              #001 Chai               no     vn              yes   \n",
       "1          #004 Cinnamon               no     vn               no   \n",
       "2           #002 Vintage               no     vn              yes   \n",
       "3           #002 Vintage               no     vn               no   \n",
       "4           #002 Vintage               no     vn               no   \n",
       "...                  ...              ...    ...              ...   \n",
       "15125     14 Màu đỏ lạnh               no     vn               no   \n",
       "15126   45 So Good Brick               no     vn              yes   \n",
       "15127     14 Màu đỏ lạnh               no     vn               no   \n",
       "15128     36 Đậu đỏ trầm               no     vn              yes   \n",
       "15129  25 màu đỏ nâu đất               no     vn               no   \n",
       "\n",
       "                                                                                                                       Photos  \\\n",
       "0      https://cf.shopee.vn/file/f6c892d851e6d80f09d36cffba150651, https://cf.shopee.vn/file/9e43d9e365dcbded7f014b2ceb14c3d2   \n",
       "1                                                                                                                         NaN   \n",
       "2                                                                  https://cf.shopee.vn/file/61ba6ac989d30400f5e388400a26482d   \n",
       "3                                                                                                                         NaN   \n",
       "4                                                                                                                         NaN   \n",
       "...                                                                                                                       ...   \n",
       "15125                                                                                                                     NaN   \n",
       "15126                                                              https://cf.shopee.vn/file/vn-11134103-7r98o-lq8yhsoc5qnr65   \n",
       "15127                                                                                                                     NaN   \n",
       "15128                                                              https://cf.shopee.vn/file/vn-11134103-7r98o-lq9aco95sxci13   \n",
       "15129                                                                                                                     NaN   \n",
       "\n",
       "                                                                                                                        Videos  \\\n",
       "0      https://down-cvs-sg.vod.susercontent.com/api/v4/11110103/mms/vn_712835af-50f2-416c-8e77-7ad788e9f1b9_000074.default.mp4   \n",
       "1                                                                                                                          NaN   \n",
       "2                                                                                                                          NaN   \n",
       "3                                                                                                                          NaN   \n",
       "4                                                                                                                          NaN   \n",
       "...                                                                                                                        ...   \n",
       "15125                                                                                                                      NaN   \n",
       "15126                                                                                                                      NaN   \n",
       "15127                                                                                                                      NaN   \n",
       "15128                                                                                                                      NaN   \n",
       "15129                                                                                                                      NaN   \n",
       "\n",
       "      (view source)  \n",
       "0       view review  \n",
       "1       view review  \n",
       "2       view review  \n",
       "3       view review  \n",
       "4       view review  \n",
       "...             ...  \n",
       "15125   view review  \n",
       "15126   view review  \n",
       "15127   view review  \n",
       "15128   view review  \n",
       "15129   view review  \n",
       "\n",
       "[15130 rows x 16 columns]"
      ]
     },
     "execution_count": 30,
     "metadata": {},
     "output_type": "execute_result"
    }
   ],
   "source": [
    "df_bbia = pd.concat([bbia_df, cocolux], ignore_index=True)\n",
    "df_bbia"
   ]
  },
  {
   "cell_type": "code",
   "execution_count": 31,
   "id": "3cf45943-a201-4401-99a6-7f21851d2204",
   "metadata": {},
   "outputs": [],
   "source": [
    "df_bbia.drop(columns=['Unnamed: 0', 'Rating Delivery Service', 'Rating Product Quality', 'Rating Seller Service', 'Region', 'Photos', \n",
    "                       'Videos', '(view source)'], inplace=True)"
   ]
  },
  {
   "cell_type": "code",
   "execution_count": 32,
   "id": "68dfab59-30ea-40eb-8574-8648c8a20f74",
   "metadata": {},
   "outputs": [],
   "source": [
    "df_bbia['Unnamed: 1'].fillna('Bbia Official Store', inplace=True)"
   ]
  },
  {
   "cell_type": "code",
   "execution_count": 33,
   "id": "65ef2332-67b5-4c8d-87d9-0aee07ceae7b",
   "metadata": {},
   "outputs": [],
   "source": [
    "df_bbia.rename(columns={'Unnamed: 1': 'Seller', 'Author': 'Customer'}, inplace=True)"
   ]
  },
  {
   "cell_type": "code",
   "execution_count": 34,
   "id": "46692691-ef6f-46ea-a334-e4b565fd1687",
   "metadata": {},
   "outputs": [],
   "source": [
    "df_bbia.drop_duplicates(keep='first', inplace=True)"
   ]
  },
  {
   "cell_type": "code",
   "execution_count": 35,
   "id": "0f859c38-8120-48a7-9a31-327e5caa075d",
   "metadata": {},
   "outputs": [],
   "source": [
    "list_na_index = df_bbia.loc[df_bbia['Customer'].isna() == True].index.values\n",
    "for i in list_na_index:\n",
    "    df_bbia.at[i, 'Customer'] = f'Customer #{i}'"
   ]
  },
  {
   "cell_type": "code",
   "execution_count": 36,
   "id": "5d2640c0-e9af-4e25-9800-4428ba43411b",
   "metadata": {},
   "outputs": [],
   "source": [
    "bbia_cleaned = df_bbia.loc[df_bbia['Review'].notna() == True]"
   ]
  },
  {
   "cell_type": "code",
   "execution_count": 37,
   "id": "600142fa-7bba-420d-acd1-7c3250fae089",
   "metadata": {},
   "outputs": [],
   "source": [
    "#bbia_cleaned.to_excel('raw_cleaned_bbia.xlsx', index=False)"
   ]
  },
  {
   "cell_type": "code",
   "execution_count": 38,
   "id": "d21ea9ba-3526-4a0e-943d-1c13a8f13018",
   "metadata": {},
   "outputs": [
    {
     "data": {
      "text/html": [
       "<div>\n",
       "<style scoped>\n",
       "    .dataframe tbody tr th:only-of-type {\n",
       "        vertical-align: middle;\n",
       "    }\n",
       "\n",
       "    .dataframe tbody tr th {\n",
       "        vertical-align: top;\n",
       "    }\n",
       "\n",
       "    .dataframe thead th {\n",
       "        text-align: right;\n",
       "    }\n",
       "</style>\n",
       "<table border=\"1\" class=\"dataframe\">\n",
       "  <thead>\n",
       "    <tr style=\"text-align: right;\">\n",
       "      <th></th>\n",
       "      <th>Seller</th>\n",
       "      <th>Customer</th>\n",
       "      <th>Date</th>\n",
       "      <th>Rating</th>\n",
       "      <th>Review</th>\n",
       "      <th>Version</th>\n",
       "      <th>Oversea Shopping</th>\n",
       "      <th>Picture included</th>\n",
       "    </tr>\n",
       "  </thead>\n",
       "  <tbody>\n",
       "    <tr>\n",
       "      <th>0</th>\n",
       "      <td>Bbia Official Store</td>\n",
       "      <td>suri.nguyen03</td>\n",
       "      <td>2021-10-13 07:37:38</td>\n",
       "      <td>5</td>\n",
       "      <td>Son màu cam đào, để mặt mộc mà quánh lên nhìn hơi quê nên make up sài mới ok nha\\nhttps://cf.shopee.vn/file/f6c892d851e6d80f09d36cffba150651\\nhttps://cf.shopee.vn/file/9e43d9e365dcbded7f014b2ceb14...</td>\n",
       "      <td>#001 Chai</td>\n",
       "      <td>no</td>\n",
       "      <td>yes</td>\n",
       "    </tr>\n",
       "    <tr>\n",
       "      <th>1</th>\n",
       "      <td>Bbia Official Store</td>\n",
       "      <td>v*****1</td>\n",
       "      <td>2021-10-13 10:02:15</td>\n",
       "      <td>5</td>\n",
       "      <td>đóng gối cẩn thận giao hàng nhanh son chất lượng lên màu đẹp ok</td>\n",
       "      <td>#004 Cinnamon</td>\n",
       "      <td>no</td>\n",
       "      <td>no</td>\n",
       "    </tr>\n",
       "    <tr>\n",
       "      <th>2</th>\n",
       "      <td>Bbia Official Store</td>\n",
       "      <td>jindang6996</td>\n",
       "      <td>2021-10-13 15:37:10</td>\n",
       "      <td>5</td>\n",
       "      <td>Mua 3 cây dc tặng thêm 1 cây. Tính ra chưa đến 100k/câ. Bbia thì mình dùng và ghiền tới mức ko muốn đổi brand khác luôn. Chất son nhẹ bám màu tốt. Hàng của mall mà giá tốt thế này thì các bạn bán ...</td>\n",
       "      <td>#002 Vintage</td>\n",
       "      <td>no</td>\n",
       "      <td>yes</td>\n",
       "    </tr>\n",
       "    <tr>\n",
       "      <th>3</th>\n",
       "      <td>Bbia Official Store</td>\n",
       "      <td>yenlinh0142</td>\n",
       "      <td>2021-10-14 05:04:49</td>\n",
       "      <td>5</td>\n",
       "      <td>Giao hàng siêu nhanh, chất son ẩm mịn lên môi xinh xĩuu lại còn đc tặng thêm gương nữa 😘😘😘</td>\n",
       "      <td>#002 Vintage</td>\n",
       "      <td>no</td>\n",
       "      <td>no</td>\n",
       "    </tr>\n",
       "    <tr>\n",
       "      <th>4</th>\n",
       "      <td>Bbia Official Store</td>\n",
       "      <td>h*****8</td>\n",
       "      <td>2021-10-14 05:50:09</td>\n",
       "      <td>5</td>\n",
       "      <td>màu này xinh, kiểu hồng cam mà nó k hợp vs môi mình lắm tại nền môi hơi đậm nên lên màu hồng lè à :((( chất thì ok nha</td>\n",
       "      <td>#002 Vintage</td>\n",
       "      <td>no</td>\n",
       "      <td>no</td>\n",
       "    </tr>\n",
       "    <tr>\n",
       "      <th>...</th>\n",
       "      <td>...</td>\n",
       "      <td>...</td>\n",
       "      <td>...</td>\n",
       "      <td>...</td>\n",
       "      <td>...</td>\n",
       "      <td>...</td>\n",
       "      <td>...</td>\n",
       "      <td>...</td>\n",
       "    </tr>\n",
       "    <tr>\n",
       "      <th>15124</th>\n",
       "      <td>Cocolux</td>\n",
       "      <td>m*****2</td>\n",
       "      <td>2024-01-08 06:03:00</td>\n",
       "      <td>5</td>\n",
       "      <td>Khs lên môi t nó cam lắm lắm luôn. Nma thôi ks, vẫn là thỏi son yêu thích mua 3 lần của t 🥰\\nhttps://cf.shopee.vn/file/vn-11134103-7r98o-lq8pvlkjv5tj8e</td>\n",
       "      <td>25 màu đỏ nâu đất</td>\n",
       "      <td>no</td>\n",
       "      <td>yes</td>\n",
       "    </tr>\n",
       "    <tr>\n",
       "      <th>15125</th>\n",
       "      <td>Cocolux</td>\n",
       "      <td>phuonganhkimphu</td>\n",
       "      <td>2024-01-08 07:25:43</td>\n",
       "      <td>5</td>\n",
       "      <td>Hình ảnh chỉ mang tính chất Minh hoạ, son dùng ok nha cácbannj</td>\n",
       "      <td>14 Màu đỏ lạnh</td>\n",
       "      <td>no</td>\n",
       "      <td>no</td>\n",
       "    </tr>\n",
       "    <tr>\n",
       "      <th>15126</th>\n",
       "      <td>Cocolux</td>\n",
       "      <td>tuyen140899</td>\n",
       "      <td>2024-01-08 10:03:13</td>\n",
       "      <td>5</td>\n",
       "      <td>Công dụng:son\\nĐộ bền màu:duoc\\n\\nĐủ số lượng giao hàng nhanh. Hình ảnh mang tính chats miinh hoạ. Sẽ ủng hộ tiếp\\nhttps://cf.shopee.vn/file/vn-11134103-7r98o-lq8yhsoc5qnr65</td>\n",
       "      <td>45 So Good Brick</td>\n",
       "      <td>no</td>\n",
       "      <td>yes</td>\n",
       "    </tr>\n",
       "    <tr>\n",
       "      <th>15127</th>\n",
       "      <td>Cocolux</td>\n",
       "      <td>yennhii_2504</td>\n",
       "      <td>2024-01-08 13:53:10</td>\n",
       "      <td>5</td>\n",
       "      <td>Màu son lên chuẩn , xinh nhé mng đặt hộ t đơn t bị thu ĐT của mình là người yêu công nghệ</td>\n",
       "      <td>14 Màu đỏ lạnh</td>\n",
       "      <td>no</td>\n",
       "      <td>no</td>\n",
       "    </tr>\n",
       "    <tr>\n",
       "      <th>15128</th>\n",
       "      <td>Cocolux</td>\n",
       "      <td>r*****4</td>\n",
       "      <td>2024-01-08 15:53:34</td>\n",
       "      <td>5</td>\n",
       "      <td>Độ bền màu:lâu ạ\\nCông dụng:làm đẹp\\n\\nHình ảnh chỉ mang tính chất nhận xu.\\nMàu xinh xỉu a\\nhttps://cf.shopee.vn/file/vn-11134103-7r98o-lq9aco95sxci13</td>\n",
       "      <td>36 Đậu đỏ trầm</td>\n",
       "      <td>no</td>\n",
       "      <td>yes</td>\n",
       "    </tr>\n",
       "  </tbody>\n",
       "</table>\n",
       "<p>13788 rows × 8 columns</p>\n",
       "</div>"
      ],
      "text/plain": [
       "                    Seller         Customer                Date  Rating  \\\n",
       "0      Bbia Official Store    suri.nguyen03 2021-10-13 07:37:38       5   \n",
       "1      Bbia Official Store          v*****1 2021-10-13 10:02:15       5   \n",
       "2      Bbia Official Store      jindang6996 2021-10-13 15:37:10       5   \n",
       "3      Bbia Official Store      yenlinh0142 2021-10-14 05:04:49       5   \n",
       "4      Bbia Official Store          h*****8 2021-10-14 05:50:09       5   \n",
       "...                    ...              ...                 ...     ...   \n",
       "15124              Cocolux          m*****2 2024-01-08 06:03:00       5   \n",
       "15125              Cocolux  phuonganhkimphu 2024-01-08 07:25:43       5   \n",
       "15126              Cocolux      tuyen140899 2024-01-08 10:03:13       5   \n",
       "15127              Cocolux     yennhii_2504 2024-01-08 13:53:10       5   \n",
       "15128              Cocolux          r*****4 2024-01-08 15:53:34       5   \n",
       "\n",
       "                                                                                                                                                                                                        Review  \\\n",
       "0      Son màu cam đào, để mặt mộc mà quánh lên nhìn hơi quê nên make up sài mới ok nha\\nhttps://cf.shopee.vn/file/f6c892d851e6d80f09d36cffba150651\\nhttps://cf.shopee.vn/file/9e43d9e365dcbded7f014b2ceb14...   \n",
       "1                                                                                                                                              đóng gối cẩn thận giao hàng nhanh son chất lượng lên màu đẹp ok   \n",
       "2      Mua 3 cây dc tặng thêm 1 cây. Tính ra chưa đến 100k/câ. Bbia thì mình dùng và ghiền tới mức ko muốn đổi brand khác luôn. Chất son nhẹ bám màu tốt. Hàng của mall mà giá tốt thế này thì các bạn bán ...   \n",
       "3                                                                                                                   Giao hàng siêu nhanh, chất son ẩm mịn lên môi xinh xĩuu lại còn đc tặng thêm gương nữa 😘😘😘   \n",
       "4                                                                                       màu này xinh, kiểu hồng cam mà nó k hợp vs môi mình lắm tại nền môi hơi đậm nên lên màu hồng lè à :((( chất thì ok nha   \n",
       "...                                                                                                                                                                                                        ...   \n",
       "15124                                                  Khs lên môi t nó cam lắm lắm luôn. Nma thôi ks, vẫn là thỏi son yêu thích mua 3 lần của t 🥰\\nhttps://cf.shopee.vn/file/vn-11134103-7r98o-lq8pvlkjv5tj8e   \n",
       "15125                                                                                                                                           Hình ảnh chỉ mang tính chất Minh hoạ, son dùng ok nha cácbannj   \n",
       "15126                            Công dụng:son\\nĐộ bền màu:duoc\\n\\nĐủ số lượng giao hàng nhanh. Hình ảnh mang tính chats miinh hoạ. Sẽ ủng hộ tiếp\\nhttps://cf.shopee.vn/file/vn-11134103-7r98o-lq8yhsoc5qnr65   \n",
       "15127                                                                                                                Màu son lên chuẩn , xinh nhé mng đặt hộ t đơn t bị thu ĐT của mình là người yêu công nghệ   \n",
       "15128                                                  Độ bền màu:lâu ạ\\nCông dụng:làm đẹp\\n\\nHình ảnh chỉ mang tính chất nhận xu.\\nMàu xinh xỉu a\\nhttps://cf.shopee.vn/file/vn-11134103-7r98o-lq9aco95sxci13   \n",
       "\n",
       "                 Version Oversea Shopping Picture included  \n",
       "0              #001 Chai               no              yes  \n",
       "1          #004 Cinnamon               no               no  \n",
       "2           #002 Vintage               no              yes  \n",
       "3           #002 Vintage               no               no  \n",
       "4           #002 Vintage               no               no  \n",
       "...                  ...              ...              ...  \n",
       "15124  25 màu đỏ nâu đất               no              yes  \n",
       "15125     14 Màu đỏ lạnh               no               no  \n",
       "15126   45 So Good Brick               no              yes  \n",
       "15127     14 Màu đỏ lạnh               no               no  \n",
       "15128     36 Đậu đỏ trầm               no              yes  \n",
       "\n",
       "[13788 rows x 8 columns]"
      ]
     },
     "execution_count": 38,
     "metadata": {},
     "output_type": "execute_result"
    }
   ],
   "source": [
    "bbia_cleaned"
   ]
  },
  {
   "cell_type": "markdown",
   "id": "396e694e-cd72-4e01-9aa4-abb91fe20d2d",
   "metadata": {},
   "source": [
    "# Bebeau"
   ]
  },
  {
   "cell_type": "code",
   "execution_count": 39,
   "id": "33ae01f1-6d4d-478e-af62-e4f34c85132d",
   "metadata": {},
   "outputs": [],
   "source": [
    "import pandas as pd"
   ]
  },
  {
   "cell_type": "code",
   "execution_count": 40,
   "id": "fc86f40f-64c8-47a8-89e3-a66b433d7cef",
   "metadata": {},
   "outputs": [],
   "source": [
    "bb_paths = ['Shopee_data/bebeau/bebeau.xlsx', 'Shopee_data/bebeau/bebeau 1.xlsx']\n",
    "dfs = []\n",
    "for path in bb_paths:\n",
    "    df = pd.read_excel(path)\n",
    "    dfs.append(df)"
   ]
  },
  {
   "cell_type": "code",
   "execution_count": 41,
   "id": "1d08487f-da8b-4906-ada6-9e9c9f2f81bf",
   "metadata": {},
   "outputs": [],
   "source": [
    "bb_df = pd.concat(dfs, ignore_index=True)"
   ]
  },
  {
   "cell_type": "code",
   "execution_count": 42,
   "id": "b4e69f4b-1d7d-4e8d-acd8-900483c27c2c",
   "metadata": {},
   "outputs": [],
   "source": [
    "bb_df.drop(columns=['Unnamed: 0', 'Rating Delivery Service', 'Rating Product Quality', 'Rating Seller Service', 'Region', 'Photos', \n",
    "                       'Videos', '(view source)'], inplace=True)\n",
    "bb_df.rename(columns={'Unnamed: 1': 'Seller', 'Author': 'Customer'}, inplace=True)\n"
   ]
  },
  {
   "cell_type": "code",
   "execution_count": 43,
   "id": "351e34a4-a248-4f36-913a-4513bafc1f4a",
   "metadata": {},
   "outputs": [],
   "source": [
    "pd.set_option(\"display.max_colwidth\", 200)"
   ]
  },
  {
   "cell_type": "code",
   "execution_count": 44,
   "id": "52309426-5174-48c2-8178-cfdc045cc737",
   "metadata": {},
   "outputs": [],
   "source": [
    "bb_df[\"Seller\"].fillna('Bebeau Skin Shop', inplace=True)"
   ]
  },
  {
   "cell_type": "code",
   "execution_count": 45,
   "id": "719d77f8-2121-4f65-a03c-bdd8f2a76426",
   "metadata": {},
   "outputs": [],
   "source": [
    "bb_df['Review'].dropna(inplace=True)"
   ]
  },
  {
   "cell_type": "code",
   "execution_count": 46,
   "id": "f22aa29b-5c93-43ec-b84f-28c3207d0abd",
   "metadata": {},
   "outputs": [],
   "source": [
    "bb_df.drop_duplicates(keep='first', inplace=True)"
   ]
  },
  {
   "cell_type": "code",
   "execution_count": 47,
   "id": "55c71a53-fa02-4bb0-8f25-3b6b33ae1cbf",
   "metadata": {},
   "outputs": [],
   "source": [
    "list_na_index = bb_df.loc[bb_df['Customer'].isna() == True].index.values\n",
    "for i in list_na_index:\n",
    "    bb_df.at[i, 'Customer'] = f'Customer #{i}'"
   ]
  },
  {
   "cell_type": "code",
   "execution_count": 48,
   "id": "74584129-5a74-4e72-8860-152adc4404b0",
   "metadata": {},
   "outputs": [],
   "source": [
    "#bb_df.to_excel('raw_cleaned_bebeau.xlsx', index=False)"
   ]
  },
  {
   "cell_type": "markdown",
   "id": "8de71dbf-aa6e-4b25-b88c-3ad029de68d5",
   "metadata": {},
   "source": [
    "# Black Rouge"
   ]
  },
  {
   "cell_type": "code",
   "execution_count": 49,
   "id": "19c04692-6f74-410e-88f2-c3079c5ba50d",
   "metadata": {},
   "outputs": [],
   "source": [
    "import pandas as pd"
   ]
  },
  {
   "cell_type": "code",
   "execution_count": 50,
   "id": "2b2a0ab6-638b-45d7-94bb-3a19c6417340",
   "metadata": {},
   "outputs": [],
   "source": [
    "brstore_paths = ['Shopee_data/black rouge/black rouge.xlsx', 'Shopee_data/black rouge/black rouge 1.xlsx', 'Shopee_data/black rouge/black rouge 2.xlsx']\n",
    "dfs = []\n",
    "for path in brstore_paths:\n",
    "    df = pd.read_excel(path)\n",
    "    dfs.append(df)"
   ]
  },
  {
   "cell_type": "code",
   "execution_count": 51,
   "id": "b53cb934-7a40-4b1e-aa86-9748cf823073",
   "metadata": {},
   "outputs": [],
   "source": [
    "brstore_df = pd.concat(dfs, ignore_index=True)"
   ]
  },
  {
   "cell_type": "code",
   "execution_count": 52,
   "id": "b1455871-2ca8-4691-8901-e2d3ae85f5df",
   "metadata": {},
   "outputs": [],
   "source": [
    "brstore_df.drop(columns=['Unnamed: 0', 'Rating Delivery Service', 'Rating Product Quality', 'Rating Seller Service', 'Region', 'Photos', \n",
    "                       'Videos', '(view source)'], inplace=True)\n",
    "brstore_df.rename(columns={'Unnamed: 1': 'Seller', 'Author': 'Customer'}, inplace=True)\n"
   ]
  },
  {
   "cell_type": "code",
   "execution_count": 53,
   "id": "ec0d0ac2-b470-42f8-aca0-906ae0992389",
   "metadata": {},
   "outputs": [],
   "source": [
    "brstore_df_cleaned = brstore_df.loc[brstore_df['Review'].notna() == True].reset_index()\n",
    "brstore_df_cleaned.drop(columns=['index'], inplace=True)\n",
    "brstore_df_cleaned.drop_duplicates(keep='first', inplace=True)\n",
    "brstore_df_cleaned['Seller'].fillna('Black Rouge Official Store', inplace=True)"
   ]
  },
  {
   "cell_type": "code",
   "execution_count": 54,
   "id": "db664b68-0794-4813-9a59-0d32fb612a61",
   "metadata": {},
   "outputs": [],
   "source": [
    "df_mn = pd.read_excel('Shopee_data/black rouge/black rouge minna.xlsx')\n",
    "df_tn = pd.read_excel('Shopee_data/black rouge/black rouge thuyninh.xlsx')\n",
    "df_sf = pd.read_excel('Shopee_data/black rouge/black rouge skin food.xlsx')"
   ]
  },
  {
   "cell_type": "code",
   "execution_count": 55,
   "id": "9fce655c-4b40-458e-a183-47f7e5521aee",
   "metadata": {},
   "outputs": [],
   "source": [
    "shop_names = ['Minna cosmetics', 'Nhà Thuốc Thùy Ninh', 'Thế giới Skin Food']\n",
    "dfs = [df_mn, df_tn, df_sf]\n",
    "\n",
    "for name, df in enumerate(dfs):\n",
    "    shop_name = shop_names[name]\n",
    "    df['Unnamed: 1'].fillna(shop_name, inplace=True)"
   ]
  },
  {
   "cell_type": "code",
   "execution_count": 56,
   "id": "70de16c2-0895-4ca9-a4ec-64530cae671f",
   "metadata": {},
   "outputs": [],
   "source": [
    "notbrs_df = pd.concat(dfs, ignore_index=True)"
   ]
  },
  {
   "cell_type": "code",
   "execution_count": 57,
   "id": "80dbaa26-b806-446c-bd2f-1f681a7d1e07",
   "metadata": {},
   "outputs": [],
   "source": [
    "notbrs_df.drop(columns=['Unnamed: 0', 'Rating Delivery Service', 'Rating Product Quality', 'Rating Seller Service', 'Region', 'Photos', \n",
    "                       'Videos', '(view source)'], inplace=True)\n",
    "notbrs_df.rename(columns={'Unnamed: 1': 'Seller', 'Author': 'Customer'}, inplace=True)\n"
   ]
  },
  {
   "cell_type": "code",
   "execution_count": 58,
   "id": "06e39912-f9a0-4779-ab2f-9d87dace293d",
   "metadata": {},
   "outputs": [],
   "source": [
    "notbrs_df.drop_duplicates(inplace=True)"
   ]
  },
  {
   "cell_type": "code",
   "execution_count": 59,
   "id": "532a743e-f571-4375-9076-377ee87d4db9",
   "metadata": {},
   "outputs": [
    {
     "data": {
      "text/html": [
       "<div>\n",
       "<style scoped>\n",
       "    .dataframe tbody tr th:only-of-type {\n",
       "        vertical-align: middle;\n",
       "    }\n",
       "\n",
       "    .dataframe tbody tr th {\n",
       "        vertical-align: top;\n",
       "    }\n",
       "\n",
       "    .dataframe thead th {\n",
       "        text-align: right;\n",
       "    }\n",
       "</style>\n",
       "<table border=\"1\" class=\"dataframe\">\n",
       "  <thead>\n",
       "    <tr style=\"text-align: right;\">\n",
       "      <th></th>\n",
       "      <th>Seller</th>\n",
       "      <th>Customer</th>\n",
       "      <th>Date</th>\n",
       "      <th>Rating</th>\n",
       "      <th>Review</th>\n",
       "      <th>Version</th>\n",
       "      <th>Oversea Shopping</th>\n",
       "      <th>Picture included</th>\n",
       "    </tr>\n",
       "  </thead>\n",
       "  <tbody>\n",
       "    <tr>\n",
       "      <th>0</th>\n",
       "      <td>Minna cosmetics</td>\n",
       "      <td>t*****0</td>\n",
       "      <td>2021-03-06 11:35:44</td>\n",
       "      <td>5</td>\n",
       "      <td>Son siêu xinh luôn á💜 \\nhttps://cf.shopee.vn/file/438f3db45108db22bacca4cd64be0108</td>\n",
       "      <td>LÌ HV03</td>\n",
       "      <td>no</td>\n",
       "      <td>yes</td>\n",
       "    </tr>\n",
       "    <tr>\n",
       "      <th>1</th>\n",
       "      <td>Minna cosmetics</td>\n",
       "      <td>l_hmihngoc</td>\n",
       "      <td>2021-03-07 09:39:39</td>\n",
       "      <td>5</td>\n",
       "      <td>Ưng màu HV04 ghê. Kiểu đỏ cam cháy, sắc đỏ nhiều hơn nên khá dễ dùng, dòng này mùi k thơm. Chất son mịn đều là điểm cộng lớn.</td>\n",
       "      <td>LÌ HV04</td>\n",
       "      <td>no</td>\n",
       "      <td>no</td>\n",
       "    </tr>\n",
       "    <tr>\n",
       "      <th>2</th>\n",
       "      <td>Minna cosmetics</td>\n",
       "      <td>lainatran</td>\n",
       "      <td>2021-03-08 08:51:38</td>\n",
       "      <td>5</td>\n",
       "      <td>Son cầm chắc tay. Chất son mịn, đẹp. Giao hàng nhanh\\nhttps://cf.shopee.vn/file/d707b49c9f19b7d9162453e6a216ac6c\\nhttps://cf.shopee.vn/file/91bdaefb696ca1743e08892cfa767b34\\nhttps://cf.shopee.vn/f...</td>\n",
       "      <td>LÌ HV05</td>\n",
       "      <td>no</td>\n",
       "      <td>yes</td>\n",
       "    </tr>\n",
       "    <tr>\n",
       "      <th>3</th>\n",
       "      <td>Minna cosmetics</td>\n",
       "      <td>quynhmai1099</td>\n",
       "      <td>2021-03-08 11:30:23</td>\n",
       "      <td>5</td>\n",
       "      <td>Son rất đẹp, cầm êm tay\\nPackaging xịn xò\\nSon tint bóng thơm mùi trái cây, màu xinh xĩu\\nSon kem thì mùi ngọt hơi nồng, nhưng lên môi nhẹ, đáng tiền</td>\n",
       "      <td>BÓNG HG04</td>\n",
       "      <td>no</td>\n",
       "      <td>no</td>\n",
       "    </tr>\n",
       "    <tr>\n",
       "      <th>4</th>\n",
       "      <td>Minna cosmetics</td>\n",
       "      <td>NaN</td>\n",
       "      <td>2021-03-09 11:53:44</td>\n",
       "      <td>5</td>\n",
       "      <td>Chất lượng sản phẩm tuyệt vời\\nGiá rẻ hơn order ở chỗ khác, báo đợi hàng 10 ngày mà chờ có hàng nhanh lắm\\nĐóng gói cẩn thận\\nSẽ ủng hộ shop lần sau</td>\n",
       "      <td>LÌ HV05</td>\n",
       "      <td>no</td>\n",
       "      <td>no</td>\n",
       "    </tr>\n",
       "    <tr>\n",
       "      <th>...</th>\n",
       "      <td>...</td>\n",
       "      <td>...</td>\n",
       "      <td>...</td>\n",
       "      <td>...</td>\n",
       "      <td>...</td>\n",
       "      <td>...</td>\n",
       "      <td>...</td>\n",
       "      <td>...</td>\n",
       "    </tr>\n",
       "    <tr>\n",
       "      <th>7705</th>\n",
       "      <td>Thế giới Skin Food</td>\n",
       "      <td>v*****d</td>\n",
       "      <td>2023-10-15 15:38:35</td>\n",
       "      <td>5</td>\n",
       "      <td>NaN</td>\n",
       "      <td>🆕 HG07</td>\n",
       "      <td>no</td>\n",
       "      <td>no</td>\n",
       "    </tr>\n",
       "    <tr>\n",
       "      <th>7706</th>\n",
       "      <td>Thế giới Skin Food</td>\n",
       "      <td>maidang2010</td>\n",
       "      <td>2023-10-18 01:31:21</td>\n",
       "      <td>5</td>\n",
       "      <td>NaN</td>\n",
       "      <td>🆕 HG08</td>\n",
       "      <td>no</td>\n",
       "      <td>no</td>\n",
       "    </tr>\n",
       "    <tr>\n",
       "      <th>7707</th>\n",
       "      <td>Thế giới Skin Food</td>\n",
       "      <td>nnthanh2005</td>\n",
       "      <td>2023-11-21 15:36:03</td>\n",
       "      <td>5</td>\n",
       "      <td>Công dụng:tot\\nĐộ bền màu:tot\\n\\nTân Mỹ giáp ranh Tân Khánh Trung lấp vò\\nMặt tiền lộ đan xe 16 chỗ tới đất,đất nạc bằng phẳng,chính chủ đang kẹt tiền cần bán gấp\\nNgang 15 x 30 thổ cư 100m2 ( tác...</td>\n",
       "      <td>🆕 HG06</td>\n",
       "      <td>no</td>\n",
       "      <td>no</td>\n",
       "    </tr>\n",
       "    <tr>\n",
       "      <th>7708</th>\n",
       "      <td>Thế giới Skin Food</td>\n",
       "      <td>ngcanna943</td>\n",
       "      <td>2023-12-12 07:41:45</td>\n",
       "      <td>5</td>\n",
       "      <td>NaN</td>\n",
       "      <td>HG05</td>\n",
       "      <td>no</td>\n",
       "      <td>no</td>\n",
       "    </tr>\n",
       "    <tr>\n",
       "      <th>7709</th>\n",
       "      <td>Thế giới Skin Food</td>\n",
       "      <td>ntphukhanh</td>\n",
       "      <td>2023-12-22 07:45:39</td>\n",
       "      <td>5</td>\n",
       "      <td>NaN</td>\n",
       "      <td>#HG09 (date)</td>\n",
       "      <td>no</td>\n",
       "      <td>no</td>\n",
       "    </tr>\n",
       "  </tbody>\n",
       "</table>\n",
       "<p>7710 rows × 8 columns</p>\n",
       "</div>"
      ],
      "text/plain": [
       "                  Seller      Customer                Date  Rating  \\\n",
       "0        Minna cosmetics       t*****0 2021-03-06 11:35:44       5   \n",
       "1        Minna cosmetics    l_hmihngoc 2021-03-07 09:39:39       5   \n",
       "2        Minna cosmetics     lainatran 2021-03-08 08:51:38       5   \n",
       "3        Minna cosmetics  quynhmai1099 2021-03-08 11:30:23       5   \n",
       "4        Minna cosmetics           NaN 2021-03-09 11:53:44       5   \n",
       "...                  ...           ...                 ...     ...   \n",
       "7705  Thế giới Skin Food       v*****d 2023-10-15 15:38:35       5   \n",
       "7706  Thế giới Skin Food   maidang2010 2023-10-18 01:31:21       5   \n",
       "7707  Thế giới Skin Food   nnthanh2005 2023-11-21 15:36:03       5   \n",
       "7708  Thế giới Skin Food    ngcanna943 2023-12-12 07:41:45       5   \n",
       "7709  Thế giới Skin Food    ntphukhanh 2023-12-22 07:45:39       5   \n",
       "\n",
       "                                                                                                                                                                                                       Review  \\\n",
       "0                                                                                                                          Son siêu xinh luôn á💜 \\nhttps://cf.shopee.vn/file/438f3db45108db22bacca4cd64be0108   \n",
       "1                                                                               Ưng màu HV04 ghê. Kiểu đỏ cam cháy, sắc đỏ nhiều hơn nên khá dễ dùng, dòng này mùi k thơm. Chất son mịn đều là điểm cộng lớn.   \n",
       "2     Son cầm chắc tay. Chất son mịn, đẹp. Giao hàng nhanh\\nhttps://cf.shopee.vn/file/d707b49c9f19b7d9162453e6a216ac6c\\nhttps://cf.shopee.vn/file/91bdaefb696ca1743e08892cfa767b34\\nhttps://cf.shopee.vn/f...   \n",
       "3                                                       Son rất đẹp, cầm êm tay\\nPackaging xịn xò\\nSon tint bóng thơm mùi trái cây, màu xinh xĩu\\nSon kem thì mùi ngọt hơi nồng, nhưng lên môi nhẹ, đáng tiền   \n",
       "4                                                        Chất lượng sản phẩm tuyệt vời\\nGiá rẻ hơn order ở chỗ khác, báo đợi hàng 10 ngày mà chờ có hàng nhanh lắm\\nĐóng gói cẩn thận\\nSẽ ủng hộ shop lần sau   \n",
       "...                                                                                                                                                                                                       ...   \n",
       "7705                                                                                                                                                                                                      NaN   \n",
       "7706                                                                                                                                                                                                      NaN   \n",
       "7707  Công dụng:tot\\nĐộ bền màu:tot\\n\\nTân Mỹ giáp ranh Tân Khánh Trung lấp vò\\nMặt tiền lộ đan xe 16 chỗ tới đất,đất nạc bằng phẳng,chính chủ đang kẹt tiền cần bán gấp\\nNgang 15 x 30 thổ cư 100m2 ( tác...   \n",
       "7708                                                                                                                                                                                                      NaN   \n",
       "7709                                                                                                                                                                                                      NaN   \n",
       "\n",
       "           Version Oversea Shopping Picture included  \n",
       "0          LÌ HV03               no              yes  \n",
       "1          LÌ HV04               no               no  \n",
       "2          LÌ HV05               no              yes  \n",
       "3        BÓNG HG04               no               no  \n",
       "4          LÌ HV05               no               no  \n",
       "...            ...              ...              ...  \n",
       "7705        🆕 HG07               no               no  \n",
       "7706        🆕 HG08               no               no  \n",
       "7707        🆕 HG06               no               no  \n",
       "7708          HG05               no               no  \n",
       "7709  #HG09 (date)               no               no  \n",
       "\n",
       "[7710 rows x 8 columns]"
      ]
     },
     "execution_count": 59,
     "metadata": {},
     "output_type": "execute_result"
    }
   ],
   "source": [
    "notbrs_df"
   ]
  },
  {
   "cell_type": "code",
   "execution_count": 60,
   "id": "25dec719-f62a-4c9c-8317-e4397789ff72",
   "metadata": {},
   "outputs": [],
   "source": [
    "notbrs_df_cleaned = notbrs_df.loc[notbrs_df['Review'].notna() == True].reset_index()\n",
    "notbrs_df_cleaned.drop(columns=['index'], inplace=True)"
   ]
  },
  {
   "cell_type": "code",
   "execution_count": 61,
   "id": "a751adfb-53c0-46ea-be3b-ce2e22ce4343",
   "metadata": {},
   "outputs": [
    {
     "data": {
      "text/html": [
       "<div>\n",
       "<style scoped>\n",
       "    .dataframe tbody tr th:only-of-type {\n",
       "        vertical-align: middle;\n",
       "    }\n",
       "\n",
       "    .dataframe tbody tr th {\n",
       "        vertical-align: top;\n",
       "    }\n",
       "\n",
       "    .dataframe thead th {\n",
       "        text-align: right;\n",
       "    }\n",
       "</style>\n",
       "<table border=\"1\" class=\"dataframe\">\n",
       "  <thead>\n",
       "    <tr style=\"text-align: right;\">\n",
       "      <th></th>\n",
       "      <th>Seller</th>\n",
       "      <th>Customer</th>\n",
       "      <th>Date</th>\n",
       "      <th>Rating</th>\n",
       "      <th>Review</th>\n",
       "      <th>Version</th>\n",
       "      <th>Oversea Shopping</th>\n",
       "      <th>Picture included</th>\n",
       "    </tr>\n",
       "  </thead>\n",
       "  <tbody>\n",
       "    <tr>\n",
       "      <th>0</th>\n",
       "      <td>Minna cosmetics</td>\n",
       "      <td>t*****0</td>\n",
       "      <td>2021-03-06 11:35:44</td>\n",
       "      <td>5</td>\n",
       "      <td>Son siêu xinh luôn á💜 \\nhttps://cf.shopee.vn/file/438f3db45108db22bacca4cd64be0108</td>\n",
       "      <td>LÌ HV03</td>\n",
       "      <td>no</td>\n",
       "      <td>yes</td>\n",
       "    </tr>\n",
       "    <tr>\n",
       "      <th>1</th>\n",
       "      <td>Minna cosmetics</td>\n",
       "      <td>l_hmihngoc</td>\n",
       "      <td>2021-03-07 09:39:39</td>\n",
       "      <td>5</td>\n",
       "      <td>Ưng màu HV04 ghê. Kiểu đỏ cam cháy, sắc đỏ nhiều hơn nên khá dễ dùng, dòng này mùi k thơm. Chất son mịn đều là điểm cộng lớn.</td>\n",
       "      <td>LÌ HV04</td>\n",
       "      <td>no</td>\n",
       "      <td>no</td>\n",
       "    </tr>\n",
       "    <tr>\n",
       "      <th>2</th>\n",
       "      <td>Minna cosmetics</td>\n",
       "      <td>lainatran</td>\n",
       "      <td>2021-03-08 08:51:38</td>\n",
       "      <td>5</td>\n",
       "      <td>Son cầm chắc tay. Chất son mịn, đẹp. Giao hàng nhanh\\nhttps://cf.shopee.vn/file/d707b49c9f19b7d9162453e6a216ac6c\\nhttps://cf.shopee.vn/file/91bdaefb696ca1743e08892cfa767b34\\nhttps://cf.shopee.vn/f...</td>\n",
       "      <td>LÌ HV05</td>\n",
       "      <td>no</td>\n",
       "      <td>yes</td>\n",
       "    </tr>\n",
       "    <tr>\n",
       "      <th>3</th>\n",
       "      <td>Minna cosmetics</td>\n",
       "      <td>quynhmai1099</td>\n",
       "      <td>2021-03-08 11:30:23</td>\n",
       "      <td>5</td>\n",
       "      <td>Son rất đẹp, cầm êm tay\\nPackaging xịn xò\\nSon tint bóng thơm mùi trái cây, màu xinh xĩu\\nSon kem thì mùi ngọt hơi nồng, nhưng lên môi nhẹ, đáng tiền</td>\n",
       "      <td>BÓNG HG04</td>\n",
       "      <td>no</td>\n",
       "      <td>no</td>\n",
       "    </tr>\n",
       "    <tr>\n",
       "      <th>4</th>\n",
       "      <td>Minna cosmetics</td>\n",
       "      <td>NaN</td>\n",
       "      <td>2021-03-09 11:53:44</td>\n",
       "      <td>5</td>\n",
       "      <td>Chất lượng sản phẩm tuyệt vời\\nGiá rẻ hơn order ở chỗ khác, báo đợi hàng 10 ngày mà chờ có hàng nhanh lắm\\nĐóng gói cẩn thận\\nSẽ ủng hộ shop lần sau</td>\n",
       "      <td>LÌ HV05</td>\n",
       "      <td>no</td>\n",
       "      <td>no</td>\n",
       "    </tr>\n",
       "    <tr>\n",
       "      <th>...</th>\n",
       "      <td>...</td>\n",
       "      <td>...</td>\n",
       "      <td>...</td>\n",
       "      <td>...</td>\n",
       "      <td>...</td>\n",
       "      <td>...</td>\n",
       "      <td>...</td>\n",
       "      <td>...</td>\n",
       "    </tr>\n",
       "    <tr>\n",
       "      <th>5636</th>\n",
       "      <td>Thế giới Skin Food</td>\n",
       "      <td>t*****9</td>\n",
       "      <td>2023-09-12 04:10:28</td>\n",
       "      <td>5</td>\n",
       "      <td>Xem tiktok bà Xoài Phạm, đánh màu hg8 này xinh quáaa nên quất lẹ 1 em, vỏ son xinh lắmm, son t chưa mở ra nhưng chắc đẹp hehe\\nhttps://cf.shopee.vn/file/vn-11134103-7r98o-llk6rpibblbq39</td>\n",
       "      <td>🆕 HG08</td>\n",
       "      <td>no</td>\n",
       "      <td>yes</td>\n",
       "    </tr>\n",
       "    <tr>\n",
       "      <th>5637</th>\n",
       "      <td>Thế giới Skin Food</td>\n",
       "      <td>soyum</td>\n",
       "      <td>2023-09-13 03:44:43</td>\n",
       "      <td>5</td>\n",
       "      <td>Độ bền màu:khá bền\\n\\nSon xinh màu bóng rất đẹp nên mua nha mn!!!!!!!!!!!!!\\nhttps://cf.shopee.vn/file/vn-11134103-7r98o-llll7i3s99ov90</td>\n",
       "      <td>🔥 HG04</td>\n",
       "      <td>no</td>\n",
       "      <td>yes</td>\n",
       "    </tr>\n",
       "    <tr>\n",
       "      <th>5638</th>\n",
       "      <td>Thế giới Skin Food</td>\n",
       "      <td>deborah.nguyen</td>\n",
       "      <td>2023-09-20 13:56:08</td>\n",
       "      <td>5</td>\n",
       "      <td>Độ bền màu:không biết\\nCông dụng:son môi\\n\\nCái này thì mình mua giùm, nên không biết rõ</td>\n",
       "      <td>🆕 HG08</td>\n",
       "      <td>no</td>\n",
       "      <td>no</td>\n",
       "    </tr>\n",
       "    <tr>\n",
       "      <th>5639</th>\n",
       "      <td>Thế giới Skin Food</td>\n",
       "      <td>heaveninyourhand</td>\n",
       "      <td>2023-09-30 04:20:27</td>\n",
       "      <td>5</td>\n",
       "      <td>Shop đóng gói kỹ. Màu cam như hình, lên môi 1 xíu nữa sẽ hơi ửng đỏ. Đỏ nhạt ánh cam. Nhưng ko được bóng như ảnh của hãng. Giữ màu khá ổn. Mong shop có thêm nhiều màu cam tint bóng hơn. Cảm ơn shop.</td>\n",
       "      <td>🆕 HG05</td>\n",
       "      <td>no</td>\n",
       "      <td>no</td>\n",
       "    </tr>\n",
       "    <tr>\n",
       "      <th>5640</th>\n",
       "      <td>Thế giới Skin Food</td>\n",
       "      <td>nnthanh2005</td>\n",
       "      <td>2023-11-21 15:36:03</td>\n",
       "      <td>5</td>\n",
       "      <td>Công dụng:tot\\nĐộ bền màu:tot\\n\\nTân Mỹ giáp ranh Tân Khánh Trung lấp vò\\nMặt tiền lộ đan xe 16 chỗ tới đất,đất nạc bằng phẳng,chính chủ đang kẹt tiền cần bán gấp\\nNgang 15 x 30 thổ cư 100m2 ( tác...</td>\n",
       "      <td>🆕 HG06</td>\n",
       "      <td>no</td>\n",
       "      <td>no</td>\n",
       "    </tr>\n",
       "  </tbody>\n",
       "</table>\n",
       "<p>5641 rows × 8 columns</p>\n",
       "</div>"
      ],
      "text/plain": [
       "                  Seller          Customer                Date  Rating  \\\n",
       "0        Minna cosmetics           t*****0 2021-03-06 11:35:44       5   \n",
       "1        Minna cosmetics        l_hmihngoc 2021-03-07 09:39:39       5   \n",
       "2        Minna cosmetics         lainatran 2021-03-08 08:51:38       5   \n",
       "3        Minna cosmetics      quynhmai1099 2021-03-08 11:30:23       5   \n",
       "4        Minna cosmetics               NaN 2021-03-09 11:53:44       5   \n",
       "...                  ...               ...                 ...     ...   \n",
       "5636  Thế giới Skin Food           t*****9 2023-09-12 04:10:28       5   \n",
       "5637  Thế giới Skin Food             soyum 2023-09-13 03:44:43       5   \n",
       "5638  Thế giới Skin Food    deborah.nguyen 2023-09-20 13:56:08       5   \n",
       "5639  Thế giới Skin Food  heaveninyourhand 2023-09-30 04:20:27       5   \n",
       "5640  Thế giới Skin Food       nnthanh2005 2023-11-21 15:36:03       5   \n",
       "\n",
       "                                                                                                                                                                                                       Review  \\\n",
       "0                                                                                                                          Son siêu xinh luôn á💜 \\nhttps://cf.shopee.vn/file/438f3db45108db22bacca4cd64be0108   \n",
       "1                                                                               Ưng màu HV04 ghê. Kiểu đỏ cam cháy, sắc đỏ nhiều hơn nên khá dễ dùng, dòng này mùi k thơm. Chất son mịn đều là điểm cộng lớn.   \n",
       "2     Son cầm chắc tay. Chất son mịn, đẹp. Giao hàng nhanh\\nhttps://cf.shopee.vn/file/d707b49c9f19b7d9162453e6a216ac6c\\nhttps://cf.shopee.vn/file/91bdaefb696ca1743e08892cfa767b34\\nhttps://cf.shopee.vn/f...   \n",
       "3                                                       Son rất đẹp, cầm êm tay\\nPackaging xịn xò\\nSon tint bóng thơm mùi trái cây, màu xinh xĩu\\nSon kem thì mùi ngọt hơi nồng, nhưng lên môi nhẹ, đáng tiền   \n",
       "4                                                        Chất lượng sản phẩm tuyệt vời\\nGiá rẻ hơn order ở chỗ khác, báo đợi hàng 10 ngày mà chờ có hàng nhanh lắm\\nĐóng gói cẩn thận\\nSẽ ủng hộ shop lần sau   \n",
       "...                                                                                                                                                                                                       ...   \n",
       "5636                Xem tiktok bà Xoài Phạm, đánh màu hg8 này xinh quáaa nên quất lẹ 1 em, vỏ son xinh lắmm, son t chưa mở ra nhưng chắc đẹp hehe\\nhttps://cf.shopee.vn/file/vn-11134103-7r98o-llk6rpibblbq39   \n",
       "5637                                                                  Độ bền màu:khá bền\\n\\nSon xinh màu bóng rất đẹp nên mua nha mn!!!!!!!!!!!!!\\nhttps://cf.shopee.vn/file/vn-11134103-7r98o-llll7i3s99ov90   \n",
       "5638                                                                                                                 Độ bền màu:không biết\\nCông dụng:son môi\\n\\nCái này thì mình mua giùm, nên không biết rõ   \n",
       "5639   Shop đóng gói kỹ. Màu cam như hình, lên môi 1 xíu nữa sẽ hơi ửng đỏ. Đỏ nhạt ánh cam. Nhưng ko được bóng như ảnh của hãng. Giữ màu khá ổn. Mong shop có thêm nhiều màu cam tint bóng hơn. Cảm ơn shop.   \n",
       "5640  Công dụng:tot\\nĐộ bền màu:tot\\n\\nTân Mỹ giáp ranh Tân Khánh Trung lấp vò\\nMặt tiền lộ đan xe 16 chỗ tới đất,đất nạc bằng phẳng,chính chủ đang kẹt tiền cần bán gấp\\nNgang 15 x 30 thổ cư 100m2 ( tác...   \n",
       "\n",
       "        Version Oversea Shopping Picture included  \n",
       "0       LÌ HV03               no              yes  \n",
       "1       LÌ HV04               no               no  \n",
       "2       LÌ HV05               no              yes  \n",
       "3     BÓNG HG04               no               no  \n",
       "4       LÌ HV05               no               no  \n",
       "...         ...              ...              ...  \n",
       "5636     🆕 HG08               no              yes  \n",
       "5637     🔥 HG04               no              yes  \n",
       "5638     🆕 HG08               no               no  \n",
       "5639     🆕 HG05               no               no  \n",
       "5640     🆕 HG06               no               no  \n",
       "\n",
       "[5641 rows x 8 columns]"
      ]
     },
     "execution_count": 61,
     "metadata": {},
     "output_type": "execute_result"
    }
   ],
   "source": [
    "notbrs_df_cleaned"
   ]
  },
  {
   "cell_type": "code",
   "execution_count": 62,
   "id": "9bafcf41-f43d-4ebe-9dee-d92b511cb5c8",
   "metadata": {},
   "outputs": [],
   "source": [
    "br_cleaned_df = pd.concat([brstore_df_cleaned,notbrs_df_cleaned], ignore_index=True)"
   ]
  },
  {
   "cell_type": "code",
   "execution_count": 63,
   "id": "c108d285-1ced-4d48-b1e9-94ed5e37b642",
   "metadata": {},
   "outputs": [
    {
     "data": {
      "text/html": [
       "<div>\n",
       "<style scoped>\n",
       "    .dataframe tbody tr th:only-of-type {\n",
       "        vertical-align: middle;\n",
       "    }\n",
       "\n",
       "    .dataframe tbody tr th {\n",
       "        vertical-align: top;\n",
       "    }\n",
       "\n",
       "    .dataframe thead th {\n",
       "        text-align: right;\n",
       "    }\n",
       "</style>\n",
       "<table border=\"1\" class=\"dataframe\">\n",
       "  <thead>\n",
       "    <tr style=\"text-align: right;\">\n",
       "      <th></th>\n",
       "      <th>Seller</th>\n",
       "      <th>Customer</th>\n",
       "      <th>Date</th>\n",
       "      <th>Rating</th>\n",
       "      <th>Review</th>\n",
       "      <th>Version</th>\n",
       "      <th>Oversea Shopping</th>\n",
       "      <th>Picture included</th>\n",
       "    </tr>\n",
       "  </thead>\n",
       "  <tbody>\n",
       "    <tr>\n",
       "      <th>0</th>\n",
       "      <td>Black Rouge Official Store</td>\n",
       "      <td>richy_shopthoitrang</td>\n",
       "      <td>2019-11-13 04:36:08</td>\n",
       "      <td>5</td>\n",
       "      <td>Son lên môi nhẹ, có mùi thơm của trái cây\\nhttps://cf.shopee.vn/file/77e8f28d3cefc7438b2c26a0df946942</td>\n",
       "      <td>A04 Raspberry Syrup</td>\n",
       "      <td>no</td>\n",
       "      <td>yes</td>\n",
       "    </tr>\n",
       "    <tr>\n",
       "      <th>1</th>\n",
       "      <td>Black Rouge Official Store</td>\n",
       "      <td>ngantran187</td>\n",
       "      <td>2019-11-16 08:33:29</td>\n",
       "      <td>5</td>\n",
       "      <td>giao đúng màu đã đặt. đóng gói sản phẩm đẹp lịch sự. chuẩn bị hàng lâu. \\nhttps://cf.shopee.vn/file/5fe4a878ac46c6cdafac67d9a47a4d04</td>\n",
       "      <td>A06 Brick Red</td>\n",
       "      <td>no</td>\n",
       "      <td>yes</td>\n",
       "    </tr>\n",
       "    <tr>\n",
       "      <th>2</th>\n",
       "      <td>Black Rouge Official Store</td>\n",
       "      <td>nambui_123</td>\n",
       "      <td>2019-11-25 04:50:50</td>\n",
       "      <td>5</td>\n",
       "      <td>Chất lượng sản phẩm tuyệt vời đóng gói chắc chắn shop phục vụ tốt gaio hàng nhanh</td>\n",
       "      <td>A03 Soft Red</td>\n",
       "      <td>no</td>\n",
       "      <td>no</td>\n",
       "    </tr>\n",
       "    <tr>\n",
       "      <th>3</th>\n",
       "      <td>Black Rouge Official Store</td>\n",
       "      <td>NaN</td>\n",
       "      <td>2019-11-26 02:27:38</td>\n",
       "      <td>5</td>\n",
       "      <td>Shop gói hàng cẩn thận. Màu son rất đẹp và sáng da nhưng hơi đỏ quá\\nhttps://cf.shopee.vn/file/c3044d7c807051606e00241e6c2e6de8</td>\n",
       "      <td>A01 Strawberry Red</td>\n",
       "      <td>no</td>\n",
       "      <td>yes</td>\n",
       "    </tr>\n",
       "    <tr>\n",
       "      <th>4</th>\n",
       "      <td>Black Rouge Official Store</td>\n",
       "      <td>phunnguyen64</td>\n",
       "      <td>2019-12-01 16:06:07</td>\n",
       "      <td>5</td>\n",
       "      <td>Quá tuyệt, son thơm mùi trái cây, ngọt, thoa lên môi mềm</td>\n",
       "      <td>A01 Strawberry Red</td>\n",
       "      <td>no</td>\n",
       "      <td>no</td>\n",
       "    </tr>\n",
       "    <tr>\n",
       "      <th>...</th>\n",
       "      <td>...</td>\n",
       "      <td>...</td>\n",
       "      <td>...</td>\n",
       "      <td>...</td>\n",
       "      <td>...</td>\n",
       "      <td>...</td>\n",
       "      <td>...</td>\n",
       "      <td>...</td>\n",
       "    </tr>\n",
       "    <tr>\n",
       "      <th>10766</th>\n",
       "      <td>Thế giới Skin Food</td>\n",
       "      <td>t*****9</td>\n",
       "      <td>2023-09-12 04:10:28</td>\n",
       "      <td>5</td>\n",
       "      <td>Xem tiktok bà Xoài Phạm, đánh màu hg8 này xinh quáaa nên quất lẹ 1 em, vỏ son xinh lắmm, son t chưa mở ra nhưng chắc đẹp hehe\\nhttps://cf.shopee.vn/file/vn-11134103-7r98o-llk6rpibblbq39</td>\n",
       "      <td>🆕 HG08</td>\n",
       "      <td>no</td>\n",
       "      <td>yes</td>\n",
       "    </tr>\n",
       "    <tr>\n",
       "      <th>10767</th>\n",
       "      <td>Thế giới Skin Food</td>\n",
       "      <td>soyum</td>\n",
       "      <td>2023-09-13 03:44:43</td>\n",
       "      <td>5</td>\n",
       "      <td>Độ bền màu:khá bền\\n\\nSon xinh màu bóng rất đẹp nên mua nha mn!!!!!!!!!!!!!\\nhttps://cf.shopee.vn/file/vn-11134103-7r98o-llll7i3s99ov90</td>\n",
       "      <td>🔥 HG04</td>\n",
       "      <td>no</td>\n",
       "      <td>yes</td>\n",
       "    </tr>\n",
       "    <tr>\n",
       "      <th>10768</th>\n",
       "      <td>Thế giới Skin Food</td>\n",
       "      <td>deborah.nguyen</td>\n",
       "      <td>2023-09-20 13:56:08</td>\n",
       "      <td>5</td>\n",
       "      <td>Độ bền màu:không biết\\nCông dụng:son môi\\n\\nCái này thì mình mua giùm, nên không biết rõ</td>\n",
       "      <td>🆕 HG08</td>\n",
       "      <td>no</td>\n",
       "      <td>no</td>\n",
       "    </tr>\n",
       "    <tr>\n",
       "      <th>10769</th>\n",
       "      <td>Thế giới Skin Food</td>\n",
       "      <td>heaveninyourhand</td>\n",
       "      <td>2023-09-30 04:20:27</td>\n",
       "      <td>5</td>\n",
       "      <td>Shop đóng gói kỹ. Màu cam như hình, lên môi 1 xíu nữa sẽ hơi ửng đỏ. Đỏ nhạt ánh cam. Nhưng ko được bóng như ảnh của hãng. Giữ màu khá ổn. Mong shop có thêm nhiều màu cam tint bóng hơn. Cảm ơn shop.</td>\n",
       "      <td>🆕 HG05</td>\n",
       "      <td>no</td>\n",
       "      <td>no</td>\n",
       "    </tr>\n",
       "    <tr>\n",
       "      <th>10770</th>\n",
       "      <td>Thế giới Skin Food</td>\n",
       "      <td>nnthanh2005</td>\n",
       "      <td>2023-11-21 15:36:03</td>\n",
       "      <td>5</td>\n",
       "      <td>Công dụng:tot\\nĐộ bền màu:tot\\n\\nTân Mỹ giáp ranh Tân Khánh Trung lấp vò\\nMặt tiền lộ đan xe 16 chỗ tới đất,đất nạc bằng phẳng,chính chủ đang kẹt tiền cần bán gấp\\nNgang 15 x 30 thổ cư 100m2 ( tác...</td>\n",
       "      <td>🆕 HG06</td>\n",
       "      <td>no</td>\n",
       "      <td>no</td>\n",
       "    </tr>\n",
       "  </tbody>\n",
       "</table>\n",
       "<p>10771 rows × 8 columns</p>\n",
       "</div>"
      ],
      "text/plain": [
       "                           Seller             Customer                Date  \\\n",
       "0      Black Rouge Official Store  richy_shopthoitrang 2019-11-13 04:36:08   \n",
       "1      Black Rouge Official Store          ngantran187 2019-11-16 08:33:29   \n",
       "2      Black Rouge Official Store           nambui_123 2019-11-25 04:50:50   \n",
       "3      Black Rouge Official Store                  NaN 2019-11-26 02:27:38   \n",
       "4      Black Rouge Official Store         phunnguyen64 2019-12-01 16:06:07   \n",
       "...                           ...                  ...                 ...   \n",
       "10766          Thế giới Skin Food              t*****9 2023-09-12 04:10:28   \n",
       "10767          Thế giới Skin Food                soyum 2023-09-13 03:44:43   \n",
       "10768          Thế giới Skin Food       deborah.nguyen 2023-09-20 13:56:08   \n",
       "10769          Thế giới Skin Food     heaveninyourhand 2023-09-30 04:20:27   \n",
       "10770          Thế giới Skin Food          nnthanh2005 2023-11-21 15:36:03   \n",
       "\n",
       "       Rating  \\\n",
       "0           5   \n",
       "1           5   \n",
       "2           5   \n",
       "3           5   \n",
       "4           5   \n",
       "...       ...   \n",
       "10766       5   \n",
       "10767       5   \n",
       "10768       5   \n",
       "10769       5   \n",
       "10770       5   \n",
       "\n",
       "                                                                                                                                                                                                        Review  \\\n",
       "0                                                                                                        Son lên môi nhẹ, có mùi thơm của trái cây\\nhttps://cf.shopee.vn/file/77e8f28d3cefc7438b2c26a0df946942   \n",
       "1                                                                         giao đúng màu đã đặt. đóng gói sản phẩm đẹp lịch sự. chuẩn bị hàng lâu. \\nhttps://cf.shopee.vn/file/5fe4a878ac46c6cdafac67d9a47a4d04   \n",
       "2                                                                                                                            Chất lượng sản phẩm tuyệt vời đóng gói chắc chắn shop phục vụ tốt gaio hàng nhanh   \n",
       "3                                                                              Shop gói hàng cẩn thận. Màu son rất đẹp và sáng da nhưng hơi đỏ quá\\nhttps://cf.shopee.vn/file/c3044d7c807051606e00241e6c2e6de8   \n",
       "4                                                                                                                                                     Quá tuyệt, son thơm mùi trái cây, ngọt, thoa lên môi mềm   \n",
       "...                                                                                                                                                                                                        ...   \n",
       "10766                Xem tiktok bà Xoài Phạm, đánh màu hg8 này xinh quáaa nên quất lẹ 1 em, vỏ son xinh lắmm, son t chưa mở ra nhưng chắc đẹp hehe\\nhttps://cf.shopee.vn/file/vn-11134103-7r98o-llk6rpibblbq39   \n",
       "10767                                                                  Độ bền màu:khá bền\\n\\nSon xinh màu bóng rất đẹp nên mua nha mn!!!!!!!!!!!!!\\nhttps://cf.shopee.vn/file/vn-11134103-7r98o-llll7i3s99ov90   \n",
       "10768                                                                                                                 Độ bền màu:không biết\\nCông dụng:son môi\\n\\nCái này thì mình mua giùm, nên không biết rõ   \n",
       "10769   Shop đóng gói kỹ. Màu cam như hình, lên môi 1 xíu nữa sẽ hơi ửng đỏ. Đỏ nhạt ánh cam. Nhưng ko được bóng như ảnh của hãng. Giữ màu khá ổn. Mong shop có thêm nhiều màu cam tint bóng hơn. Cảm ơn shop.   \n",
       "10770  Công dụng:tot\\nĐộ bền màu:tot\\n\\nTân Mỹ giáp ranh Tân Khánh Trung lấp vò\\nMặt tiền lộ đan xe 16 chỗ tới đất,đất nạc bằng phẳng,chính chủ đang kẹt tiền cần bán gấp\\nNgang 15 x 30 thổ cư 100m2 ( tác...   \n",
       "\n",
       "                   Version Oversea Shopping Picture included  \n",
       "0      A04 Raspberry Syrup               no              yes  \n",
       "1            A06 Brick Red               no              yes  \n",
       "2             A03 Soft Red               no               no  \n",
       "3       A01 Strawberry Red               no              yes  \n",
       "4       A01 Strawberry Red               no               no  \n",
       "...                    ...              ...              ...  \n",
       "10766               🆕 HG08               no              yes  \n",
       "10767               🔥 HG04               no              yes  \n",
       "10768               🆕 HG08               no               no  \n",
       "10769               🆕 HG05               no               no  \n",
       "10770               🆕 HG06               no               no  \n",
       "\n",
       "[10771 rows x 8 columns]"
      ]
     },
     "execution_count": 63,
     "metadata": {},
     "output_type": "execute_result"
    }
   ],
   "source": [
    "br_cleaned_df"
   ]
  },
  {
   "cell_type": "code",
   "execution_count": 64,
   "id": "9ea8a6a1-bd33-43cb-a863-e215d591c641",
   "metadata": {},
   "outputs": [],
   "source": [
    "list_na_index = br_cleaned_df.loc[br_cleaned_df['Customer'].isna() == True].index.values\n",
    "for i in list_na_index:\n",
    "    br_cleaned_df.at[i, 'Customer'] = f'Customer #{i}'"
   ]
  },
  {
   "cell_type": "code",
   "execution_count": 65,
   "id": "0d38ac16-2831-445d-9d05-ec607a22125b",
   "metadata": {},
   "outputs": [],
   "source": [
    "#br_cleaned_df.to_excel('raw_cleaned_black_rouge.xlsx', index=False)"
   ]
  },
  {
   "cell_type": "markdown",
   "id": "d2a2b6af-37d1-4abe-82c6-a3f4ce31bba8",
   "metadata": {},
   "source": [
    "# Colorkey"
   ]
  },
  {
   "cell_type": "code",
   "execution_count": 66,
   "id": "e416895c-267a-4a64-9e6f-765febef4247",
   "metadata": {},
   "outputs": [],
   "source": [
    "import pandas as pd"
   ]
  },
  {
   "cell_type": "code",
   "execution_count": 67,
   "id": "e0e98277-31a4-409b-87f0-fd01f2718491",
   "metadata": {},
   "outputs": [],
   "source": [
    "col_paths = ['Shopee_data/colorkey/colorkey.xlsx', 'Shopee_data/colorkey/colorkey 1.xlsx', 'Shopee_data/colorkey/colorkey 2.xlsx', \n",
    "             'Shopee_data/colorkey/colorkey 3.xlsx', 'Shopee_data/colorkey/colorkey 4.xlsx']\n",
    "\n",
    "dfs = []\n",
    "for path in col_paths:\n",
    "    df = pd.read_excel(path)\n",
    "    dfs.append(df)"
   ]
  },
  {
   "cell_type": "code",
   "execution_count": 68,
   "id": "1aa0c711-c756-45da-8ee3-001e61ef8b7d",
   "metadata": {},
   "outputs": [],
   "source": [
    "col_df = pd.concat(dfs, ignore_index=True)\n",
    "col_df.drop(columns=['Unnamed: 0', 'Rating Delivery Service', 'Rating Product Quality', 'Rating Seller Service', 'Region', 'Photos', \n",
    "                       'Videos', '(view source)'], inplace=True)"
   ]
  },
  {
   "cell_type": "code",
   "execution_count": 69,
   "id": "11832464-84b3-47ab-82dc-b63a81cee6dd",
   "metadata": {},
   "outputs": [],
   "source": [
    "col_df.rename(columns={'Unnamed: 1': 'Seller', 'Author': 'Customer'}, inplace=True)"
   ]
  },
  {
   "cell_type": "code",
   "execution_count": 70,
   "id": "c4194034-2dea-4684-b7c7-9fb2c2f78b74",
   "metadata": {},
   "outputs": [],
   "source": [
    "col_df.drop_duplicates(inplace=True)"
   ]
  },
  {
   "cell_type": "code",
   "execution_count": 71,
   "id": "56ad2b3e-0b90-4715-a2bb-fc10008528f5",
   "metadata": {},
   "outputs": [],
   "source": [
    "col_df_cleaned = col_df.loc[col_df['Review'].notna() == True].reset_index()\n",
    "col_df_cleaned.drop(columns=['index'], inplace=True)\n",
    "col_df_cleaned['Seller'].fillna('Colorkey Official Store', inplace=True)"
   ]
  },
  {
   "cell_type": "code",
   "execution_count": 72,
   "id": "70c50993-151a-43da-95a0-84356f693db9",
   "metadata": {},
   "outputs": [],
   "source": [
    "list_na_index = col_df_cleaned.loc[col_df_cleaned['Customer'].isna() == True].index.values\n",
    "for i in list_na_index:\n",
    "    col_df_cleaned.at[i, 'Customer'] = f'Customer #{i}'"
   ]
  },
  {
   "cell_type": "code",
   "execution_count": 73,
   "id": "fd072610-cb07-45ca-8443-5351ba744436",
   "metadata": {},
   "outputs": [],
   "source": [
    "# col_df_cleaned.to_excel('raw_cleaned_colorkey.xlsx', index=False)"
   ]
  },
  {
   "cell_type": "markdown",
   "id": "f14a2b4a-9583-46eb-8355-fa54119bd92c",
   "metadata": {},
   "source": [
    "# Perfect Diary"
   ]
  },
  {
   "cell_type": "code",
   "execution_count": 74,
   "id": "dab7967d-14cc-4b44-b963-35d556303726",
   "metadata": {},
   "outputs": [],
   "source": [
    "import pandas as pd\n",
    "\n",
    "diary_paths = ['Shopee_data/diary/perfectdiary.xlsx', 'Shopee_data/diary/perfectdiary 1.xlsx', 'Shopee_data/diary/perfectdiary 2.xlsx', \n",
    "               'Shopee_data/diary/perfectdiary 3.xlsx', 'Shopee_data/diary/perfectdiary 4.xlsx']\n",
    "dfs = []\n",
    "for path in diary_paths:\n",
    "    df = pd.read_excel(path)\n",
    "    dfs.append(df)\n",
    "\n",
    "diary_df = pd.concat(dfs, ignore_index=True)"
   ]
  },
  {
   "cell_type": "code",
   "execution_count": 75,
   "id": "5f877bbb-4ff4-4597-92ac-6a4b65a5e9f9",
   "metadata": {},
   "outputs": [],
   "source": [
    "diary_df.rename(columns={'Unnamed: 1': 'Seller', 'Author': 'Customer'}, inplace=True)"
   ]
  },
  {
   "cell_type": "code",
   "execution_count": 76,
   "id": "e3a426c8-e64d-4f69-9b19-f8414c376b64",
   "metadata": {},
   "outputs": [],
   "source": [
    "diary_df.drop(columns=['Unnamed: 0', 'Rating Delivery Service', 'Rating Product Quality', 'Rating Seller Service', 'Region', 'Photos', \n",
    "                       'Videos', '(view source)'], inplace=True)"
   ]
  },
  {
   "cell_type": "code",
   "execution_count": 77,
   "id": "a5534641-12f0-4d59-ac42-80d34f2eb09b",
   "metadata": {},
   "outputs": [],
   "source": [
    "diary_df_cleaned = diary_df.loc[diary_df['Review'].notna() == True].reset_index()\n",
    "diary_df_cleaned.drop(columns='index', inplace=True)"
   ]
  },
  {
   "cell_type": "code",
   "execution_count": 78,
   "id": "2c7b39d5-137e-4357-ba61-54bf699e6ffb",
   "metadata": {},
   "outputs": [],
   "source": [
    "diary_df_cleaned['Seller'].fillna('Perfect Diary Official Shop', inplace=True)"
   ]
  },
  {
   "cell_type": "code",
   "execution_count": 79,
   "id": "2ba28695-c4f3-4b5e-86a1-683191a45e2f",
   "metadata": {},
   "outputs": [],
   "source": [
    "list_na_index = diary_df_cleaned.loc[diary_df_cleaned['Customer'].isna() == True].index.values\n",
    "for i in list_na_index:\n",
    "    diary_df_cleaned.at[i, 'Customer'] = f'Customer #{i}'"
   ]
  },
  {
   "cell_type": "code",
   "execution_count": 80,
   "id": "1fc398f4-3f50-4cd2-9c0d-48be88d0add4",
   "metadata": {},
   "outputs": [
    {
     "name": "stdout",
     "output_type": "stream",
     "text": [
      "<class 'pandas.core.frame.DataFrame'>\n",
      "RangeIndex: 7175 entries, 0 to 7174\n",
      "Data columns (total 8 columns):\n",
      " #   Column            Non-Null Count  Dtype         \n",
      "---  ------            --------------  -----         \n",
      " 0   Seller            7175 non-null   object        \n",
      " 1   Customer          7175 non-null   object        \n",
      " 2   Date              7175 non-null   datetime64[ns]\n",
      " 3   Rating            7175 non-null   int64         \n",
      " 4   Review            7175 non-null   object        \n",
      " 5   Version           7175 non-null   object        \n",
      " 6   Oversea Shopping  7175 non-null   object        \n",
      " 7   Picture included  7175 non-null   object        \n",
      "dtypes: datetime64[ns](1), int64(1), object(6)\n",
      "memory usage: 448.6+ KB\n"
     ]
    }
   ],
   "source": [
    "diary_df_cleaned.info()"
   ]
  },
  {
   "cell_type": "code",
   "execution_count": 81,
   "id": "425ad80c-51f8-4c9b-b0b6-33cb52ca6bb9",
   "metadata": {},
   "outputs": [],
   "source": [
    "# diary_df_cleaned.to_excel('raw_cleaned_diary.xlsx', index=False)"
   ]
  },
  {
   "cell_type": "markdown",
   "id": "07a98532-1473-494a-b472-c1e7e666d6d2",
   "metadata": {},
   "source": [
    "# Gegebear"
   ]
  },
  {
   "cell_type": "code",
   "execution_count": 82,
   "id": "460d772e-dd6e-461f-bf23-6a5e9dbe22ad",
   "metadata": {},
   "outputs": [],
   "source": [
    "pd.set_option('display.max_colwidth', 100)"
   ]
  },
  {
   "cell_type": "code",
   "execution_count": 83,
   "id": "c0889ba6-ec74-4fab-9e02-ab41ce9babd8",
   "metadata": {},
   "outputs": [],
   "source": [
    "gege_paths = ['Shopee_data/gege/gegebear.xlsx', 'Shopee_data/gege/gegebear1.xlsx', \n",
    "              'Shopee_data/gege/gegebear 2.xlsx', 'Shopee_data/gege/gegebear 3.xlsx']\n",
    "\n",
    "dfs = []\n",
    "for path in gege_paths:\n",
    "    df = pd.read_excel(path)\n",
    "    dfs.append(df)"
   ]
  },
  {
   "cell_type": "code",
   "execution_count": 84,
   "id": "90b91fc4-a8b9-44ab-a89e-5dc3d2f135aa",
   "metadata": {},
   "outputs": [],
   "source": [
    "gege_df = pd.concat(dfs, ignore_index=True)"
   ]
  },
  {
   "cell_type": "code",
   "execution_count": 85,
   "id": "185baf3e-3557-4b53-9ead-e705b3738839",
   "metadata": {},
   "outputs": [],
   "source": [
    "gege_df.rename(columns={'Unnamed: 1': 'Seller', 'Author': 'Customer'}, inplace=True)\n",
    "gege_df.drop(columns=['Unnamed: 0', 'Rating Delivery Service', 'Rating Product Quality', 'Rating Seller Service', 'Region', 'Photos', \n",
    "                       'Videos', '(view source)'], inplace=True)"
   ]
  },
  {
   "cell_type": "code",
   "execution_count": 86,
   "id": "51cbb6a0-e4fd-448f-b017-43621914ba63",
   "metadata": {},
   "outputs": [],
   "source": [
    "gege_df_cleaned = gege_df.loc[gege_df['Review'].notna() == True].reset_index()\n",
    "gege_df_cleaned.drop(columns=['index'], inplace=True)"
   ]
  },
  {
   "cell_type": "code",
   "execution_count": 87,
   "id": "76ff6f9d-3aae-4cbd-b3aa-d0fb297c3834",
   "metadata": {},
   "outputs": [],
   "source": [
    "gege_df_cleaned.drop_duplicates(inplace=True)"
   ]
  },
  {
   "cell_type": "code",
   "execution_count": 88,
   "id": "ff3ef49a-e159-482e-87a8-f2ecad2c7a49",
   "metadata": {},
   "outputs": [],
   "source": [
    "gege_df_cleaned['Seller'].fillna(\"Herorange Official Store\", inplace=True)"
   ]
  },
  {
   "cell_type": "code",
   "execution_count": 89,
   "id": "f0d3c9a4-71eb-41a3-8975-6775a3f82b84",
   "metadata": {},
   "outputs": [],
   "source": [
    "list_na_index = gege_df_cleaned.loc[gege_df_cleaned['Customer'].isna() == True].index.values\n",
    "for i in list_na_index:\n",
    "    gege_df_cleaned.at[i, 'Customer'] = f'Customer #{i}'"
   ]
  },
  {
   "cell_type": "code",
   "execution_count": 90,
   "id": "79e6ea8c-98c4-4edb-8a7f-934803f0d061",
   "metadata": {},
   "outputs": [],
   "source": [
    "# gege_df_cleaned.to_excel(\"raw_cleaned_gegebear.xlsx\", index=False)"
   ]
  },
  {
   "cell_type": "code",
   "execution_count": 91,
   "id": "8df4d932-4e40-48e9-b738-21feed1063a4",
   "metadata": {},
   "outputs": [
    {
     "data": {
      "text/plain": [
       "(9141, 8)"
      ]
     },
     "execution_count": 91,
     "metadata": {},
     "output_type": "execute_result"
    }
   ],
   "source": [
    "gege_df_cleaned.shape"
   ]
  },
  {
   "cell_type": "markdown",
   "id": "592db583-784a-441b-9241-b0714582b7f6",
   "metadata": {},
   "source": [
    "# Herorange"
   ]
  },
  {
   "cell_type": "code",
   "execution_count": 92,
   "id": "a1fa8c63-b1a3-4591-af58-fba5fad1b7b8",
   "metadata": {},
   "outputs": [],
   "source": [
    "import pandas as pd"
   ]
  },
  {
   "cell_type": "code",
   "execution_count": 93,
   "id": "2035d9b2-4a23-4331-933e-91994dba6f88",
   "metadata": {},
   "outputs": [],
   "source": [
    "datgon_df = pd.read_excel('Shopee_data/herorange/datgon herorange.xlsx')"
   ]
  },
  {
   "cell_type": "code",
   "execution_count": 94,
   "id": "dbc00078-3eb2-4d80-9e5b-c4b89cdc87c3",
   "metadata": {},
   "outputs": [],
   "source": [
    "datgon_df['Unnamed: 1'].fillna('Datgon.official', inplace=True)"
   ]
  },
  {
   "cell_type": "code",
   "execution_count": 95,
   "id": "9aeb960d-6fcf-4feb-97a6-4c4c53ffa27c",
   "metadata": {},
   "outputs": [],
   "source": [
    "her_paths = ['Shopee_data/herorange/herorange.xlsx', 'Shopee_data/herorange/herorange 1.xlsx', 'Shopee_data/herorange/herorange 2.xlsx', \n",
    "            'Shopee_data/herorange/herorange 3.xlsx', 'Shopee_data/herorange/herorange 4.xlsx', 'Shopee_data/herorange/herorange 5.xlsx', \n",
    "            'Shopee_data/herorange/herorange 6.xlsx', 'Shopee_data/herorange/herorange 7.xlsx']\n",
    "dfs = []\n",
    "for path in her_paths:\n",
    "    df = pd.read_excel(path)\n",
    "    dfs.append(df)\n",
    "\n",
    "herorange_df = pd.concat(dfs, ignore_index=True)"
   ]
  },
  {
   "cell_type": "code",
   "execution_count": 96,
   "id": "81f8a584-fd1c-44a7-83ae-53c07c0b95a7",
   "metadata": {},
   "outputs": [],
   "source": [
    "her_df = pd.concat([herorange_df, datgon_df], ignore_index=True)\n",
    "her_df.drop(columns=['Unnamed: 0', 'Rating Delivery Service', 'Rating Product Quality', 'Rating Seller Service', 'Region', 'Photos', \n",
    "                       'Videos', '(view source)'], inplace=True)\n",
    "her_df.rename(columns={'Unnamed: 1': 'Seller', 'Author': 'Customer'}, inplace=True)"
   ]
  },
  {
   "cell_type": "code",
   "execution_count": 97,
   "id": "b73469c7-22a6-4cc3-8f53-f95764ebf124",
   "metadata": {},
   "outputs": [],
   "source": [
    "her_df.drop_duplicates(inplace=True)"
   ]
  },
  {
   "cell_type": "code",
   "execution_count": 98,
   "id": "ee0f89b5-c76d-415e-a1ec-424944e76473",
   "metadata": {},
   "outputs": [],
   "source": [
    "her_df['Seller'].fillna(\"Herorange Official Store\", inplace=True)"
   ]
  },
  {
   "cell_type": "code",
   "execution_count": 99,
   "id": "e86965d6-13c4-4fa8-bf2e-2855509c15fd",
   "metadata": {},
   "outputs": [],
   "source": [
    "her_df_cleaned = her_df.loc[her_df['Review'].notna() == True]"
   ]
  },
  {
   "cell_type": "code",
   "execution_count": 100,
   "id": "70aebbbc-631b-4d18-8e24-f7994c566faa",
   "metadata": {},
   "outputs": [],
   "source": [
    "list_na_index = her_df_cleaned.loc[her_df_cleaned['Customer'].isna() == True].index.values\n",
    "for i in list_na_index:\n",
    "    her_df_cleaned.at[i, 'Customer'] = f'Customer #{i+1}'"
   ]
  },
  {
   "cell_type": "code",
   "execution_count": 101,
   "id": "536fbb2d-fdd3-435c-8ec3-d7817216ac72",
   "metadata": {},
   "outputs": [],
   "source": [
    "#her_df_cleaned.to_excel(\"raw_cleaned_herorange.xlsx\", index=False)"
   ]
  },
  {
   "cell_type": "markdown",
   "id": "e32fa409-7b1f-46a7-a2a7-9522010bed9a",
   "metadata": {},
   "source": [
    "# Ineyoo"
   ]
  },
  {
   "cell_type": "code",
   "execution_count": 102,
   "id": "99322a7b-fa8f-4946-a9da-fb08262b948f",
   "metadata": {},
   "outputs": [],
   "source": [
    "import pandas as pd"
   ]
  },
  {
   "cell_type": "code",
   "execution_count": 103,
   "id": "d7493d0f-0c9d-4738-a59d-bc7af41e7d5c",
   "metadata": {},
   "outputs": [],
   "source": [
    "abp_paths = [\"Shopee_data/ineyoo/abpopa ineyoo.xlsx\", \"Shopee_data/ineyoo/abpopa ineyoo 1.xlsx\", \"Shopee_data/ineyoo/abpopa ineyoo 2.xlsx\"]\n",
    "dfs = []\n",
    "for path in abp_paths:\n",
    "    df = pd.read_excel(path)\n",
    "    dfs.append(df)\n",
    "\n",
    "abp_df = pd.concat(dfs, ignore_index=True)"
   ]
  },
  {
   "cell_type": "code",
   "execution_count": 104,
   "id": "521acf06-1d54-4422-a6cd-26e7f330fb37",
   "metadata": {},
   "outputs": [],
   "source": [
    "ine_off_paths = [\"Shopee_data/ineyoo/ineyoo.xlsx\", \"Shopee_data/ineyoo/ineyoo 1.xlsx\", \"Shopee_data/ineyoo/ineyoo 2.xlsx\"]\n",
    "dfs = []\n",
    "for path in ine_off_paths:\n",
    "    df = pd.read_excel(path)\n",
    "    dfs.append(df)\n",
    "\n",
    "ine_off_df = pd.concat(dfs, ignore_index=True)"
   ]
  },
  {
   "cell_type": "code",
   "execution_count": 105,
   "id": "901f6089-4700-4390-a338-9c9c98ee4ae1",
   "metadata": {},
   "outputs": [],
   "source": [
    "shop_names = [\"Abpopa.vn\", \"Ineyoo Official Store\"]\n",
    "dataframes = [abp_df, ine_off_df]"
   ]
  },
  {
   "cell_type": "code",
   "execution_count": 106,
   "id": "d914cd4f-d493-4adb-90d0-a8ce1c691cbc",
   "metadata": {},
   "outputs": [],
   "source": [
    "for i, df in enumerate(dataframes):\n",
    "    shop_name = shop_names[i]\n",
    "    df['Unnamed: 1'].fillna(shop_name, inplace=True)"
   ]
  },
  {
   "cell_type": "code",
   "execution_count": 107,
   "id": "2f5be2de-37eb-4482-ba4c-98a2deb6f3cd",
   "metadata": {},
   "outputs": [],
   "source": [
    "ine_df = pd.concat([ine_off_df, abp_df], ignore_index=True)"
   ]
  },
  {
   "cell_type": "code",
   "execution_count": 108,
   "id": "6491c22a-88ab-4afc-8dfd-25ee62f802cc",
   "metadata": {},
   "outputs": [],
   "source": [
    "ine_df.drop(columns=['Unnamed: 0', 'Rating Delivery Service', 'Rating Product Quality', 'Rating Seller Service', 'Region', 'Photos', \n",
    "                       'Videos', '(view source)'], inplace=True)\n",
    "ine_df.rename(columns={'Unnamed: 1': 'Seller', 'Author': 'Customer'}, inplace=True)"
   ]
  },
  {
   "cell_type": "code",
   "execution_count": 109,
   "id": "0faede8c-18f9-4877-bc51-e07389db2324",
   "metadata": {},
   "outputs": [],
   "source": [
    "ine_df.drop_duplicates(inplace=True)"
   ]
  },
  {
   "cell_type": "code",
   "execution_count": 110,
   "id": "fd3a5723-4ca7-4122-9e72-37c23ebcd6ee",
   "metadata": {},
   "outputs": [],
   "source": [
    "ine_df_cleaned = ine_df.loc[ine_df[\"Review\"].notna() == True]"
   ]
  },
  {
   "cell_type": "code",
   "execution_count": 111,
   "id": "3fb404f8-cbea-4dec-adbe-5c9c33f74fc1",
   "metadata": {},
   "outputs": [],
   "source": [
    "list_na_index = ine_df_cleaned.loc[ine_df_cleaned['Customer'].isna() == True].index.values\n",
    "for i in list_na_index:\n",
    "    ine_df_cleaned.at[i, 'Customer'] = f'Customer #{i+1}'"
   ]
  },
  {
   "cell_type": "code",
   "execution_count": 112,
   "id": "b2625e7c-8466-46e4-a90a-a3a280784254",
   "metadata": {},
   "outputs": [],
   "source": [
    "#ine_df_cleaned.to_excel(\"raw_cleaned_ineyoo.xlsx\",index=False)"
   ]
  },
  {
   "cell_type": "markdown",
   "id": "8cf321a6-eb91-481e-8410-1001d3b83d25",
   "metadata": {},
   "source": [
    "# Cappuvini"
   ]
  },
  {
   "cell_type": "code",
   "execution_count": 113,
   "id": "68247a82-6890-4751-a930-88c8018b8b22",
   "metadata": {},
   "outputs": [],
   "source": [
    "realm_df = pd.read_excel(\"Shopee_data/cappuvini/cappurealmofbeauty.xlsx\")\n",
    "realm_df['Unnamed: 1'].fillna(\"Realm Of Beauty\", inplace=True)"
   ]
  },
  {
   "cell_type": "code",
   "execution_count": 114,
   "id": "be19c487-d075-4605-a510-c06077a0c5b0",
   "metadata": {},
   "outputs": [],
   "source": [
    "cappu_paths = [\"Shopee_data/cappuvini/cappu.xlsx\", \"Shopee_data/cappuvini/cappu1.xlsx\", \"Shopee_data/cappuvini/cappu2.xlsx\", \n",
    "              \"Shopee_data/cappuvini/cappu3.xlsx\", \"Shopee_data/cappuvini/cappu4.xlsx\", ]\n",
    "dfs = []\n",
    "for path in cappu_paths:\n",
    "    df = pd.read_excel(path)\n",
    "    dfs.append(df)\n",
    "\n",
    "cappu_df = pd.concat(dfs, ignore_index=True)\n"
   ]
  },
  {
   "cell_type": "code",
   "execution_count": 115,
   "id": "f8ff7d17-b72d-4fe9-96ef-212608653ab3",
   "metadata": {},
   "outputs": [],
   "source": [
    "df_cappu = pd.concat([cappu_df, realm_df], ignore_index=True)"
   ]
  },
  {
   "cell_type": "code",
   "execution_count": 116,
   "id": "5779e11b-6d22-426e-b152-dafc1721b44d",
   "metadata": {},
   "outputs": [],
   "source": [
    "df_cappu.drop(columns=['Unnamed: 0', 'Rating Delivery Service', 'Rating Product Quality', 'Rating Seller Service', 'Region', 'Photos', \n",
    "                       'Videos', '(view source)'], inplace=True)\n",
    "df_cappu.rename(columns={'Unnamed: 1': 'Seller', 'Author': 'Customer'}, inplace=True)"
   ]
  },
  {
   "cell_type": "code",
   "execution_count": 117,
   "id": "5c658f98-2474-4bb9-97c5-a801768cc997",
   "metadata": {},
   "outputs": [],
   "source": [
    "df_cappu_cleaned = df_cappu.loc[df_cappu[\"Review\"].notna() == True].reset_index()\n",
    "df_cappu_cleaned.drop(columns=[\"index\"], inplace=True)"
   ]
  },
  {
   "cell_type": "code",
   "execution_count": 118,
   "id": "168df83c-4198-4d29-a88b-51b291177601",
   "metadata": {},
   "outputs": [],
   "source": [
    "df_cappu_cleaned.drop_duplicates(inplace=True)"
   ]
  },
  {
   "cell_type": "code",
   "execution_count": 119,
   "id": "93550407-84df-455c-90d1-f17ad8baad38",
   "metadata": {},
   "outputs": [],
   "source": [
    "df_cappu_cleaned['Seller'].fillna(\"Cappuvini Official Store\", inplace=True)"
   ]
  },
  {
   "cell_type": "code",
   "execution_count": 120,
   "id": "7c6650cd-7ed3-40ea-bf0c-e031c3073585",
   "metadata": {},
   "outputs": [],
   "source": [
    "list_na_index = df_cappu_cleaned.loc[df_cappu_cleaned['Customer'].isna() == True].index.values\n",
    "for i in list_na_index:\n",
    "    df_cappu_cleaned.at[i, 'Customer'] = f'Customer #{i+1}'"
   ]
  },
  {
   "cell_type": "code",
   "execution_count": 121,
   "id": "ab52b400-133a-48e5-bd06-a0ef1f5d58ab",
   "metadata": {},
   "outputs": [],
   "source": [
    "#df_cappu_cleaned.to_excel(\"raw_cleaned_cappuvini.xlsx\", index=False)"
   ]
  },
  {
   "cell_type": "code",
   "execution_count": 122,
   "id": "85456614-b5d5-4a31-966d-147ce31d5885",
   "metadata": {},
   "outputs": [
    {
     "data": {
      "text/html": [
       "<div>\n",
       "<style scoped>\n",
       "    .dataframe tbody tr th:only-of-type {\n",
       "        vertical-align: middle;\n",
       "    }\n",
       "\n",
       "    .dataframe tbody tr th {\n",
       "        vertical-align: top;\n",
       "    }\n",
       "\n",
       "    .dataframe thead th {\n",
       "        text-align: right;\n",
       "    }\n",
       "</style>\n",
       "<table border=\"1\" class=\"dataframe\">\n",
       "  <thead>\n",
       "    <tr style=\"text-align: right;\">\n",
       "      <th></th>\n",
       "      <th>Seller</th>\n",
       "      <th>Customer</th>\n",
       "      <th>Date</th>\n",
       "      <th>Rating</th>\n",
       "      <th>Review</th>\n",
       "      <th>Version</th>\n",
       "      <th>Oversea Shopping</th>\n",
       "      <th>Picture included</th>\n",
       "    </tr>\n",
       "  </thead>\n",
       "  <tbody>\n",
       "    <tr>\n",
       "      <th>0</th>\n",
       "      <td>Cappuvini Official Store</td>\n",
       "      <td>s*****8</td>\n",
       "      <td>2022-08-01 04:49:22</td>\n",
       "      <td>5</td>\n",
       "      <td>Công dụng:tô lên môi\\nĐộ bền màu:cũng bền\\n\\nDuongx moi moi nguomhsyeibefsuqisb có thể mua ủng h...</td>\n",
       "      <td>04#Nude màu hồng</td>\n",
       "      <td>no</td>\n",
       "      <td>no</td>\n",
       "    </tr>\n",
       "    <tr>\n",
       "      <th>1</th>\n",
       "      <td>Cappuvini Official Store</td>\n",
       "      <td>k*****d</td>\n",
       "      <td>2022-08-02 07:17:48</td>\n",
       "      <td>5</td>\n",
       "      <td>Agwvcis h tnhdbtc.  Gdvn. Fb fbxbj. Ud. Nfc g db. Vỳ bdn Việt Nam!\\nhttps://cf.shopee.vn/file/vn...</td>\n",
       "      <td>02#Mocha Brown</td>\n",
       "      <td>no</td>\n",
       "      <td>yes</td>\n",
       "    </tr>\n",
       "    <tr>\n",
       "      <th>2</th>\n",
       "      <td>Cappuvini Official Store</td>\n",
       "      <td>n*****1</td>\n",
       "      <td>2022-08-03 15:35:48</td>\n",
       "      <td>5</td>\n",
       "      <td>Công dụng:tÔ\\nĐộ bền màu:tot\\n\\nHình ảnh và video mang tính chất nhận xu.\\nHàng oke nên mua nha ...</td>\n",
       "      <td>06#Lựu Jelly Color</td>\n",
       "      <td>no</td>\n",
       "      <td>no</td>\n",
       "    </tr>\n",
       "    <tr>\n",
       "      <th>3</th>\n",
       "      <td>Cappuvini Official Store</td>\n",
       "      <td>t*****_</td>\n",
       "      <td>2022-08-03 16:57:46</td>\n",
       "      <td>5</td>\n",
       "      <td>Công dụng:tÔ môi\\nĐộ bền màu:lì đẹp nha mỗi tội màu hơi đậm á đạm hơn trên ảnh nhìu nha 😥😓\\nhttp...</td>\n",
       "      <td>02#Mocha Brown</td>\n",
       "      <td>no</td>\n",
       "      <td>yes</td>\n",
       "    </tr>\n",
       "    <tr>\n",
       "      <th>4</th>\n",
       "      <td>Cappuvini Official Store</td>\n",
       "      <td>thusoobin1091992</td>\n",
       "      <td>2022-08-04 05:32:39</td>\n",
       "      <td>5</td>\n",
       "      <td>màu khó dùng lắm nha nhưng cũng lì xinh ai da trắng hơpj hơn nha\\nhttps://cf.shopee.vn/file/vn-1...</td>\n",
       "      <td>06#Lựu Jelly Color</td>\n",
       "      <td>no</td>\n",
       "      <td>yes</td>\n",
       "    </tr>\n",
       "    <tr>\n",
       "      <th>...</th>\n",
       "      <td>...</td>\n",
       "      <td>...</td>\n",
       "      <td>...</td>\n",
       "      <td>...</td>\n",
       "      <td>...</td>\n",
       "      <td>...</td>\n",
       "      <td>...</td>\n",
       "      <td>...</td>\n",
       "    </tr>\n",
       "    <tr>\n",
       "      <th>13460</th>\n",
       "      <td>Realm Of Beauty</td>\n",
       "      <td>daoduytienpez</td>\n",
       "      <td>2024-01-17 03:19:14</td>\n",
       "      <td>5</td>\n",
       "      <td>Sản phẩm tốt..hình ảnh mang tính chất nhận xu\\nANH… thề anh chỉ mình em\\n\\nYêu… lắm hình ảnh Lọ ...</td>\n",
       "      <td>05# Cappuvini</td>\n",
       "      <td>no</td>\n",
       "      <td>no</td>\n",
       "    </tr>\n",
       "    <tr>\n",
       "      <th>13461</th>\n",
       "      <td>Realm Of Beauty</td>\n",
       "      <td>vzs_1tcs7j</td>\n",
       "      <td>2024-01-17 04:06:28</td>\n",
       "      <td>5</td>\n",
       "      <td>Độ bền màu:tốt\\nCông dụng:trang điểm\\n\\npk nói cực kì đẹp xinh xỉu luôn đánh lên màu đẹp y chang...</td>\n",
       "      <td>4# HERORANGE</td>\n",
       "      <td>no</td>\n",
       "      <td>yes</td>\n",
       "    </tr>\n",
       "    <tr>\n",
       "      <th>13462</th>\n",
       "      <td>Realm Of Beauty</td>\n",
       "      <td>hoalungc</td>\n",
       "      <td>2024-01-17 14:14:31</td>\n",
       "      <td>5</td>\n",
       "      <td>Công dụng:cx ổn\\n\\nĐẹp xinh nên mua ha</td>\n",
       "      <td>05# Cappuvini</td>\n",
       "      <td>no</td>\n",
       "      <td>no</td>\n",
       "    </tr>\n",
       "    <tr>\n",
       "      <th>13463</th>\n",
       "      <td>Realm Of Beauty</td>\n",
       "      <td>hw3xhd_nyk</td>\n",
       "      <td>2024-01-18 05:42:28</td>\n",
       "      <td>5</td>\n",
       "      <td>Màu xinh và khá lì 🫶🏻</td>\n",
       "      <td>05# Cappuvini</td>\n",
       "      <td>no</td>\n",
       "      <td>no</td>\n",
       "    </tr>\n",
       "    <tr>\n",
       "      <th>13464</th>\n",
       "      <td>Realm Of Beauty</td>\n",
       "      <td>suzuki_aoi0851</td>\n",
       "      <td>2024-01-18 12:26:57</td>\n",
       "      <td>5</td>\n",
       "      <td>Ch sài nên cũng ch biết\\nCbdondirowndd\\n(Hình ảnh vid kh lquan lắm)\\nhttps://cf.shopee.vn/file/v...</td>\n",
       "      <td>01# Cappuvini</td>\n",
       "      <td>no</td>\n",
       "      <td>yes</td>\n",
       "    </tr>\n",
       "  </tbody>\n",
       "</table>\n",
       "<p>13464 rows × 8 columns</p>\n",
       "</div>"
      ],
      "text/plain": [
       "                         Seller          Customer                Date  Rating  \\\n",
       "0      Cappuvini Official Store           s*****8 2022-08-01 04:49:22       5   \n",
       "1      Cappuvini Official Store           k*****d 2022-08-02 07:17:48       5   \n",
       "2      Cappuvini Official Store           n*****1 2022-08-03 15:35:48       5   \n",
       "3      Cappuvini Official Store           t*****_ 2022-08-03 16:57:46       5   \n",
       "4      Cappuvini Official Store  thusoobin1091992 2022-08-04 05:32:39       5   \n",
       "...                         ...               ...                 ...     ...   \n",
       "13460           Realm Of Beauty     daoduytienpez 2024-01-17 03:19:14       5   \n",
       "13461           Realm Of Beauty        vzs_1tcs7j 2024-01-17 04:06:28       5   \n",
       "13462           Realm Of Beauty          hoalungc 2024-01-17 14:14:31       5   \n",
       "13463           Realm Of Beauty        hw3xhd_nyk 2024-01-18 05:42:28       5   \n",
       "13464           Realm Of Beauty    suzuki_aoi0851 2024-01-18 12:26:57       5   \n",
       "\n",
       "                                                                                                    Review  \\\n",
       "0      Công dụng:tô lên môi\\nĐộ bền màu:cũng bền\\n\\nDuongx moi moi nguomhsyeibefsuqisb có thể mua ủng h...   \n",
       "1      Agwvcis h tnhdbtc.  Gdvn. Fb fbxbj. Ud. Nfc g db. Vỳ bdn Việt Nam!\\nhttps://cf.shopee.vn/file/vn...   \n",
       "2      Công dụng:tÔ\\nĐộ bền màu:tot\\n\\nHình ảnh và video mang tính chất nhận xu.\\nHàng oke nên mua nha ...   \n",
       "3      Công dụng:tÔ môi\\nĐộ bền màu:lì đẹp nha mỗi tội màu hơi đậm á đạm hơn trên ảnh nhìu nha 😥😓\\nhttp...   \n",
       "4      màu khó dùng lắm nha nhưng cũng lì xinh ai da trắng hơpj hơn nha\\nhttps://cf.shopee.vn/file/vn-1...   \n",
       "...                                                                                                    ...   \n",
       "13460  Sản phẩm tốt..hình ảnh mang tính chất nhận xu\\nANH… thề anh chỉ mình em\\n\\nYêu… lắm hình ảnh Lọ ...   \n",
       "13461  Độ bền màu:tốt\\nCông dụng:trang điểm\\n\\npk nói cực kì đẹp xinh xỉu luôn đánh lên màu đẹp y chang...   \n",
       "13462                                                               Công dụng:cx ổn\\n\\nĐẹp xinh nên mua ha   \n",
       "13463                                                                                Màu xinh và khá lì 🫶🏻   \n",
       "13464  Ch sài nên cũng ch biết\\nCbdondirowndd\\n(Hình ảnh vid kh lquan lắm)\\nhttps://cf.shopee.vn/file/v...   \n",
       "\n",
       "                  Version Oversea Shopping Picture included  \n",
       "0        04#Nude màu hồng               no               no  \n",
       "1          02#Mocha Brown               no              yes  \n",
       "2      06#Lựu Jelly Color               no               no  \n",
       "3          02#Mocha Brown               no              yes  \n",
       "4      06#Lựu Jelly Color               no              yes  \n",
       "...                   ...              ...              ...  \n",
       "13460       05# Cappuvini               no               no  \n",
       "13461        4# HERORANGE               no              yes  \n",
       "13462       05# Cappuvini               no               no  \n",
       "13463       05# Cappuvini               no               no  \n",
       "13464       01# Cappuvini               no              yes  \n",
       "\n",
       "[13464 rows x 8 columns]"
      ]
     },
     "execution_count": 122,
     "metadata": {},
     "output_type": "execute_result"
    }
   ],
   "source": [
    "df_cappu_cleaned"
   ]
  },
  {
   "cell_type": "markdown",
   "id": "5aa53cf9-3dbd-484a-98e6-527d52de7936",
   "metadata": {},
   "source": [
    "# Judydoll"
   ]
  },
  {
   "cell_type": "code",
   "execution_count": 123,
   "id": "8c29d8b1-dc74-4fb6-b811-8069a07ec2cb",
   "metadata": {},
   "outputs": [],
   "source": [
    "jd_paths = [\"Shopee_data/judydoll/judydoll.xlsx\", \"Shopee_data/judydoll/judydoll1.xlsx\"]\n",
    "dfs = []\n",
    "for path in jd_paths:\n",
    "    df = pd.read_excel(path)\n",
    "    dfs.append(df)\n",
    "\n",
    "jd_df = pd.concat(dfs, ignore_index=True)"
   ]
  },
  {
   "cell_type": "code",
   "execution_count": 124,
   "id": "d1d0df91-377b-4364-b98d-2fea4cea7584",
   "metadata": {},
   "outputs": [],
   "source": [
    "jd_df.drop(columns=['Unnamed: 0', 'Rating Delivery Service', 'Rating Product Quality', 'Rating Seller Service', 'Region', 'Photos', \n",
    "                       'Videos', '(view source)'], inplace=True)\n",
    "jd_df.rename(columns={'Unnamed: 1': 'Seller', 'Author': 'Customer'}, inplace=True)"
   ]
  },
  {
   "cell_type": "code",
   "execution_count": 125,
   "id": "44705b01-e508-4f09-8364-7a0385731173",
   "metadata": {},
   "outputs": [
    {
     "data": {
      "text/html": [
       "<div>\n",
       "<style scoped>\n",
       "    .dataframe tbody tr th:only-of-type {\n",
       "        vertical-align: middle;\n",
       "    }\n",
       "\n",
       "    .dataframe tbody tr th {\n",
       "        vertical-align: top;\n",
       "    }\n",
       "\n",
       "    .dataframe thead th {\n",
       "        text-align: right;\n",
       "    }\n",
       "</style>\n",
       "<table border=\"1\" class=\"dataframe\">\n",
       "  <thead>\n",
       "    <tr style=\"text-align: right;\">\n",
       "      <th></th>\n",
       "      <th>Seller</th>\n",
       "      <th>Customer</th>\n",
       "      <th>Date</th>\n",
       "      <th>Rating</th>\n",
       "      <th>Review</th>\n",
       "      <th>Version</th>\n",
       "      <th>Oversea Shopping</th>\n",
       "      <th>Picture included</th>\n",
       "    </tr>\n",
       "  </thead>\n",
       "  <tbody>\n",
       "    <tr>\n",
       "      <th>0</th>\n",
       "      <td>Judydoll Official Store</td>\n",
       "      <td>c*****h</td>\n",
       "      <td>2021-10-24 07:34:53</td>\n",
       "      <td>5</td>\n",
       "      <td>NaN</td>\n",
       "      <td>#06 REDCURRANT COCOA</td>\n",
       "      <td>yes</td>\n",
       "      <td>no</td>\n",
       "    </tr>\n",
       "    <tr>\n",
       "      <th>1</th>\n",
       "      <td>Judydoll Official Store</td>\n",
       "      <td>g*****u</td>\n",
       "      <td>2021-10-27 03:47:09</td>\n",
       "      <td>5</td>\n",
       "      <td>Màu đẹp, áp dụng một lớp mỏng</td>\n",
       "      <td>#04 SWEET RED</td>\n",
       "      <td>yes</td>\n",
       "      <td>no</td>\n",
       "    </tr>\n",
       "    <tr>\n",
       "      <th>2</th>\n",
       "      <td>Judydoll Official Store</td>\n",
       "      <td>r*****a</td>\n",
       "      <td>2021-10-27 13:42:49</td>\n",
       "      <td>5</td>\n",
       "      <td>NaN</td>\n",
       "      <td>#02 烏龍奶咖</td>\n",
       "      <td>yes</td>\n",
       "      <td>no</td>\n",
       "    </tr>\n",
       "    <tr>\n",
       "      <th>3</th>\n",
       "      <td>Judydoll Official Store</td>\n",
       "      <td>d*****2</td>\n",
       "      <td>2021-10-27 14:23:46</td>\n",
       "      <td>5</td>\n",
       "      <td>NaN</td>\n",
       "      <td>#08 甜櫻炮彈</td>\n",
       "      <td>yes</td>\n",
       "      <td>no</td>\n",
       "    </tr>\n",
       "    <tr>\n",
       "      <th>4</th>\n",
       "      <td>Judydoll Official Store</td>\n",
       "      <td>u*****s</td>\n",
       "      <td>2021-10-28 00:17:38</td>\n",
       "      <td>5</td>\n",
       "      <td>NaN</td>\n",
       "      <td>#08 甜櫻炮彈</td>\n",
       "      <td>yes</td>\n",
       "      <td>no</td>\n",
       "    </tr>\n",
       "    <tr>\n",
       "      <th>...</th>\n",
       "      <td>...</td>\n",
       "      <td>...</td>\n",
       "      <td>...</td>\n",
       "      <td>...</td>\n",
       "      <td>...</td>\n",
       "      <td>...</td>\n",
       "      <td>...</td>\n",
       "      <td>...</td>\n",
       "    </tr>\n",
       "    <tr>\n",
       "      <th>3909</th>\n",
       "      <td>Judydoll Official Store</td>\n",
       "      <td>i*****e</td>\n",
       "      <td>2024-01-19 03:42:10</td>\n",
       "      <td>5</td>\n",
       "      <td>Độ bền màu:ổn\\n\\nMàu xiu đẹp \\nMôi mik dạng môi thâm nhưng đánh lên vẫn ổn\\nMùi son thì theo mik...</td>\n",
       "      <td>#N03 Trà đào ổi</td>\n",
       "      <td>no</td>\n",
       "      <td>yes</td>\n",
       "    </tr>\n",
       "    <tr>\n",
       "      <th>3910</th>\n",
       "      <td>Judydoll Official Store</td>\n",
       "      <td>p*****h</td>\n",
       "      <td>2024-01-19 04:54:19</td>\n",
       "      <td>5</td>\n",
       "      <td>NaN</td>\n",
       "      <td>#N05 Phô mai Fig</td>\n",
       "      <td>no</td>\n",
       "      <td>no</td>\n",
       "    </tr>\n",
       "    <tr>\n",
       "      <th>3911</th>\n",
       "      <td>Judydoll Official Store</td>\n",
       "      <td>ngcanhcaothi461</td>\n",
       "      <td>2024-01-19 05:23:34</td>\n",
       "      <td>5</td>\n",
       "      <td>NaN</td>\n",
       "      <td>#N03 Trà đào ổi</td>\n",
       "      <td>no</td>\n",
       "      <td>no</td>\n",
       "    </tr>\n",
       "    <tr>\n",
       "      <th>3912</th>\n",
       "      <td>Judydoll Official Store</td>\n",
       "      <td>n*****3</td>\n",
       "      <td>2024-01-19 05:25:22</td>\n",
       "      <td>5</td>\n",
       "      <td>hộp xinhh, mua để làm quà nên đánh giá nhận xu thui ý\\nnhìn mê cực luôn</td>\n",
       "      <td>#N05 Phô mai Fig</td>\n",
       "      <td>no</td>\n",
       "      <td>yes</td>\n",
       "    </tr>\n",
       "    <tr>\n",
       "      <th>3913</th>\n",
       "      <td>Judydoll Official Store</td>\n",
       "      <td>632nguynqunhanh</td>\n",
       "      <td>2024-01-19 06:16:53</td>\n",
       "      <td>5</td>\n",
       "      <td>NaN</td>\n",
       "      <td>#N03 Trà đào ổi</td>\n",
       "      <td>no</td>\n",
       "      <td>no</td>\n",
       "    </tr>\n",
       "  </tbody>\n",
       "</table>\n",
       "<p>3914 rows × 8 columns</p>\n",
       "</div>"
      ],
      "text/plain": [
       "                       Seller         Customer                Date  Rating  \\\n",
       "0     Judydoll Official Store          c*****h 2021-10-24 07:34:53       5   \n",
       "1     Judydoll Official Store          g*****u 2021-10-27 03:47:09       5   \n",
       "2     Judydoll Official Store          r*****a 2021-10-27 13:42:49       5   \n",
       "3     Judydoll Official Store          d*****2 2021-10-27 14:23:46       5   \n",
       "4     Judydoll Official Store          u*****s 2021-10-28 00:17:38       5   \n",
       "...                       ...              ...                 ...     ...   \n",
       "3909  Judydoll Official Store          i*****e 2024-01-19 03:42:10       5   \n",
       "3910  Judydoll Official Store          p*****h 2024-01-19 04:54:19       5   \n",
       "3911  Judydoll Official Store  ngcanhcaothi461 2024-01-19 05:23:34       5   \n",
       "3912  Judydoll Official Store          n*****3 2024-01-19 05:25:22       5   \n",
       "3913  Judydoll Official Store  632nguynqunhanh 2024-01-19 06:16:53       5   \n",
       "\n",
       "                                                                                                   Review  \\\n",
       "0                                                                                                     NaN   \n",
       "1                                                                           Màu đẹp, áp dụng một lớp mỏng   \n",
       "2                                                                                                     NaN   \n",
       "3                                                                                                     NaN   \n",
       "4                                                                                                     NaN   \n",
       "...                                                                                                   ...   \n",
       "3909  Độ bền màu:ổn\\n\\nMàu xiu đẹp \\nMôi mik dạng môi thâm nhưng đánh lên vẫn ổn\\nMùi son thì theo mik...   \n",
       "3910                                                                                                  NaN   \n",
       "3911                                                                                                  NaN   \n",
       "3912                              hộp xinhh, mua để làm quà nên đánh giá nhận xu thui ý\\nnhìn mê cực luôn   \n",
       "3913                                                                                                  NaN   \n",
       "\n",
       "                   Version Oversea Shopping Picture included  \n",
       "0     #06 REDCURRANT COCOA              yes               no  \n",
       "1            #04 SWEET RED              yes               no  \n",
       "2                 #02 烏龍奶咖              yes               no  \n",
       "3                 #08 甜櫻炮彈              yes               no  \n",
       "4                 #08 甜櫻炮彈              yes               no  \n",
       "...                    ...              ...              ...  \n",
       "3909       #N03 Trà đào ổi               no              yes  \n",
       "3910      #N05 Phô mai Fig               no               no  \n",
       "3911       #N03 Trà đào ổi               no               no  \n",
       "3912      #N05 Phô mai Fig               no              yes  \n",
       "3913       #N03 Trà đào ổi               no               no  \n",
       "\n",
       "[3914 rows x 8 columns]"
      ]
     },
     "execution_count": 125,
     "metadata": {},
     "output_type": "execute_result"
    }
   ],
   "source": [
    "jd_df[\"Seller\"].fillna(\"Judydoll Official Store\", inplace=True)\n",
    "jd_df.drop_duplicates(inplace=True)\n",
    "jd_df"
   ]
  },
  {
   "cell_type": "code",
   "execution_count": 126,
   "id": "c12f14ea-bb82-4def-b984-fe8742dde434",
   "metadata": {},
   "outputs": [],
   "source": [
    "jd_df_cleaned = jd_df.loc[jd_df[\"Review\"].notna() == True].reset_index()\n",
    "jd_df_cleaned.drop(columns=[\"index\"], inplace=True)"
   ]
  },
  {
   "cell_type": "code",
   "execution_count": 127,
   "id": "f8effabc-0a74-416b-a213-683d9a6f03e8",
   "metadata": {},
   "outputs": [],
   "source": [
    "list_na_index = jd_df_cleaned.loc[jd_df_cleaned['Customer'].isna() == True].index.values\n",
    "for i in list_na_index:\n",
    "    jd_df_cleaned.at[i, 'Customer'] = f'Customer #{i+1}'"
   ]
  },
  {
   "cell_type": "code",
   "execution_count": 128,
   "id": "4a01aa5e-0283-49cb-98ed-f2fec79e9a7b",
   "metadata": {},
   "outputs": [],
   "source": [
    "#jd_df_cleaned.to_excel(\"raw_cleaned_judydoll.xlsx\", index=False)"
   ]
  },
  {
   "cell_type": "markdown",
   "id": "4250758a-a0cb-4de5-9aeb-5bce02877b91",
   "metadata": {},
   "source": [
    "# Kimuse"
   ]
  },
  {
   "cell_type": "code",
   "execution_count": 129,
   "id": "3e997668-df6c-46b1-a7db-e42d77a27bd5",
   "metadata": {},
   "outputs": [],
   "source": [
    "import pandas as pd"
   ]
  },
  {
   "cell_type": "code",
   "execution_count": 130,
   "id": "df9d5816-0249-49b6-bdb2-7c3a17feca9c",
   "metadata": {},
   "outputs": [],
   "source": [
    "kim_paths = [\"Shopee_data/kimuse/kimuse.xlsx\", \"Shopee_data/kimuse/kimuse1.xlsx\", \"Shopee_data/kimuse/kimuse2.xlsx\"]\n",
    "dfs = []\n",
    "for path in kim_paths:\n",
    "    df = pd.read_excel(path)\n",
    "    dfs.append(df)\n",
    "\n",
    "kim_df = pd.concat(dfs, ignore_index=True)"
   ]
  },
  {
   "cell_type": "code",
   "execution_count": 131,
   "id": "f1b48e74-8d29-491a-aa2d-b8776bdff39f",
   "metadata": {},
   "outputs": [],
   "source": [
    "kim_df.drop(columns=['Unnamed: 0', 'Rating Delivery Service', 'Rating Product Quality', 'Rating Seller Service', 'Region', 'Photos', \n",
    "                       'Videos', '(view source)'], inplace=True)\n",
    "kim_df.rename(columns={'Unnamed: 1': 'Seller', 'Author': 'Customer'}, inplace=True)"
   ]
  },
  {
   "cell_type": "code",
   "execution_count": 132,
   "id": "1eec5127-692f-4240-801d-8842b9c07bb9",
   "metadata": {},
   "outputs": [],
   "source": [
    "kim_df[\"Seller\"].fillna(\"Kimuse.vn\", inplace=True)\n",
    "kim_df.drop_duplicates(inplace=True)"
   ]
  },
  {
   "cell_type": "code",
   "execution_count": 133,
   "id": "cbf46e0d-b286-48fd-b6ee-31db2210f023",
   "metadata": {},
   "outputs": [],
   "source": [
    "kim_df_cleaned = kim_df.loc[kim_df[\"Review\"].notna() == True].reset_index()\n",
    "kim_df_cleaned.drop(columns=[\"index\"], inplace=True)"
   ]
  },
  {
   "cell_type": "code",
   "execution_count": 134,
   "id": "8f5b5934-310d-431b-be04-2c05097a7ee7",
   "metadata": {},
   "outputs": [],
   "source": [
    "list_na_index = kim_df_cleaned.loc[kim_df_cleaned['Customer'].isna() == True].index.values\n",
    "for i in list_na_index:\n",
    "    kim_df_cleaned.at[i, 'Customer'] = f'Customer #{i+1}'"
   ]
  },
  {
   "cell_type": "code",
   "execution_count": 135,
   "id": "f87bf5d8-792f-4b11-b200-7719041e6d19",
   "metadata": {},
   "outputs": [],
   "source": [
    "#kim_df_cleaned.to_excel(\"raw_cleaned_kimuse.xlsx\", index=False)"
   ]
  },
  {
   "cell_type": "markdown",
   "id": "ceb41f7b-7d8a-4e1b-a6b8-3decc6a87ce2",
   "metadata": {},
   "source": [
    "# Lemonade"
   ]
  },
  {
   "cell_type": "code",
   "execution_count": 136,
   "id": "480ba303-2fdc-4aaa-ad3d-5f63d15b1e7a",
   "metadata": {},
   "outputs": [],
   "source": [
    "lem_paths = [\"Shopee_data/lemonade/lemonade.xlsx\", \"Shopee_data/lemonade/lemonade1.xlsx\", \"Shopee_data/lemonade/lemonade 2.xlsx\"]\n",
    "dfs = []\n",
    "for path in lem_paths:\n",
    "    df = pd.read_excel(path)\n",
    "    dfs.append(df)\n",
    "\n",
    "lem_df = pd.concat(dfs, ignore_index=True)"
   ]
  },
  {
   "cell_type": "code",
   "execution_count": 137,
   "id": "84d980c9-8738-4662-9a64-00df214a882a",
   "metadata": {},
   "outputs": [],
   "source": [
    "lem_df.drop(columns=['Unnamed: 0', 'Rating Delivery Service', 'Rating Product Quality', 'Rating Seller Service', 'Region', 'Photos', \n",
    "                       'Videos', '(view source)'], inplace=True)\n",
    "lem_df.rename(columns={'Unnamed: 1': 'Seller', 'Author': 'Customer'}, inplace=True)"
   ]
  },
  {
   "cell_type": "code",
   "execution_count": 138,
   "id": "fa8d491f-db2a-41c9-b88f-5f0fec953804",
   "metadata": {},
   "outputs": [],
   "source": [
    "lem_df[\"Seller\"].fillna(\"Lemonade Cosmetics\", inplace=True)\n",
    "lem_df.drop_duplicates(inplace=True)"
   ]
  },
  {
   "cell_type": "code",
   "execution_count": 139,
   "id": "16f97f81-4525-4bb0-b1bb-76c6aa468e07",
   "metadata": {},
   "outputs": [],
   "source": [
    "lem_df_cleaned = lem_df.loc[lem_df[\"Review\"].notna() == True].reset_index()\n",
    "lem_df_cleaned.drop(columns=[\"index\"], inplace=True)"
   ]
  },
  {
   "cell_type": "code",
   "execution_count": 140,
   "id": "4b6a9faf-a13e-46a9-9ff9-6270c6c936d1",
   "metadata": {},
   "outputs": [],
   "source": [
    "list_na_index = lem_df_cleaned.loc[lem_df_cleaned['Customer'].isna() == True].index.values\n",
    "for i in list_na_index:\n",
    "    lem_df_cleaned.at[i, 'Customer'] = f'Customer #{i+1}'"
   ]
  },
  {
   "cell_type": "code",
   "execution_count": 141,
   "id": "86a2f61c-8cd1-4c59-8338-19fa63baa7a2",
   "metadata": {},
   "outputs": [],
   "source": [
    "#lem_df_cleaned.to_excel(\"raw_cleaned_lemonade.xlsx\", index=False)"
   ]
  },
  {
   "cell_type": "markdown",
   "id": "964d5745-86a2-407b-91ed-3c876561b022",
   "metadata": {},
   "source": [
    "# Lilybyred"
   ]
  },
  {
   "cell_type": "code",
   "execution_count": 142,
   "id": "5febef2b-7286-45d0-aafe-a3a0b9cb6740",
   "metadata": {},
   "outputs": [],
   "source": [
    "whale_df = pd.read_excel(\"Shopee_data/lilybyred/lilybyred WHALE COSMETICS - HCM.xlsx\")\n",
    "whale_df['Unnamed: 1'].fillna(\"WHALE COSMETICS - HCM\", inplace=True)\n",
    "jen_df = pd.read_excel(\"Shopee_data/lilybyred/lilybyred1 jenny shopp.xlsx\")\n",
    "jen_df['Unnamed: 1'].fillna(\"JENNY SHOPP\", inplace=True)\n",
    "bovie_df = pd.read_excel(\"Shopee_data/lilybyred/lilybyred2 bovie.xlsx\")\n",
    "bovie_df['Unnamed: 1'].fillna(\"Bovie Cosmetics\", inplace=True)"
   ]
  },
  {
   "cell_type": "code",
   "execution_count": 143,
   "id": "353a874f-8e63-4641-ad5c-d43c36e63da3",
   "metadata": {},
   "outputs": [],
   "source": [
    "lily_df = pd.concat([whale_df, jen_df, bovie_df], ignore_index=True)"
   ]
  },
  {
   "cell_type": "code",
   "execution_count": 144,
   "id": "40dd0228-5ea4-411a-87ce-2cb1dcac056c",
   "metadata": {},
   "outputs": [],
   "source": [
    "lily_df.drop(columns=['Unnamed: 0', 'Rating Delivery Service', 'Rating Product Quality', 'Rating Seller Service', 'Region', 'Photos', \n",
    "                       'Videos', '(view source)'], inplace=True)\n",
    "lily_df.rename(columns={'Unnamed: 1': 'Seller', 'Author': 'Customer'}, inplace=True)"
   ]
  },
  {
   "cell_type": "code",
   "execution_count": 145,
   "id": "79f7745e-aff7-4332-901f-fc5dbff25ebf",
   "metadata": {},
   "outputs": [],
   "source": [
    "lily_df.drop_duplicates(inplace=True)"
   ]
  },
  {
   "cell_type": "code",
   "execution_count": 146,
   "id": "629d4681-3da0-4d99-bdd0-1917d159c55f",
   "metadata": {},
   "outputs": [],
   "source": [
    "lily_df_cleaned = lily_df.loc[lily_df[\"Review\"].notna() == True].reset_index()\n",
    "lily_df_cleaned.drop(columns=[\"index\"], inplace=True)"
   ]
  },
  {
   "cell_type": "code",
   "execution_count": 147,
   "id": "d416ecd8-047d-414e-8045-b2c27639d262",
   "metadata": {},
   "outputs": [],
   "source": [
    "list_na_index = lily_df_cleaned.loc[lily_df_cleaned['Customer'].isna() == True].index.values\n",
    "for i in list_na_index:\n",
    "    lily_df_cleaned.at[i, 'Customer'] = f'Customer #{i+1}'"
   ]
  },
  {
   "cell_type": "code",
   "execution_count": 148,
   "id": "5e9f0e2d-6c59-44da-bae0-b2ce8e9c55e2",
   "metadata": {},
   "outputs": [],
   "source": [
    "#lily_df_cleaned.to_excel(\"raw_cleaned_lilybyred.xlsx\", index=False)"
   ]
  },
  {
   "cell_type": "markdown",
   "id": "b0148666-e455-4de0-bb57-99a978b08867",
   "metadata": {},
   "source": [
    "# Rom&nd"
   ]
  },
  {
   "cell_type": "code",
   "execution_count": 149,
   "id": "4efcd12f-4d2e-4e23-92a0-dfcea73cc204",
   "metadata": {},
   "outputs": [],
   "source": [
    "pink_paths = [\"Shopee_data/romand/romand.xlsx\", \"Shopee_data/romand/romand 1.xlsx\", \"Shopee_data/romand/romand2.xlsx\", \n",
    "            \"Shopee_data/romand/romand 3.xlsx\", \"Shopee_data/romand/romand 4.xlsx\"]\n",
    "dfs = []\n",
    "for path in pink_paths:\n",
    "    df = pd.read_excel(path)\n",
    "    dfs.append(df)\n",
    "\n",
    "rom_df = pd.concat(dfs, ignore_index=True)"
   ]
  },
  {
   "cell_type": "code",
   "execution_count": 150,
   "id": "739d8e63-3c84-4c43-842f-1bf72179a603",
   "metadata": {},
   "outputs": [],
   "source": [
    "rom_df.drop(columns=['Unnamed: 0', 'Rating Delivery Service', 'Rating Product Quality', 'Rating Seller Service', 'Region', 'Photos', \n",
    "                       'Videos', '(view source)'], inplace=True)\n",
    "rom_df.rename(columns={'Unnamed: 1': 'Seller', 'Author': 'Customer'}, inplace=True)\n",
    "rom_df.drop_duplicates(inplace=True)"
   ]
  },
  {
   "cell_type": "code",
   "execution_count": 151,
   "id": "16ac08cb-6c0e-4011-ad88-36d5767a3e15",
   "metadata": {},
   "outputs": [],
   "source": [
    "rom_df_cleaned = rom_df.loc[rom_df[\"Review\"].notna() == True].reset_index()\n",
    "rom_df_cleaned.drop(columns=[\"index\"], inplace=True)"
   ]
  },
  {
   "cell_type": "code",
   "execution_count": 152,
   "id": "0f7f3c12-4da0-4984-80d4-e56e103a5d30",
   "metadata": {},
   "outputs": [],
   "source": [
    "list_na_index = rom_df_cleaned.loc[rom_df_cleaned['Customer'].isna() == True].index.values\n",
    "for i in list_na_index:\n",
    "    rom_df_cleaned.at[i, 'Customer'] = f'Customer #{i+1}'"
   ]
  },
  {
   "cell_type": "code",
   "execution_count": 153,
   "id": "6c243e60-4835-4c7d-8847-98cc011ddc60",
   "metadata": {},
   "outputs": [],
   "source": [
    "rom_df_cleaned[\"Seller\"].fillna(\"Romand_Official Store\", inplace=True)"
   ]
  },
  {
   "cell_type": "code",
   "execution_count": 154,
   "id": "824e55ce-f521-4f4b-bc53-62fac09818cb",
   "metadata": {},
   "outputs": [],
   "source": [
    "#rom_df_cleaned.to_excel(\"raw_cleaned_romand.xlsx\", index=False)"
   ]
  },
  {
   "cell_type": "markdown",
   "id": "88a05259-18df-4db9-adfa-e3d17a520237",
   "metadata": {},
   "source": [
    "# Pinkcoco"
   ]
  },
  {
   "cell_type": "code",
   "execution_count": 155,
   "id": "be6abff1-65af-45d2-9ab4-526b8e1ba77b",
   "metadata": {},
   "outputs": [],
   "source": [
    "import pandas as pd"
   ]
  },
  {
   "cell_type": "code",
   "execution_count": 156,
   "id": "1c7a4f98-17c1-4aec-8f5e-9659e7196d88",
   "metadata": {},
   "outputs": [],
   "source": [
    "coco_paths = [\"Shopee_data/pinkcoco/pinkcoco.xlsx\", \"Shopee_data/pinkcoco/pinkcoco1.xlsx\"]\n",
    "dfs = []\n",
    "for path in coco_paths:\n",
    "    df = pd.read_excel(path)\n",
    "    dfs.append(df)\n",
    "\n",
    "coco_df = pd.concat(dfs, ignore_index=True)"
   ]
  },
  {
   "cell_type": "code",
   "execution_count": 157,
   "id": "d79b4ff2-7862-44c5-b8e5-ca6d343ba8bf",
   "metadata": {},
   "outputs": [],
   "source": [
    "coco_df.drop(columns=['Unnamed: 0', 'Rating Delivery Service', 'Rating Product Quality', 'Rating Seller Service', 'Region', 'Photos', \n",
    "                       'Videos', '(view source)'], inplace=True)\n",
    "coco_df.rename(columns={'Unnamed: 1': 'Seller', 'Author': 'Customer'}, inplace=True)\n",
    "coco_df.drop_duplicates(inplace=True)"
   ]
  },
  {
   "cell_type": "code",
   "execution_count": 158,
   "id": "15188456-05c8-4e6b-a798-f70b0f0b79a5",
   "metadata": {},
   "outputs": [],
   "source": [
    "coco_df_cleaned = coco_df.loc[coco_df[\"Review\"].notna() == True].reset_index()\n",
    "coco_df_cleaned.drop(columns=[\"index\"], inplace=True)"
   ]
  },
  {
   "cell_type": "code",
   "execution_count": 159,
   "id": "1a7fec7b-eee7-4946-848d-5fdcd142efb5",
   "metadata": {},
   "outputs": [],
   "source": [
    "list_na_index = coco_df_cleaned.loc[coco_df_cleaned['Customer'].isna() == True].index.values\n",
    "for i in list_na_index:\n",
    "    coco_df_cleaned.at[i, 'Customer'] = f'Customer #{i+1}'"
   ]
  },
  {
   "cell_type": "code",
   "execution_count": 160,
   "id": "fcb01d5b-0c65-4d4b-a205-57b63ca48d25",
   "metadata": {},
   "outputs": [],
   "source": [
    "coco_df_cleaned[\"Seller\"].fillna(\"Sweet mint Official Store\", inplace=True)"
   ]
  },
  {
   "cell_type": "code",
   "execution_count": 161,
   "id": "181c754e-3272-4199-9900-0315d5baeb3a",
   "metadata": {},
   "outputs": [],
   "source": [
    "#coco_df_cleaned.to_excel(\"raw_cleaned_pinkcoco.xlsx\", index=False)"
   ]
  },
  {
   "cell_type": "markdown",
   "id": "42351188-f1ad-4ec7-9a4f-47aef08c0243",
   "metadata": {},
   "source": [
    "# Others"
   ]
  },
  {
   "cell_type": "code",
   "execution_count": 162,
   "id": "b2235b6f-a7fa-4d7f-84fb-60e687ff89e1",
   "metadata": {},
   "outputs": [],
   "source": [
    "df_comem = pd.read_excel(\"Shopee_data/others/comem.xlsx\")\n",
    "df_derf = pd.read_excel(\"Shopee_data/others/derf.xlsx\")\n",
    "df_kys = pd.read_excel(\"Shopee_data/others/kys.xlsx\")\n",
    "df_may = pd.read_excel(\"Shopee_data/others/maybelline.xlsx\")\n",
    "df_moi = pd.read_excel(\"Shopee_data/others/moi.xlsx\")\n",
    "df_ukiss = pd.read_excel(\"Shopee_data/others/ukiss.xlsx\")\n",
    "df_zee = pd.read_excel(\"Shopee_data/others/zeesea.xlsx\")"
   ]
  },
  {
   "cell_type": "code",
   "execution_count": 163,
   "id": "aad87e1a-fd6d-48ae-bd44-5bda4c0fd6ff",
   "metadata": {},
   "outputs": [],
   "source": [
    "dataframes = [df_comem, df_derf, df_kys, df_may, df_moi, df_ukiss, df_zee]\n",
    "shop_names = [\"Cỏ Mềm Official Store\", \"Shiny B&S makeup shop\", \"kys_officialstore\", \n",
    "              \"Maybelline Official Store\", \"Đẹp+ Official\", \"UKISS Official Store\",\n",
    "             \"ZEESEA Official Store\"]\n",
    "\n",
    "for name, df in enumerate(dataframes):\n",
    "    shop_name = shop_names[name]\n",
    "    df['Unnamed: 1'].fillna(shop_name, inplace=True)\n"
   ]
  },
  {
   "cell_type": "code",
   "execution_count": 164,
   "id": "582a9566-8adf-4960-b6a4-f7c68143d0c8",
   "metadata": {},
   "outputs": [],
   "source": [
    "df_others = pd.concat(dataframes, ignore_index=True)"
   ]
  },
  {
   "cell_type": "code",
   "execution_count": 165,
   "id": "570d1eb1-1af7-4dbc-9d54-916cb3e6a7f0",
   "metadata": {},
   "outputs": [],
   "source": [
    "df_others.drop(columns=['Unnamed: 0', 'Rating Delivery Service', 'Rating Product Quality', 'Rating Seller Service', 'Region', 'Photos', \n",
    "                       'Videos', '(view source)'], inplace=True)\n",
    "df_others.rename(columns={'Unnamed: 1': 'Seller', 'Author': 'Customer'}, inplace=True)\n",
    "df_others.drop_duplicates(inplace=True)"
   ]
  },
  {
   "cell_type": "code",
   "execution_count": 166,
   "id": "0baf639e-537c-47ec-938d-04918d41fe25",
   "metadata": {},
   "outputs": [],
   "source": [
    "df_others_cleaned = df_others.loc[df_others[\"Review\"].notna() == True].reset_index()\n",
    "df_others_cleaned.drop(columns=[\"index\"], inplace=True)"
   ]
  },
  {
   "cell_type": "code",
   "execution_count": 167,
   "id": "8f955227-10be-4312-92e6-cb084da45973",
   "metadata": {},
   "outputs": [],
   "source": [
    "list_na_index = df_others_cleaned.loc[df_others_cleaned['Customer'].isna() == True].index.values\n",
    "for i in list_na_index:\n",
    "    df_others_cleaned.at[i, 'Customer'] = f'Customer #{i+1}'"
   ]
  },
  {
   "cell_type": "code",
   "execution_count": 168,
   "id": "dc34f665-034f-4830-a3ac-3447637000ce",
   "metadata": {},
   "outputs": [],
   "source": [
    "#df_others_cleaned.to_excel(\"raw_cleaned_other_brands.xlsx\", index=False)"
   ]
  }
 ],
 "metadata": {
  "kernelspec": {
   "display_name": "Python 3 (ipykernel)",
   "language": "python",
   "name": "python3"
  },
  "language_info": {
   "codemirror_mode": {
    "name": "ipython",
    "version": 3
   },
   "file_extension": ".py",
   "mimetype": "text/x-python",
   "name": "python",
   "nbconvert_exporter": "python",
   "pygments_lexer": "ipython3",
   "version": "3.11.4"
  }
 },
 "nbformat": 4,
 "nbformat_minor": 5
}
