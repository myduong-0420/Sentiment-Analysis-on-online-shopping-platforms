{
 "cells": [
  {
   "cell_type": "markdown",
   "id": "dd6f2eb7-78a9-4fed-a0ad-02727fbe3f0c",
   "metadata": {},
   "source": [
    "# Import original data - Merzy"
   ]
  },
  {
   "cell_type": "code",
   "execution_count": 3,
   "id": "d34cd44e-68dd-4ada-b1ea-ac21b6b3f57a",
   "metadata": {},
   "outputs": [],
   "source": [
    "import pandas as pd"
   ]
  },
  {
   "cell_type": "code",
   "execution_count": 4,
   "id": "77b7d5aa-915d-44ef-81dd-aa8db81f7389",
   "metadata": {},
   "outputs": [],
   "source": [
    "pd.set_option(\"display.max_colwidth\", 200)\n",
    "pd.set_option(\"display.max_columns\", 21)"
   ]
  },
  {
   "cell_type": "code",
   "execution_count": 4,
   "id": "1b8f3841-1b70-4d67-9b7f-86d51b5c9620",
   "metadata": {},
   "outputs": [],
   "source": [
    "merzy_paths = ['Shopee_data/merzy/merzy.xlsx', 'Shopee_data/merzy/merzy 1.xlsx', 'Shopee_data/merzy/merzy 2.xlsx', \n",
    "               'Shopee_data/merzy/merzy 3.xlsx', 'Shopee_data/merzy/merzy 4.xlsx', 'Shopee_data/merzy/merzy 5.xlsx', 'Shopee_data/merzy/merzy 6.xlsx']\n",
    "dfs = []\n",
    "for path in merzy_paths:\n",
    "    df = pd.read_excel(path)\n",
    "    dfs.append(df)"
   ]
  },
  {
   "cell_type": "code",
   "execution_count": 5,
   "id": "8342163c-5585-4616-9549-5ee97d8f7617",
   "metadata": {},
   "outputs": [],
   "source": [
    "merzy_df = pd.concat(dfs, ignore_index=True)"
   ]
  },
  {
   "cell_type": "code",
   "execution_count": 6,
   "id": "a0ef596a-e407-4db0-9935-326994638c14",
   "metadata": {},
   "outputs": [],
   "source": [
    "#merzy_df.to_excel(\"merzy_data_og.xlsx\", index=False)"
   ]
  },
  {
   "cell_type": "code",
   "execution_count": 14,
   "id": "791b5c1b-5280-4a32-9c0c-7f4a293b9132",
   "metadata": {},
   "outputs": [
    {
     "data": {
      "text/plain": [
       "(19837, 21)"
      ]
     },
     "execution_count": 14,
     "metadata": {},
     "output_type": "execute_result"
    }
   ],
   "source": [
    "df_merzy = pd.read_excel(\"merzy_data_og.xlsx\")\n",
    "df_merzy.shape"
   ]
  },
  {
   "cell_type": "code",
   "execution_count": 15,
   "id": "92650545-4db9-424b-ac90-712087d75db0",
   "metadata": {},
   "outputs": [
    {
     "data": {
      "text/html": [
       "<div>\n",
       "<style scoped>\n",
       "    .dataframe tbody tr th:only-of-type {\n",
       "        vertical-align: middle;\n",
       "    }\n",
       "\n",
       "    .dataframe tbody tr th {\n",
       "        vertical-align: top;\n",
       "    }\n",
       "\n",
       "    .dataframe thead th {\n",
       "        text-align: right;\n",
       "    }\n",
       "</style>\n",
       "<table border=\"1\" class=\"dataframe\">\n",
       "  <thead>\n",
       "    <tr style=\"text-align: right;\">\n",
       "      <th></th>\n",
       "      <th>Unnamed: 0</th>\n",
       "      <th>Unnamed: 1</th>\n",
       "      <th>Author</th>\n",
       "      <th>Date</th>\n",
       "      <th>Rating</th>\n",
       "      <th>Rating Delivery Service</th>\n",
       "      <th>Rating Product Quality</th>\n",
       "      <th>Rating Seller Service</th>\n",
       "      <th>Review</th>\n",
       "      <th>Version</th>\n",
       "      <th>Oversea Shopping</th>\n",
       "      <th>Region</th>\n",
       "      <th>Picture included</th>\n",
       "      <th>Photos</th>\n",
       "      <th>Videos</th>\n",
       "      <th>Profile Url</th>\n",
       "      <th>Review Url</th>\n",
       "      <th>Unnamed: 17</th>\n",
       "      <th>Unnamed: 18</th>\n",
       "      <th>Unnamed: 19</th>\n",
       "      <th>(view source)</th>\n",
       "    </tr>\n",
       "  </thead>\n",
       "  <tbody>\n",
       "    <tr>\n",
       "      <th>0</th>\n",
       "      <td>1</td>\n",
       "      <td>NaN</td>\n",
       "      <td>t*****2</td>\n",
       "      <td>2023-10-17 01:13:00</td>\n",
       "      <td>5</td>\n",
       "      <td>5</td>\n",
       "      <td>5</td>\n",
       "      <td>5</td>\n",
       "      <td>Son đẹp, giao hàng nhanh, đóng gói sản phẩm chắc chắn, sản phẩm như hình ❤️❤️</td>\n",
       "      <td>🆕 CM4</td>\n",
       "      <td>no</td>\n",
       "      <td>vn</td>\n",
       "      <td>no</td>\n",
       "      <td>NaN</td>\n",
       "      <td>NaN</td>\n",
       "      <td>Rating Total: 2388; No Stars: 14 reviews; *: 10 reviews; **: 25 reviews; ***: 83 reviews; ****: ...</td>\n",
       "      <td>https://shopee.vn/shop/12822129</td>\n",
       "      <td>https://shopee.vn/p-i.193207976.23357766479</td>\n",
       "      <td>NaN</td>\n",
       "      <td>NaN</td>\n",
       "      <td>NaN</td>\n",
       "    </tr>\n",
       "  </tbody>\n",
       "</table>\n",
       "</div>"
      ],
      "text/plain": [
       "   Unnamed: 0  Unnamed: 1   Author                Date  Rating  \\\n",
       "0           1         NaN  t*****2 2023-10-17 01:13:00       5   \n",
       "\n",
       "   Rating Delivery Service  Rating Product Quality  Rating Seller Service  \\\n",
       "0                        5                       5                      5   \n",
       "\n",
       "                                                                          Review  \\\n",
       "0  Son đẹp, giao hàng nhanh, đóng gói sản phẩm chắc chắn, sản phẩm như hình ❤️❤️   \n",
       "\n",
       "  Version Oversea Shopping Region Picture included Photos Videos  \\\n",
       "0   🆕 CM4               no     vn               no    NaN    NaN   \n",
       "\n",
       "                                                                                           Profile Url  \\\n",
       "0  Rating Total: 2388; No Stars: 14 reviews; *: 10 reviews; **: 25 reviews; ***: 83 reviews; ****: ...   \n",
       "\n",
       "                        Review Url  \\\n",
       "0  https://shopee.vn/shop/12822129   \n",
       "\n",
       "                                   Unnamed: 17 Unnamed: 18 Unnamed: 19  \\\n",
       "0  https://shopee.vn/p-i.193207976.23357766479         NaN         NaN   \n",
       "\n",
       "  (view source)  \n",
       "0           NaN  "
      ]
     },
     "execution_count": 15,
     "metadata": {},
     "output_type": "execute_result"
    }
   ],
   "source": [
    "df_merzy.head(1)"
   ]
  },
  {
   "cell_type": "markdown",
   "id": "48e68146-974a-4208-b8e2-a429c934ece6",
   "metadata": {},
   "source": [
    "### Drop irrelevant columns"
   ]
  },
  {
   "cell_type": "code",
   "execution_count": 18,
   "id": "4ac74df0-a090-4f03-80de-ff42cdcc4730",
   "metadata": {},
   "outputs": [],
   "source": [
    "df_merzy.drop(columns=['Unnamed: 0', 'Rating Delivery Service', 'Rating Product Quality', 'Rating Seller Service', 'Region', 'Photos', \n",
    "                       'Videos', 'Profile Url', 'Review Url', 'Unnamed: 17', 'Unnamed: 18', 'Unnamed: 19', '(view source)'], inplace=True)"
   ]
  },
  {
   "cell_type": "code",
   "execution_count": 21,
   "id": "166a1d3a-92b0-4d37-b509-049d73c337ea",
   "metadata": {},
   "outputs": [],
   "source": [
    "df_merzy.rename(columns={'Unnamed: 1': 'Seller', 'Author': 'Customer'}, inplace=True)"
   ]
  },
  {
   "cell_type": "code",
   "execution_count": 24,
   "id": "1d929622-b05f-45f1-81e3-a83ee6a7c9c9",
   "metadata": {},
   "outputs": [
    {
     "name": "stdout",
     "output_type": "stream",
     "text": [
      "<class 'pandas.core.frame.DataFrame'>\n",
      "RangeIndex: 19837 entries, 0 to 19836\n",
      "Data columns (total 8 columns):\n",
      " #   Column            Non-Null Count  Dtype         \n",
      "---  ------            --------------  -----         \n",
      " 0   Seller            0 non-null      float64       \n",
      " 1   Customer          19757 non-null  object        \n",
      " 2   Date              19837 non-null  datetime64[ns]\n",
      " 3   Rating            19837 non-null  int64         \n",
      " 4   Review            16587 non-null  object        \n",
      " 5   Version           19837 non-null  object        \n",
      " 6   Oversea Shopping  19837 non-null  object        \n",
      " 7   Picture included  19837 non-null  object        \n",
      "dtypes: datetime64[ns](1), float64(1), int64(1), object(5)\n",
      "memory usage: 1.2+ MB\n"
     ]
    }
   ],
   "source": [
    "df_merzy.info()"
   ]
  },
  {
   "cell_type": "code",
   "execution_count": 59,
   "id": "819426e6-24d1-4cd9-8ccc-bc85326f214e",
   "metadata": {},
   "outputs": [],
   "source": [
    "df_merzy['Seller'].fillna('Merzy Official Store', inplace=True)"
   ]
  },
  {
   "cell_type": "code",
   "execution_count": 78,
   "id": "6408501d-6a6e-430c-888c-79504a553191",
   "metadata": {},
   "outputs": [],
   "source": [
    "df_merzy['Seller'].iloc[4690:(4690+3030)] = df_merzy['Seller'].iloc[4690:(4690+3030)].str.replace('Merzy Official Store', 'Thế Giới Skin Food', regex=True)"
   ]
  },
  {
   "cell_type": "code",
   "execution_count": 79,
   "id": "f07badb9-a54e-463b-8a5f-581b813c0323",
   "metadata": {},
   "outputs": [
    {
     "data": {
      "text/plain": [
       "(36, 8)"
      ]
     },
     "execution_count": 79,
     "metadata": {},
     "output_type": "execute_result"
    }
   ],
   "source": [
    "df_merzy_dup = df_merzy.loc[df_merzy.duplicated() == True]\n",
    "df_merzy_dup.shape"
   ]
  },
  {
   "cell_type": "markdown",
   "id": "52b3bae3-f6d4-45f1-a877-16c328ce9e3e",
   "metadata": {},
   "source": [
    "# Roughly preprocessed data for comment analysis"
   ]
  },
  {
   "cell_type": "code",
   "execution_count": 135,
   "id": "670367bc-e2da-4e32-881d-f5a7fc7e5ff1",
   "metadata": {},
   "outputs": [],
   "source": [
    "df_merzy_cleaned = df_merzy.loc[df_merzy['Review'].notna() == True].reset_index()\n",
    "df_merzy_cleaned.drop(columns=['index'], inplace=True)"
   ]
  },
  {
   "cell_type": "code",
   "execution_count": 136,
   "id": "ca83201e",
   "metadata": {},
   "outputs": [
    {
     "data": {
      "text/plain": [
       "(16587, 8)"
      ]
     },
     "execution_count": 136,
     "metadata": {},
     "output_type": "execute_result"
    }
   ],
   "source": [
    "df_merzy_cleaned.shape"
   ]
  },
  {
   "cell_type": "code",
   "execution_count": 138,
   "id": "ad4380f4-5250-4c67-b667-ff9991817ef1",
   "metadata": {},
   "outputs": [
    {
     "data": {
      "text/html": [
       "<div>\n",
       "<style scoped>\n",
       "    .dataframe tbody tr th:only-of-type {\n",
       "        vertical-align: middle;\n",
       "    }\n",
       "\n",
       "    .dataframe tbody tr th {\n",
       "        vertical-align: top;\n",
       "    }\n",
       "\n",
       "    .dataframe thead th {\n",
       "        text-align: right;\n",
       "    }\n",
       "</style>\n",
       "<table border=\"1\" class=\"dataframe\">\n",
       "  <thead>\n",
       "    <tr style=\"text-align: right;\">\n",
       "      <th></th>\n",
       "      <th>Seller</th>\n",
       "      <th>Customer</th>\n",
       "      <th>Date</th>\n",
       "      <th>Rating</th>\n",
       "      <th>Review</th>\n",
       "      <th>Version</th>\n",
       "      <th>Oversea Shopping</th>\n",
       "      <th>Picture included</th>\n",
       "    </tr>\n",
       "  </thead>\n",
       "  <tbody>\n",
       "    <tr>\n",
       "      <th>0</th>\n",
       "      <td>Merzy Official Store</td>\n",
       "      <td>t*****2</td>\n",
       "      <td>2023-10-17 01:13:00</td>\n",
       "      <td>5</td>\n",
       "      <td>Son đẹp, giao hàng nhanh, đóng gói sản phẩm chắc chắn, sản phẩm như hình ❤️❤️</td>\n",
       "      <td>🆕 CM4</td>\n",
       "      <td>no</td>\n",
       "      <td>no</td>\n",
       "    </tr>\n",
       "    <tr>\n",
       "      <th>1</th>\n",
       "      <td>Merzy Official Store</td>\n",
       "      <td>nguyentrang.2901</td>\n",
       "      <td>2023-10-18 03:31:00</td>\n",
       "      <td>5</td>\n",
       "      <td>Son mùi hơi kì tí 🥲 , màu nghiên về cam đất tí , độ bám vừa không quá lâu_x000D_\\nhttps://cf.sho...</td>\n",
       "      <td>🆕 CM6</td>\n",
       "      <td>no</td>\n",
       "      <td>yes</td>\n",
       "    </tr>\n",
       "    <tr>\n",
       "      <th>2</th>\n",
       "      <td>Merzy Official Store</td>\n",
       "      <td>quyentruongdo</td>\n",
       "      <td>2023-10-18 03:40:00</td>\n",
       "      <td>5</td>\n",
       "      <td>Chất son mịn, mùi thơm trái cây_x000D_\\nhttps://cf.shopee.vn/file/vn-11134103-7r98o-lmzjhxxd1xi0...</td>\n",
       "      <td>🆕 CM5</td>\n",
       "      <td>no</td>\n",
       "      <td>yes</td>\n",
       "    </tr>\n",
       "    <tr>\n",
       "      <th>3</th>\n",
       "      <td>Merzy Official Store</td>\n",
       "      <td>phucan23678</td>\n",
       "      <td>2023-10-18 04:03:00</td>\n",
       "      <td>5</td>\n",
       "      <td>Trời ơi màu xinh xỉu \\nChất son mịn như nhungg :33</td>\n",
       "      <td>🆕 CM6</td>\n",
       "      <td>no</td>\n",
       "      <td>no</td>\n",
       "    </tr>\n",
       "    <tr>\n",
       "      <th>4</th>\n",
       "      <td>Merzy Official Store</td>\n",
       "      <td>hoaan_nguyen</td>\n",
       "      <td>2023-10-18 06:11:00</td>\n",
       "      <td>5</td>\n",
       "      <td>Màu xinh vãi chất son thì khỏi bàn r mấy bà ơi chốt trên live nên rẻ, tui sợ cm3 sẽ base hồng nh...</td>\n",
       "      <td>🆕 CM3</td>\n",
       "      <td>no</td>\n",
       "      <td>yes</td>\n",
       "    </tr>\n",
       "  </tbody>\n",
       "</table>\n",
       "</div>"
      ],
      "text/plain": [
       "                 Seller          Customer                Date  Rating  \\\n",
       "0  Merzy Official Store           t*****2 2023-10-17 01:13:00       5   \n",
       "1  Merzy Official Store  nguyentrang.2901 2023-10-18 03:31:00       5   \n",
       "2  Merzy Official Store     quyentruongdo 2023-10-18 03:40:00       5   \n",
       "3  Merzy Official Store       phucan23678 2023-10-18 04:03:00       5   \n",
       "4  Merzy Official Store      hoaan_nguyen 2023-10-18 06:11:00       5   \n",
       "\n",
       "                                                                                                Review  \\\n",
       "0                        Son đẹp, giao hàng nhanh, đóng gói sản phẩm chắc chắn, sản phẩm như hình ❤️❤️   \n",
       "1  Son mùi hơi kì tí 🥲 , màu nghiên về cam đất tí , độ bám vừa không quá lâu_x000D_\\nhttps://cf.sho...   \n",
       "2  Chất son mịn, mùi thơm trái cây_x000D_\\nhttps://cf.shopee.vn/file/vn-11134103-7r98o-lmzjhxxd1xi0...   \n",
       "3                                                   Trời ơi màu xinh xỉu \\nChất son mịn như nhungg :33   \n",
       "4  Màu xinh vãi chất son thì khỏi bàn r mấy bà ơi chốt trên live nên rẻ, tui sợ cm3 sẽ base hồng nh...   \n",
       "\n",
       "  Version Oversea Shopping Picture included  \n",
       "0   🆕 CM4               no               no  \n",
       "1   🆕 CM6               no              yes  \n",
       "2   🆕 CM5               no              yes  \n",
       "3   🆕 CM6               no               no  \n",
       "4   🆕 CM3               no              yes  "
      ]
     },
     "execution_count": 138,
     "metadata": {},
     "output_type": "execute_result"
    }
   ],
   "source": [
    "df_merzy_cleaned.head()"
   ]
  },
  {
   "cell_type": "markdown",
   "id": "f9beb8e3-4554-42ae-8972-4abbe90f32df",
   "metadata": {},
   "source": [
    "### Fill in missing customer names"
   ]
  },
  {
   "cell_type": "code",
   "execution_count": 161,
   "id": "1e9e6926-e4bf-482b-903a-8cb28902e86d",
   "metadata": {},
   "outputs": [],
   "source": [
    "list_na_index = df_merzy_cleaned.loc[df_merzy_cleaned['Customer'].notna() == False].index.values"
   ]
  },
  {
   "cell_type": "code",
   "execution_count": 163,
   "id": "82eb160a-06fb-4fd2-994c-1e41bd0b8b0c",
   "metadata": {},
   "outputs": [],
   "source": [
    "for i in list_na_index:\n",
    "    df_merzy_cleaned.at[i, 'Customer'] = f'Customer #{i}'"
   ]
  },
  {
   "cell_type": "markdown",
   "id": "64d4cfee-5353-47d4-8b4e-0585f02090e1",
   "metadata": {},
   "source": [
    "### Drop duplicated reviews"
   ]
  },
  {
   "cell_type": "code",
   "execution_count": 171,
   "id": "1199e6d4-fa7b-43f4-b185-824c6bf3e6c7",
   "metadata": {},
   "outputs": [],
   "source": [
    "df_merzy_cleaned.drop_duplicates(keep='first', inplace=True)"
   ]
  },
  {
   "cell_type": "markdown",
   "id": "9a4bee07-2b35-4558-a28f-484f3e70c708",
   "metadata": {},
   "source": [
    "### Data Overview"
   ]
  },
  {
   "cell_type": "code",
   "execution_count": 172,
   "id": "e1105279-e10c-45e0-9fd1-89c37e972494",
   "metadata": {},
   "outputs": [
    {
     "data": {
      "text/html": [
       "<div>\n",
       "<style scoped>\n",
       "    .dataframe tbody tr th:only-of-type {\n",
       "        vertical-align: middle;\n",
       "    }\n",
       "\n",
       "    .dataframe tbody tr th {\n",
       "        vertical-align: top;\n",
       "    }\n",
       "\n",
       "    .dataframe thead th {\n",
       "        text-align: right;\n",
       "    }\n",
       "</style>\n",
       "<table border=\"1\" class=\"dataframe\">\n",
       "  <thead>\n",
       "    <tr style=\"text-align: right;\">\n",
       "      <th></th>\n",
       "      <th>Rating</th>\n",
       "    </tr>\n",
       "  </thead>\n",
       "  <tbody>\n",
       "    <tr>\n",
       "      <th>count</th>\n",
       "      <td>16575.000000</td>\n",
       "    </tr>\n",
       "    <tr>\n",
       "      <th>mean</th>\n",
       "      <td>4.911131</td>\n",
       "    </tr>\n",
       "    <tr>\n",
       "      <th>std</th>\n",
       "      <td>0.430390</td>\n",
       "    </tr>\n",
       "    <tr>\n",
       "      <th>min</th>\n",
       "      <td>1.000000</td>\n",
       "    </tr>\n",
       "    <tr>\n",
       "      <th>25%</th>\n",
       "      <td>5.000000</td>\n",
       "    </tr>\n",
       "    <tr>\n",
       "      <th>50%</th>\n",
       "      <td>5.000000</td>\n",
       "    </tr>\n",
       "    <tr>\n",
       "      <th>75%</th>\n",
       "      <td>5.000000</td>\n",
       "    </tr>\n",
       "    <tr>\n",
       "      <th>max</th>\n",
       "      <td>5.000000</td>\n",
       "    </tr>\n",
       "  </tbody>\n",
       "</table>\n",
       "</div>"
      ],
      "text/plain": [
       "             Rating\n",
       "count  16575.000000\n",
       "mean       4.911131\n",
       "std        0.430390\n",
       "min        1.000000\n",
       "25%        5.000000\n",
       "50%        5.000000\n",
       "75%        5.000000\n",
       "max        5.000000"
      ]
     },
     "execution_count": 172,
     "metadata": {},
     "output_type": "execute_result"
    }
   ],
   "source": [
    "df_merzy_cleaned.describe()"
   ]
  },
  {
   "cell_type": "code",
   "execution_count": 173,
   "id": "c4cdcc42-e1dd-4f7a-8814-85155e6188a4",
   "metadata": {},
   "outputs": [
    {
     "name": "stdout",
     "output_type": "stream",
     "text": [
      "<class 'pandas.core.frame.DataFrame'>\n",
      "Int64Index: 16575 entries, 0 to 16586\n",
      "Data columns (total 8 columns):\n",
      " #   Column            Non-Null Count  Dtype         \n",
      "---  ------            --------------  -----         \n",
      " 0   Seller            16575 non-null  object        \n",
      " 1   Customer          16575 non-null  object        \n",
      " 2   Date              16575 non-null  datetime64[ns]\n",
      " 3   Rating            16575 non-null  int64         \n",
      " 4   Review            16575 non-null  object        \n",
      " 5   Version           16575 non-null  object        \n",
      " 6   Oversea Shopping  16575 non-null  object        \n",
      " 7   Picture included  16575 non-null  object        \n",
      "dtypes: datetime64[ns](1), int64(1), object(6)\n",
      "memory usage: 1.1+ MB\n"
     ]
    }
   ],
   "source": [
    "df_merzy_cleaned.info()"
   ]
  },
  {
   "cell_type": "code",
   "execution_count": 174,
   "id": "e3e27e41-908a-4c3f-80ac-3491873dae6c",
   "metadata": {},
   "outputs": [],
   "source": [
    "# df_merzy_cleaned.to_excel('raw_cleaned_merzy.xlsx', index=False)"
   ]
  },
  {
   "cell_type": "markdown",
   "id": "1da550d3-f9df-495a-b5a1-c66fca7f04ba",
   "metadata": {},
   "source": [
    "# Import original data - Focallure"
   ]
  },
  {
   "cell_type": "code",
   "execution_count": 5,
   "id": "deb57e5a-0f0d-457f-99fb-69094cfaf442",
   "metadata": {},
   "outputs": [],
   "source": [
    "pd.set_option(\"display.max_colwidth\", 200)\n",
    "pd.set_option(\"display.max_columns\", 21)"
   ]
  },
  {
   "cell_type": "code",
   "execution_count": 23,
   "id": "2660765b-1ef8-4028-90c6-66644402c5e1",
   "metadata": {},
   "outputs": [],
   "source": [
    "foc_paths = ['Shopee_data/focallure/foc.xlsx', 'Shopee_data/focallure/foc1.xlsx', 'Shopee_data/focallure/foc2.xlsx', 'Shopee_data/focallure/foc3.xlsx',\n",
    "           'Shopee_data/focallure/foc4.xlsx', 'Shopee_data/focallure/foc5.xlsx', 'Shopee_data/focallure/foc6.xlsx', 'Shopee_data/focallure/foc7.xlsx',\n",
    "           'Shopee_data/focallure/foc8.xlsx', 'Shopee_data/focallure/foc9.xlsx', 'Shopee_data/focallure/foc10.xlsx', 'Shopee_data/focallure/foc11.xlsx',\n",
    "           'Shopee_data/focallure/foc12.xlsx', 'Shopee_data/focallure/foc13.xlsx', 'Shopee_data/focallure/foc14.xlsx', 'Shopee_data/focallure/foc15.xlsx',\n",
    "           'Shopee_data/focallure/foc16.xlsx']\n",
    "dfs = []\n",
    "for path in foc_paths:\n",
    "    df = pd.read_excel(path)\n",
    "    dfs.append(df)"
   ]
  },
  {
   "cell_type": "code",
   "execution_count": 24,
   "id": "97b5c6ef-1a66-4507-8c5e-afc537d59a52",
   "metadata": {},
   "outputs": [],
   "source": [
    "foc_df = pd.concat(dfs, ignore_index=True)"
   ]
  },
  {
   "cell_type": "code",
   "execution_count": 10,
   "id": "1c91089c-ed73-4a30-a845-7fca0ecc70ca",
   "metadata": {},
   "outputs": [],
   "source": [
    "# foc_df.to_excel('focallure_data_og.xlsx', index=False)"
   ]
  },
  {
   "cell_type": "code",
   "execution_count": 25,
   "id": "fe76f4bf-4b01-413b-97f0-11ddf7707180",
   "metadata": {},
   "outputs": [],
   "source": [
    "foc_df = pd.read_excel('focallure_data_og.xlsx')"
   ]
  },
  {
   "cell_type": "code",
   "execution_count": 26,
   "id": "f5ddaa4c-10c3-42e5-9ee3-2ea7a62a08e0",
   "metadata": {},
   "outputs": [
    {
     "data": {
      "text/html": [
       "<div>\n",
       "<style scoped>\n",
       "    .dataframe tbody tr th:only-of-type {\n",
       "        vertical-align: middle;\n",
       "    }\n",
       "\n",
       "    .dataframe tbody tr th {\n",
       "        vertical-align: top;\n",
       "    }\n",
       "\n",
       "    .dataframe thead th {\n",
       "        text-align: right;\n",
       "    }\n",
       "</style>\n",
       "<table border=\"1\" class=\"dataframe\">\n",
       "  <thead>\n",
       "    <tr style=\"text-align: right;\">\n",
       "      <th></th>\n",
       "      <th>Unnamed: 0</th>\n",
       "      <th>Unnamed: 1</th>\n",
       "      <th>Author</th>\n",
       "      <th>Date</th>\n",
       "      <th>Rating</th>\n",
       "      <th>Rating Delivery Service</th>\n",
       "      <th>Rating Product Quality</th>\n",
       "      <th>Rating Seller Service</th>\n",
       "      <th>Review</th>\n",
       "      <th>Version</th>\n",
       "      <th>Oversea Shopping</th>\n",
       "      <th>Region</th>\n",
       "      <th>Picture included</th>\n",
       "      <th>Photos</th>\n",
       "      <th>Videos</th>\n",
       "      <th>(view source)</th>\n",
       "      <th>Seller</th>\n",
       "    </tr>\n",
       "  </thead>\n",
       "  <tbody>\n",
       "    <tr>\n",
       "      <th>0</th>\n",
       "      <td>1</td>\n",
       "      <td>NaN</td>\n",
       "      <td>diutranghong276</td>\n",
       "      <td>2023-11-20 13:21:14</td>\n",
       "      <td>5</td>\n",
       "      <td>5</td>\n",
       "      <td>5</td>\n",
       "      <td>5</td>\n",
       "      <td>Công dụng:makeup\\nĐộ bền màu:siêu bền luôn í\\n\\nson phải goin là siêu bền luôn, lớp tint màu xinh lắm lun rất rcm mn mua ạaaa\\nhttps://cf.shopee.vn/file/vn-11134103-7r98o-lob7tnazdx1nff\\nhttps://c...</td>\n",
       "      <td>#RD02</td>\n",
       "      <td>no</td>\n",
       "      <td>vn</td>\n",
       "      <td>yes</td>\n",
       "      <td>https://cf.shopee.vn/file/vn-11134103-7r98o-lob7tnazdx1nff, https://cf.shopee.vn/file/vn-11134103-7r98o-lob7tnaztczb28</td>\n",
       "      <td>NaN</td>\n",
       "      <td>view review</td>\n",
       "      <td>NaN</td>\n",
       "    </tr>\n",
       "  </tbody>\n",
       "</table>\n",
       "</div>"
      ],
      "text/plain": [
       "   Unnamed: 0  Unnamed: 1           Author                Date  Rating  \\\n",
       "0           1         NaN  diutranghong276 2023-11-20 13:21:14       5   \n",
       "\n",
       "   Rating Delivery Service  Rating Product Quality  Rating Seller Service  \\\n",
       "0                        5                       5                      5   \n",
       "\n",
       "                                                                                                                                                                                                    Review  \\\n",
       "0  Công dụng:makeup\\nĐộ bền màu:siêu bền luôn í\\n\\nson phải goin là siêu bền luôn, lớp tint màu xinh lắm lun rất rcm mn mua ạaaa\\nhttps://cf.shopee.vn/file/vn-11134103-7r98o-lob7tnazdx1nff\\nhttps://c...   \n",
       "\n",
       "  Version Oversea Shopping Region Picture included  \\\n",
       "0   #RD02               no     vn              yes   \n",
       "\n",
       "                                                                                                                   Photos  \\\n",
       "0  https://cf.shopee.vn/file/vn-11134103-7r98o-lob7tnazdx1nff, https://cf.shopee.vn/file/vn-11134103-7r98o-lob7tnaztczb28   \n",
       "\n",
       "  Videos (view source)  Seller  \n",
       "0    NaN   view review     NaN  "
      ]
     },
     "execution_count": 26,
     "metadata": {},
     "output_type": "execute_result"
    }
   ],
   "source": [
    "foc_df.head(1)"
   ]
  },
  {
   "cell_type": "markdown",
   "id": "1520b1dc-58ca-49a7-9a24-e57ce73e7d01",
   "metadata": {},
   "source": [
    "### Drop irrelevant columns amd duplicated comments"
   ]
  },
  {
   "cell_type": "code",
   "execution_count": 27,
   "id": "88d76276-2fc9-4bf3-b0c5-085f77c98b92",
   "metadata": {},
   "outputs": [],
   "source": [
    "foc_df.drop(columns=['Unnamed: 0', 'Rating Delivery Service', 'Rating Product Quality', 'Rating Seller Service', 'Region', 'Photos', \n",
    "                       'Videos', '(view source)', 'Seller'], inplace=True)"
   ]
  },
  {
   "cell_type": "code",
   "execution_count": 28,
   "id": "b72b4bb8-7012-4e1d-8378-6bb0da676874",
   "metadata": {},
   "outputs": [],
   "source": [
    "foc_df.rename(columns={'Unnamed: 1': 'Seller', 'Author': 'Customer'}, inplace=True)"
   ]
  },
  {
   "cell_type": "code",
   "execution_count": 31,
   "id": "afdab1dc-9297-4cdf-832b-296225bc56cf",
   "metadata": {},
   "outputs": [],
   "source": [
    "foc_df['Seller'].fillna('Focallure Official', inplace=True)"
   ]
  },
  {
   "cell_type": "code",
   "execution_count": 35,
   "id": "66c3de00-cddf-410e-b96e-a79c9117c929",
   "metadata": {},
   "outputs": [],
   "source": [
    "foc_cleaned = foc_df.loc[foc_df['Review'].notna() == True].reset_index()\n",
    "foc_cleaned.drop(columns=['index'], inplace=True)"
   ]
  },
  {
   "cell_type": "code",
   "execution_count": 37,
   "id": "1b163e61-97ed-4f4f-ae71-b6076822c7f5",
   "metadata": {},
   "outputs": [],
   "source": [
    "foc_cleaned.drop_duplicates(keep='first', inplace=True)"
   ]
  },
  {
   "cell_type": "markdown",
   "id": "18d49e6c-e110-472c-b081-2aa80d79b724",
   "metadata": {},
   "source": [
    "### Fill in missing customer names"
   ]
  },
  {
   "cell_type": "code",
   "execution_count": 38,
   "id": "5e3a77be-fc07-42e5-b1f4-d7ac78a5d752",
   "metadata": {},
   "outputs": [],
   "source": [
    "list_na_index = foc_cleaned.loc[foc_cleaned['Customer'].notna() == False].index.values\n",
    "for i in list_na_index:\n",
    "    foc_cleaned.at[i, 'Customer'] = f'Customer #{i}'"
   ]
  },
  {
   "cell_type": "code",
   "execution_count": 48,
   "id": "bee33918-853d-48c4-bc86-ed9916c3b59a",
   "metadata": {},
   "outputs": [
    {
     "data": {
      "text/plain": [
       "(26505, 8)"
      ]
     },
     "execution_count": 48,
     "metadata": {},
     "output_type": "execute_result"
    }
   ],
   "source": [
    "foc_cleaned.shape"
   ]
  },
  {
   "cell_type": "code",
   "execution_count": 38,
   "id": "4032b4b5-3cbd-424d-8d3f-1074095d06cb",
   "metadata": {},
   "outputs": [
    {
     "data": {
      "text/html": [
       "<div>\n",
       "<style scoped>\n",
       "    .dataframe tbody tr th:only-of-type {\n",
       "        vertical-align: middle;\n",
       "    }\n",
       "\n",
       "    .dataframe tbody tr th {\n",
       "        vertical-align: top;\n",
       "    }\n",
       "\n",
       "    .dataframe thead th {\n",
       "        text-align: right;\n",
       "    }\n",
       "</style>\n",
       "<table border=\"1\" class=\"dataframe\">\n",
       "  <thead>\n",
       "    <tr style=\"text-align: right;\">\n",
       "      <th></th>\n",
       "      <th>Seller</th>\n",
       "      <th>Customer</th>\n",
       "      <th>Date</th>\n",
       "      <th>Rating</th>\n",
       "      <th>Review</th>\n",
       "      <th>Version</th>\n",
       "      <th>Oversea Shopping</th>\n",
       "      <th>Picture included</th>\n",
       "    </tr>\n",
       "  </thead>\n",
       "  <tbody>\n",
       "    <tr>\n",
       "      <th>0</th>\n",
       "      <td>Focallure Official</td>\n",
       "      <td>diutranghong276</td>\n",
       "      <td>2023-11-20 13:21:14</td>\n",
       "      <td>5</td>\n",
       "      <td>Công dụng:makeup\\nĐộ bền màu:siêu bền luôn í\\n\\nson phải goin là siêu bền luôn, lớp tint màu xinh lắm lun rất rcm mn mua ạaaa\\nhttps://cf.shopee.vn/file/vn-11134103-7r98o-lob7tnazdx1nff\\nhttps://c...</td>\n",
       "      <td>#RD02</td>\n",
       "      <td>no</td>\n",
       "      <td>yes</td>\n",
       "    </tr>\n",
       "  </tbody>\n",
       "</table>\n",
       "</div>"
      ],
      "text/plain": [
       "               Seller         Customer                Date  Rating  \\\n",
       "0  Focallure Official  diutranghong276 2023-11-20 13:21:14       5   \n",
       "\n",
       "                                                                                                                                                                                                    Review  \\\n",
       "0  Công dụng:makeup\\nĐộ bền màu:siêu bền luôn í\\n\\nson phải goin là siêu bền luôn, lớp tint màu xinh lắm lun rất rcm mn mua ạaaa\\nhttps://cf.shopee.vn/file/vn-11134103-7r98o-lob7tnazdx1nff\\nhttps://c...   \n",
       "\n",
       "  Version Oversea Shopping Picture included  \n",
       "0   #RD02               no              yes  "
      ]
     },
     "execution_count": 38,
     "metadata": {},
     "output_type": "execute_result"
    }
   ],
   "source": [
    "foc_cleaned.head(1)"
   ]
  },
  {
   "cell_type": "code",
   "execution_count": 39,
   "id": "51be994d-310f-4baa-8bd0-b50bbf1afbb2",
   "metadata": {},
   "outputs": [],
   "source": [
    "foc_cleaned.to_excel('raw_cleaned_foc.xlsx', index=False)"
   ]
  }
 ],
 "metadata": {
  "kernelspec": {
   "display_name": "Python 3 (ipykernel)",
   "language": "python",
   "name": "python3"
  },
  "language_info": {
   "codemirror_mode": {
    "name": "ipython",
    "version": 3
   },
   "file_extension": ".py",
   "mimetype": "text/x-python",
   "name": "python",
   "nbconvert_exporter": "python",
   "pygments_lexer": "ipython3",
   "version": "3.11.4"
  }
 },
 "nbformat": 4,
 "nbformat_minor": 5
}
